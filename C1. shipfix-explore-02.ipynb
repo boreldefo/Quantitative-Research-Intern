{
 "cells": [
  {
   "cell_type": "markdown",
   "id": "e7b58be0-c628-4746-8566-2f3edc00d7f6",
   "metadata": {},
   "source": [
    "# Read shipfix data and prepare them"
   ]
  },
  {
   "cell_type": "code",
   "execution_count": 12,
   "id": "a3f41f30-1b2c-4ede-a576-147cb877193d",
   "metadata": {},
   "outputs": [],
   "source": [
    "import pandas \n",
    "import numpy as np\n",
    "import matplotlib.pyplot as plt\n"
   ]
  },
  {
   "cell_type": "markdown",
   "id": "bdf62389-4b1a-4b16-84fa-cc005458167d",
   "metadata": {},
   "source": [
    "# TODO\n",
    "\n",
    "il y a du recouvrement avec `Regression` (stop après l'export pickle)"
   ]
  },
  {
   "cell_type": "markdown",
   "id": "ebe86970-67d9-44e7-993d-ea47e641a709",
   "metadata": {},
   "source": [
    "# Exploration of the shipfix data"
   ]
  },
  {
   "cell_type": "code",
   "execution_count": 13,
   "id": "d4c5652b-4612-4a3c-ba12-ce87f6ad6c6c",
   "metadata": {},
   "outputs": [
    {
     "name": "stdout",
     "output_type": "stream",
     "text": [
      "The autoreload extension is already loaded. To reload it, use:\n",
      "  %reload_ext autoreload\n"
     ]
    }
   ],
   "source": [
    "%load_ext autoreload\n",
    "%autoreload 2"
   ]
  },
  {
   "cell_type": "code",
   "execution_count": 14,
   "id": "045c75f1-07a6-4816-b39b-616065745956",
   "metadata": {},
   "outputs": [],
   "source": [
    "import io_loader"
   ]
  },
  {
   "cell_type": "code",
   "execution_count": null,
   "id": "58ff22f1-7f0b-4a68-b24b-e2220cf79e95",
   "metadata": {},
   "outputs": [],
   "source": [
    "data_container = io_loader.DataConfigurator()\n",
    "data_container.dirs"
   ]
  },
  {
   "cell_type": "code",
   "execution_count": 59,
   "id": "a3b4c829-22bc-4439-bbd1-bc1f0c3c8197",
   "metadata": {},
   "outputs": [],
   "source": [
    "save_concatenated_and_truncated_ts_in = \"./data_out/all_from_to.pkl\""
   ]
  },
  {
   "cell_type": "code",
   "execution_count": 16,
   "id": "501da786-3a4c-4082-8cf6-b55d8a0a21f7",
   "metadata": {},
   "outputs": [
    {
     "name": "stdout",
     "output_type": "stream",
     "text": [
      "loading from ./data_in/shipfix/export_coal...\n"
     ]
    },
    {
     "data": {
      "application/vnd.jupyter.widget-view+json": {
       "model_id": "b2601efa80904250a965f3d9adc498dd",
       "version_major": 2,
       "version_minor": 0
      },
      "text/plain": [
       "  0%|          | 0/5 [00:00<?, ?it/s]"
      ]
     },
     "metadata": {},
     "output_type": "display_data"
    },
    {
     "name": "stdout",
     "output_type": "stream",
     "text": [
      "...5 files loaded.\n",
      "loading from ./data_in/shipfix/import_coal...\n"
     ]
    },
    {
     "data": {
      "application/vnd.jupyter.widget-view+json": {
       "model_id": "fb7d06bf58ff4a608d2ebd808c2da93f",
       "version_major": 2,
       "version_minor": 0
      },
      "text/plain": [
       "  0%|          | 0/9 [00:00<?, ?it/s]"
      ]
     },
     "metadata": {},
     "output_type": "display_data"
    },
    {
     "name": "stdout",
     "output_type": "stream",
     "text": [
      "...9 files loaded.\n"
     ]
    }
   ],
   "source": [
    "data_container.load_all()"
   ]
  },
  {
   "cell_type": "code",
   "execution_count": 17,
   "id": "61e77ff4-e986-48d5-8b5d-9443c7161279",
   "metadata": {},
   "outputs": [
    {
     "name": "stdout",
     "output_type": "stream",
     "text": [
      "Done:\n",
      "... export to  ['Indonesia', 'Australia', 'SAFR', 'US', 'Russia']\n",
      "... import in ['India', 'China', 'Vietnam', 'Japan', 'South Korea']\n"
     ]
    }
   ],
   "source": [
    "data_container.define_import_export()"
   ]
  },
  {
   "cell_type": "code",
   "execution_count": 18,
   "id": "d9c33462-f36b-47ba-aa0a-19afc85cd9ea",
   "metadata": {},
   "outputs": [
    {
     "data": {
      "text/plain": [
       "['Indonesia', 'Australia', 'SAFR', 'US', 'Russia']"
      ]
     },
     "execution_count": 18,
     "metadata": {},
     "output_type": "execute_result"
    }
   ],
   "source": [
    "data_container.export_to_countries"
   ]
  },
  {
   "cell_type": "code",
   "execution_count": 19,
   "id": "9029fa9b-11b4-4d0c-a2ce-0609269fe577",
   "metadata": {},
   "outputs": [],
   "source": [
    "day='2021-03-10'"
   ]
  },
  {
   "cell_type": "code",
   "execution_count": 20,
   "id": "aed3598d-46da-4b58-963d-524c8243497a",
   "metadata": {},
   "outputs": [
    {
     "name": "stderr",
     "output_type": "stream",
     "text": [
      "/home/jovyan/persistent/notebooks/shipping_3A/io_loader.py:135: FutureWarning:\n",
      "\n",
      "Downcasting object dtype arrays on .fillna, .ffill, .bfill is deprecated and will change in a future version. Call result.infer_objects(copy=False) instead. To opt-in to the future behavior, set `pd.set_option('future.no_silent_downcasting', True)`\n",
      "\n"
     ]
    }
   ],
   "source": [
    "day_exports_all_trunc_df, day_exports_to, day_imports_in = data_container.export_on(day='2021-03-10')"
   ]
  },
  {
   "cell_type": "code",
   "execution_count": 21,
   "id": "ca4cc53b-2013-4a80-9b37-f9152e552daf",
   "metadata": {},
   "outputs": [
    {
     "data": {
      "text/html": [
       "<div>\n",
       "<style scoped>\n",
       "    .dataframe tbody tr th:only-of-type {\n",
       "        vertical-align: middle;\n",
       "    }\n",
       "\n",
       "    .dataframe tbody tr th {\n",
       "        vertical-align: top;\n",
       "    }\n",
       "\n",
       "    .dataframe thead th {\n",
       "        text-align: right;\n",
       "    }\n",
       "</style>\n",
       "<table border=\"1\" class=\"dataframe\">\n",
       "  <thead>\n",
       "    <tr style=\"text-align: right;\">\n",
       "      <th></th>\n",
       "      <th>India</th>\n",
       "      <th>China</th>\n",
       "      <th>Vietnam</th>\n",
       "      <th>Japan</th>\n",
       "      <th>South Korea</th>\n",
       "      <th>Others</th>\n",
       "    </tr>\n",
       "  </thead>\n",
       "  <tbody>\n",
       "    <tr>\n",
       "      <th>Indonesia</th>\n",
       "      <td>988234</td>\n",
       "      <td>36710</td>\n",
       "      <td>172537</td>\n",
       "      <td>0</td>\n",
       "      <td>145373</td>\n",
       "      <td>292211</td>\n",
       "    </tr>\n",
       "    <tr>\n",
       "      <th>Australia</th>\n",
       "      <td>117472</td>\n",
       "      <td>0</td>\n",
       "      <td>0</td>\n",
       "      <td>0</td>\n",
       "      <td>58736</td>\n",
       "      <td>128486</td>\n",
       "    </tr>\n",
       "    <tr>\n",
       "      <th>SAFR</th>\n",
       "      <td>108662</td>\n",
       "      <td>0</td>\n",
       "      <td>0</td>\n",
       "      <td>0</td>\n",
       "      <td>0</td>\n",
       "      <td>84433</td>\n",
       "    </tr>\n",
       "    <tr>\n",
       "      <th>US</th>\n",
       "      <td>0</td>\n",
       "      <td>0</td>\n",
       "      <td>0</td>\n",
       "      <td>0</td>\n",
       "      <td>0</td>\n",
       "      <td>139498</td>\n",
       "    </tr>\n",
       "    <tr>\n",
       "      <th>Russia</th>\n",
       "      <td>22026</td>\n",
       "      <td>259172</td>\n",
       "      <td>0</td>\n",
       "      <td>161523</td>\n",
       "      <td>88838</td>\n",
       "      <td>328188</td>\n",
       "    </tr>\n",
       "    <tr>\n",
       "      <th>Others</th>\n",
       "      <td>99117</td>\n",
       "      <td>408215</td>\n",
       "      <td>0</td>\n",
       "      <td>38912</td>\n",
       "      <td>66078</td>\n",
       "      <td>0</td>\n",
       "    </tr>\n",
       "  </tbody>\n",
       "</table>\n",
       "</div>"
      ],
      "text/plain": [
       "            India   China  Vietnam   Japan  South Korea  Others\n",
       "Indonesia  988234   36710   172537       0       145373  292211\n",
       "Australia  117472       0        0       0        58736  128486\n",
       "SAFR       108662       0        0       0            0   84433\n",
       "US              0       0        0       0            0  139498\n",
       "Russia      22026  259172        0  161523        88838  328188\n",
       "Others      99117  408215        0   38912        66078       0"
      ]
     },
     "execution_count": 21,
     "metadata": {},
     "output_type": "execute_result"
    }
   ],
   "source": [
    "day_exports_all_trunc_df[['India', 'China', 'Vietnam', 'Japan', 'South Korea', 'Others']]"
   ]
  },
  {
   "cell_type": "markdown",
   "id": "902041f4-1dbf-47c9-b120-d3926dc66737",
   "metadata": {},
   "source": [
    "<pre>\n",
    "            India   China  Vietnam   Japan  South Korea  Other_imp\n",
    "Indonesia  988234   36710   172537       0       145373     292211\n",
    "Australia  117472       0        0       0        58736     128486\n",
    "SAFR       108662       0        0       0            0      84433\n",
    "US              0       0        0       0            0     139498\n",
    "Russia      22026  259172        0  161523        88838     328188\n",
    "Other_exp   99117  408215        0   38912        66078          0\n",
    "</pre>"
   ]
  },
  {
   "cell_type": "code",
   "execution_count": 22,
   "id": "c4b436e0-b03b-43a7-89ab-560d5344132d",
   "metadata": {},
   "outputs": [
    {
     "data": {
      "application/vnd.plotly.v1+json": {
       "config": {
        "plotlyServerURL": "https://plot.ly"
       },
       "data": [
        {
         "link": {
          "source": [
           0,
           0,
           0,
           0,
           0,
           1,
           1,
           1,
           2,
           2,
           3,
           4,
           4,
           4,
           4,
           4,
           5,
           5,
           5,
           5
          ],
          "target": [
           6,
           7,
           9,
           10,
           11,
           7,
           9,
           11,
           7,
           11,
           11,
           6,
           7,
           8,
           9,
           11,
           6,
           7,
           8,
           9
          ],
          "value": [
           36710,
           988234,
           145373,
           172537,
           292211,
           117472,
           58736,
           128486,
           108662,
           84433,
           139498,
           259172,
           22026,
           161523,
           88838,
           328188,
           408215,
           99117,
           38912,
           66078
          ]
         },
         "node": {
          "label": [
           "Indonesia",
           "Australia",
           "SAFR",
           "US",
           "Russia",
           "Other sources",
           "China",
           "India",
           "Japan",
           "South Korea",
           "Vietnam",
           "Other destinations"
          ],
          "pad": 15,
          "thickness": 20
         },
         "type": "sankey"
        }
       ],
       "layout": {
        "font": {
         "size": 10
        },
        "template": {
         "data": {
          "bar": [
           {
            "error_x": {
             "color": "#2a3f5f"
            },
            "error_y": {
             "color": "#2a3f5f"
            },
            "marker": {
             "line": {
              "color": "#E5ECF6",
              "width": 0.5
             },
             "pattern": {
              "fillmode": "overlay",
              "size": 10,
              "solidity": 0.2
             }
            },
            "type": "bar"
           }
          ],
          "barpolar": [
           {
            "marker": {
             "line": {
              "color": "#E5ECF6",
              "width": 0.5
             },
             "pattern": {
              "fillmode": "overlay",
              "size": 10,
              "solidity": 0.2
             }
            },
            "type": "barpolar"
           }
          ],
          "carpet": [
           {
            "aaxis": {
             "endlinecolor": "#2a3f5f",
             "gridcolor": "white",
             "linecolor": "white",
             "minorgridcolor": "white",
             "startlinecolor": "#2a3f5f"
            },
            "baxis": {
             "endlinecolor": "#2a3f5f",
             "gridcolor": "white",
             "linecolor": "white",
             "minorgridcolor": "white",
             "startlinecolor": "#2a3f5f"
            },
            "type": "carpet"
           }
          ],
          "choropleth": [
           {
            "colorbar": {
             "outlinewidth": 0,
             "ticks": ""
            },
            "type": "choropleth"
           }
          ],
          "contour": [
           {
            "colorbar": {
             "outlinewidth": 0,
             "ticks": ""
            },
            "colorscale": [
             [
              0,
              "#0d0887"
             ],
             [
              0.1111111111111111,
              "#46039f"
             ],
             [
              0.2222222222222222,
              "#7201a8"
             ],
             [
              0.3333333333333333,
              "#9c179e"
             ],
             [
              0.4444444444444444,
              "#bd3786"
             ],
             [
              0.5555555555555556,
              "#d8576b"
             ],
             [
              0.6666666666666666,
              "#ed7953"
             ],
             [
              0.7777777777777778,
              "#fb9f3a"
             ],
             [
              0.8888888888888888,
              "#fdca26"
             ],
             [
              1,
              "#f0f921"
             ]
            ],
            "type": "contour"
           }
          ],
          "contourcarpet": [
           {
            "colorbar": {
             "outlinewidth": 0,
             "ticks": ""
            },
            "type": "contourcarpet"
           }
          ],
          "heatmap": [
           {
            "colorbar": {
             "outlinewidth": 0,
             "ticks": ""
            },
            "colorscale": [
             [
              0,
              "#0d0887"
             ],
             [
              0.1111111111111111,
              "#46039f"
             ],
             [
              0.2222222222222222,
              "#7201a8"
             ],
             [
              0.3333333333333333,
              "#9c179e"
             ],
             [
              0.4444444444444444,
              "#bd3786"
             ],
             [
              0.5555555555555556,
              "#d8576b"
             ],
             [
              0.6666666666666666,
              "#ed7953"
             ],
             [
              0.7777777777777778,
              "#fb9f3a"
             ],
             [
              0.8888888888888888,
              "#fdca26"
             ],
             [
              1,
              "#f0f921"
             ]
            ],
            "type": "heatmap"
           }
          ],
          "heatmapgl": [
           {
            "colorbar": {
             "outlinewidth": 0,
             "ticks": ""
            },
            "colorscale": [
             [
              0,
              "#0d0887"
             ],
             [
              0.1111111111111111,
              "#46039f"
             ],
             [
              0.2222222222222222,
              "#7201a8"
             ],
             [
              0.3333333333333333,
              "#9c179e"
             ],
             [
              0.4444444444444444,
              "#bd3786"
             ],
             [
              0.5555555555555556,
              "#d8576b"
             ],
             [
              0.6666666666666666,
              "#ed7953"
             ],
             [
              0.7777777777777778,
              "#fb9f3a"
             ],
             [
              0.8888888888888888,
              "#fdca26"
             ],
             [
              1,
              "#f0f921"
             ]
            ],
            "type": "heatmapgl"
           }
          ],
          "histogram": [
           {
            "marker": {
             "pattern": {
              "fillmode": "overlay",
              "size": 10,
              "solidity": 0.2
             }
            },
            "type": "histogram"
           }
          ],
          "histogram2d": [
           {
            "colorbar": {
             "outlinewidth": 0,
             "ticks": ""
            },
            "colorscale": [
             [
              0,
              "#0d0887"
             ],
             [
              0.1111111111111111,
              "#46039f"
             ],
             [
              0.2222222222222222,
              "#7201a8"
             ],
             [
              0.3333333333333333,
              "#9c179e"
             ],
             [
              0.4444444444444444,
              "#bd3786"
             ],
             [
              0.5555555555555556,
              "#d8576b"
             ],
             [
              0.6666666666666666,
              "#ed7953"
             ],
             [
              0.7777777777777778,
              "#fb9f3a"
             ],
             [
              0.8888888888888888,
              "#fdca26"
             ],
             [
              1,
              "#f0f921"
             ]
            ],
            "type": "histogram2d"
           }
          ],
          "histogram2dcontour": [
           {
            "colorbar": {
             "outlinewidth": 0,
             "ticks": ""
            },
            "colorscale": [
             [
              0,
              "#0d0887"
             ],
             [
              0.1111111111111111,
              "#46039f"
             ],
             [
              0.2222222222222222,
              "#7201a8"
             ],
             [
              0.3333333333333333,
              "#9c179e"
             ],
             [
              0.4444444444444444,
              "#bd3786"
             ],
             [
              0.5555555555555556,
              "#d8576b"
             ],
             [
              0.6666666666666666,
              "#ed7953"
             ],
             [
              0.7777777777777778,
              "#fb9f3a"
             ],
             [
              0.8888888888888888,
              "#fdca26"
             ],
             [
              1,
              "#f0f921"
             ]
            ],
            "type": "histogram2dcontour"
           }
          ],
          "mesh3d": [
           {
            "colorbar": {
             "outlinewidth": 0,
             "ticks": ""
            },
            "type": "mesh3d"
           }
          ],
          "parcoords": [
           {
            "line": {
             "colorbar": {
              "outlinewidth": 0,
              "ticks": ""
             }
            },
            "type": "parcoords"
           }
          ],
          "pie": [
           {
            "automargin": true,
            "type": "pie"
           }
          ],
          "scatter": [
           {
            "fillpattern": {
             "fillmode": "overlay",
             "size": 10,
             "solidity": 0.2
            },
            "type": "scatter"
           }
          ],
          "scatter3d": [
           {
            "line": {
             "colorbar": {
              "outlinewidth": 0,
              "ticks": ""
             }
            },
            "marker": {
             "colorbar": {
              "outlinewidth": 0,
              "ticks": ""
             }
            },
            "type": "scatter3d"
           }
          ],
          "scattercarpet": [
           {
            "marker": {
             "colorbar": {
              "outlinewidth": 0,
              "ticks": ""
             }
            },
            "type": "scattercarpet"
           }
          ],
          "scattergeo": [
           {
            "marker": {
             "colorbar": {
              "outlinewidth": 0,
              "ticks": ""
             }
            },
            "type": "scattergeo"
           }
          ],
          "scattergl": [
           {
            "marker": {
             "colorbar": {
              "outlinewidth": 0,
              "ticks": ""
             }
            },
            "type": "scattergl"
           }
          ],
          "scattermapbox": [
           {
            "marker": {
             "colorbar": {
              "outlinewidth": 0,
              "ticks": ""
             }
            },
            "type": "scattermapbox"
           }
          ],
          "scatterpolar": [
           {
            "marker": {
             "colorbar": {
              "outlinewidth": 0,
              "ticks": ""
             }
            },
            "type": "scatterpolar"
           }
          ],
          "scatterpolargl": [
           {
            "marker": {
             "colorbar": {
              "outlinewidth": 0,
              "ticks": ""
             }
            },
            "type": "scatterpolargl"
           }
          ],
          "scatterternary": [
           {
            "marker": {
             "colorbar": {
              "outlinewidth": 0,
              "ticks": ""
             }
            },
            "type": "scatterternary"
           }
          ],
          "surface": [
           {
            "colorbar": {
             "outlinewidth": 0,
             "ticks": ""
            },
            "colorscale": [
             [
              0,
              "#0d0887"
             ],
             [
              0.1111111111111111,
              "#46039f"
             ],
             [
              0.2222222222222222,
              "#7201a8"
             ],
             [
              0.3333333333333333,
              "#9c179e"
             ],
             [
              0.4444444444444444,
              "#bd3786"
             ],
             [
              0.5555555555555556,
              "#d8576b"
             ],
             [
              0.6666666666666666,
              "#ed7953"
             ],
             [
              0.7777777777777778,
              "#fb9f3a"
             ],
             [
              0.8888888888888888,
              "#fdca26"
             ],
             [
              1,
              "#f0f921"
             ]
            ],
            "type": "surface"
           }
          ],
          "table": [
           {
            "cells": {
             "fill": {
              "color": "#EBF0F8"
             },
             "line": {
              "color": "white"
             }
            },
            "header": {
             "fill": {
              "color": "#C8D4E3"
             },
             "line": {
              "color": "white"
             }
            },
            "type": "table"
           }
          ]
         },
         "layout": {
          "annotationdefaults": {
           "arrowcolor": "#2a3f5f",
           "arrowhead": 0,
           "arrowwidth": 1
          },
          "autotypenumbers": "strict",
          "coloraxis": {
           "colorbar": {
            "outlinewidth": 0,
            "ticks": ""
           }
          },
          "colorscale": {
           "diverging": [
            [
             0,
             "#8e0152"
            ],
            [
             0.1,
             "#c51b7d"
            ],
            [
             0.2,
             "#de77ae"
            ],
            [
             0.3,
             "#f1b6da"
            ],
            [
             0.4,
             "#fde0ef"
            ],
            [
             0.5,
             "#f7f7f7"
            ],
            [
             0.6,
             "#e6f5d0"
            ],
            [
             0.7,
             "#b8e186"
            ],
            [
             0.8,
             "#7fbc41"
            ],
            [
             0.9,
             "#4d9221"
            ],
            [
             1,
             "#276419"
            ]
           ],
           "sequential": [
            [
             0,
             "#0d0887"
            ],
            [
             0.1111111111111111,
             "#46039f"
            ],
            [
             0.2222222222222222,
             "#7201a8"
            ],
            [
             0.3333333333333333,
             "#9c179e"
            ],
            [
             0.4444444444444444,
             "#bd3786"
            ],
            [
             0.5555555555555556,
             "#d8576b"
            ],
            [
             0.6666666666666666,
             "#ed7953"
            ],
            [
             0.7777777777777778,
             "#fb9f3a"
            ],
            [
             0.8888888888888888,
             "#fdca26"
            ],
            [
             1,
             "#f0f921"
            ]
           ],
           "sequentialminus": [
            [
             0,
             "#0d0887"
            ],
            [
             0.1111111111111111,
             "#46039f"
            ],
            [
             0.2222222222222222,
             "#7201a8"
            ],
            [
             0.3333333333333333,
             "#9c179e"
            ],
            [
             0.4444444444444444,
             "#bd3786"
            ],
            [
             0.5555555555555556,
             "#d8576b"
            ],
            [
             0.6666666666666666,
             "#ed7953"
            ],
            [
             0.7777777777777778,
             "#fb9f3a"
            ],
            [
             0.8888888888888888,
             "#fdca26"
            ],
            [
             1,
             "#f0f921"
            ]
           ]
          },
          "colorway": [
           "#636efa",
           "#EF553B",
           "#00cc96",
           "#ab63fa",
           "#FFA15A",
           "#19d3f3",
           "#FF6692",
           "#B6E880",
           "#FF97FF",
           "#FECB52"
          ],
          "font": {
           "color": "#2a3f5f"
          },
          "geo": {
           "bgcolor": "white",
           "lakecolor": "white",
           "landcolor": "#E5ECF6",
           "showlakes": true,
           "showland": true,
           "subunitcolor": "white"
          },
          "hoverlabel": {
           "align": "left"
          },
          "hovermode": "closest",
          "mapbox": {
           "style": "light"
          },
          "paper_bgcolor": "white",
          "plot_bgcolor": "#E5ECF6",
          "polar": {
           "angularaxis": {
            "gridcolor": "white",
            "linecolor": "white",
            "ticks": ""
           },
           "bgcolor": "#E5ECF6",
           "radialaxis": {
            "gridcolor": "white",
            "linecolor": "white",
            "ticks": ""
           }
          },
          "scene": {
           "xaxis": {
            "backgroundcolor": "#E5ECF6",
            "gridcolor": "white",
            "gridwidth": 2,
            "linecolor": "white",
            "showbackground": true,
            "ticks": "",
            "zerolinecolor": "white"
           },
           "yaxis": {
            "backgroundcolor": "#E5ECF6",
            "gridcolor": "white",
            "gridwidth": 2,
            "linecolor": "white",
            "showbackground": true,
            "ticks": "",
            "zerolinecolor": "white"
           },
           "zaxis": {
            "backgroundcolor": "#E5ECF6",
            "gridcolor": "white",
            "gridwidth": 2,
            "linecolor": "white",
            "showbackground": true,
            "ticks": "",
            "zerolinecolor": "white"
           }
          },
          "shapedefaults": {
           "line": {
            "color": "#2a3f5f"
           }
          },
          "ternary": {
           "aaxis": {
            "gridcolor": "white",
            "linecolor": "white",
            "ticks": ""
           },
           "baxis": {
            "gridcolor": "white",
            "linecolor": "white",
            "ticks": ""
           },
           "bgcolor": "#E5ECF6",
           "caxis": {
            "gridcolor": "white",
            "linecolor": "white",
            "ticks": ""
           }
          },
          "title": {
           "x": 0.05
          },
          "xaxis": {
           "automargin": true,
           "gridcolor": "white",
           "linecolor": "white",
           "ticks": "",
           "title": {
            "standoff": 15
           },
           "zerolinecolor": "white",
           "zerolinewidth": 2
          },
          "yaxis": {
           "automargin": true,
           "gridcolor": "white",
           "linecolor": "white",
           "ticks": "",
           "title": {
            "standoff": 15
           },
           "zerolinecolor": "white",
           "zerolinewidth": 2
          }
         }
        },
        "title": {
         "text": "Flux Sankey exportateurs → importateurs (Coal)"
        }
       }
      },
      "text/html": [
       "<div>                            <div id=\"d44d2bd4-8ce3-4b84-8b51-40c2a5aae95b\" class=\"plotly-graph-div\" style=\"height:525px; width:100%;\"></div>            <script type=\"text/javascript\">                require([\"plotly\"], function(Plotly) {                    window.PLOTLYENV=window.PLOTLYENV || {};                                    if (document.getElementById(\"d44d2bd4-8ce3-4b84-8b51-40c2a5aae95b\")) {                    Plotly.newPlot(                        \"d44d2bd4-8ce3-4b84-8b51-40c2a5aae95b\",                        [{\"link\":{\"source\":[0,0,0,0,0,1,1,1,2,2,3,4,4,4,4,4,5,5,5,5],\"target\":[6,7,9,10,11,7,9,11,7,11,11,6,7,8,9,11,6,7,8,9],\"value\":[36710,988234,145373,172537,292211,117472,58736,128486,108662,84433,139498,259172,22026,161523,88838,328188,408215,99117,38912,66078]},\"node\":{\"label\":[\"Indonesia\",\"Australia\",\"SAFR\",\"US\",\"Russia\",\"Other sources\",\"China\",\"India\",\"Japan\",\"South Korea\",\"Vietnam\",\"Other destinations\"],\"pad\":15,\"thickness\":20},\"type\":\"sankey\"}],                        {\"template\":{\"data\":{\"histogram2dcontour\":[{\"type\":\"histogram2dcontour\",\"colorbar\":{\"outlinewidth\":0,\"ticks\":\"\"},\"colorscale\":[[0.0,\"#0d0887\"],[0.1111111111111111,\"#46039f\"],[0.2222222222222222,\"#7201a8\"],[0.3333333333333333,\"#9c179e\"],[0.4444444444444444,\"#bd3786\"],[0.5555555555555556,\"#d8576b\"],[0.6666666666666666,\"#ed7953\"],[0.7777777777777778,\"#fb9f3a\"],[0.8888888888888888,\"#fdca26\"],[1.0,\"#f0f921\"]]}],\"choropleth\":[{\"type\":\"choropleth\",\"colorbar\":{\"outlinewidth\":0,\"ticks\":\"\"}}],\"histogram2d\":[{\"type\":\"histogram2d\",\"colorbar\":{\"outlinewidth\":0,\"ticks\":\"\"},\"colorscale\":[[0.0,\"#0d0887\"],[0.1111111111111111,\"#46039f\"],[0.2222222222222222,\"#7201a8\"],[0.3333333333333333,\"#9c179e\"],[0.4444444444444444,\"#bd3786\"],[0.5555555555555556,\"#d8576b\"],[0.6666666666666666,\"#ed7953\"],[0.7777777777777778,\"#fb9f3a\"],[0.8888888888888888,\"#fdca26\"],[1.0,\"#f0f921\"]]}],\"heatmap\":[{\"type\":\"heatmap\",\"colorbar\":{\"outlinewidth\":0,\"ticks\":\"\"},\"colorscale\":[[0.0,\"#0d0887\"],[0.1111111111111111,\"#46039f\"],[0.2222222222222222,\"#7201a8\"],[0.3333333333333333,\"#9c179e\"],[0.4444444444444444,\"#bd3786\"],[0.5555555555555556,\"#d8576b\"],[0.6666666666666666,\"#ed7953\"],[0.7777777777777778,\"#fb9f3a\"],[0.8888888888888888,\"#fdca26\"],[1.0,\"#f0f921\"]]}],\"heatmapgl\":[{\"type\":\"heatmapgl\",\"colorbar\":{\"outlinewidth\":0,\"ticks\":\"\"},\"colorscale\":[[0.0,\"#0d0887\"],[0.1111111111111111,\"#46039f\"],[0.2222222222222222,\"#7201a8\"],[0.3333333333333333,\"#9c179e\"],[0.4444444444444444,\"#bd3786\"],[0.5555555555555556,\"#d8576b\"],[0.6666666666666666,\"#ed7953\"],[0.7777777777777778,\"#fb9f3a\"],[0.8888888888888888,\"#fdca26\"],[1.0,\"#f0f921\"]]}],\"contourcarpet\":[{\"type\":\"contourcarpet\",\"colorbar\":{\"outlinewidth\":0,\"ticks\":\"\"}}],\"contour\":[{\"type\":\"contour\",\"colorbar\":{\"outlinewidth\":0,\"ticks\":\"\"},\"colorscale\":[[0.0,\"#0d0887\"],[0.1111111111111111,\"#46039f\"],[0.2222222222222222,\"#7201a8\"],[0.3333333333333333,\"#9c179e\"],[0.4444444444444444,\"#bd3786\"],[0.5555555555555556,\"#d8576b\"],[0.6666666666666666,\"#ed7953\"],[0.7777777777777778,\"#fb9f3a\"],[0.8888888888888888,\"#fdca26\"],[1.0,\"#f0f921\"]]}],\"surface\":[{\"type\":\"surface\",\"colorbar\":{\"outlinewidth\":0,\"ticks\":\"\"},\"colorscale\":[[0.0,\"#0d0887\"],[0.1111111111111111,\"#46039f\"],[0.2222222222222222,\"#7201a8\"],[0.3333333333333333,\"#9c179e\"],[0.4444444444444444,\"#bd3786\"],[0.5555555555555556,\"#d8576b\"],[0.6666666666666666,\"#ed7953\"],[0.7777777777777778,\"#fb9f3a\"],[0.8888888888888888,\"#fdca26\"],[1.0,\"#f0f921\"]]}],\"mesh3d\":[{\"type\":\"mesh3d\",\"colorbar\":{\"outlinewidth\":0,\"ticks\":\"\"}}],\"scatter\":[{\"fillpattern\":{\"fillmode\":\"overlay\",\"size\":10,\"solidity\":0.2},\"type\":\"scatter\"}],\"parcoords\":[{\"type\":\"parcoords\",\"line\":{\"colorbar\":{\"outlinewidth\":0,\"ticks\":\"\"}}}],\"scatterpolargl\":[{\"type\":\"scatterpolargl\",\"marker\":{\"colorbar\":{\"outlinewidth\":0,\"ticks\":\"\"}}}],\"bar\":[{\"error_x\":{\"color\":\"#2a3f5f\"},\"error_y\":{\"color\":\"#2a3f5f\"},\"marker\":{\"line\":{\"color\":\"#E5ECF6\",\"width\":0.5},\"pattern\":{\"fillmode\":\"overlay\",\"size\":10,\"solidity\":0.2}},\"type\":\"bar\"}],\"scattergeo\":[{\"type\":\"scattergeo\",\"marker\":{\"colorbar\":{\"outlinewidth\":0,\"ticks\":\"\"}}}],\"scatterpolar\":[{\"type\":\"scatterpolar\",\"marker\":{\"colorbar\":{\"outlinewidth\":0,\"ticks\":\"\"}}}],\"histogram\":[{\"marker\":{\"pattern\":{\"fillmode\":\"overlay\",\"size\":10,\"solidity\":0.2}},\"type\":\"histogram\"}],\"scattergl\":[{\"type\":\"scattergl\",\"marker\":{\"colorbar\":{\"outlinewidth\":0,\"ticks\":\"\"}}}],\"scatter3d\":[{\"type\":\"scatter3d\",\"line\":{\"colorbar\":{\"outlinewidth\":0,\"ticks\":\"\"}},\"marker\":{\"colorbar\":{\"outlinewidth\":0,\"ticks\":\"\"}}}],\"scattermapbox\":[{\"type\":\"scattermapbox\",\"marker\":{\"colorbar\":{\"outlinewidth\":0,\"ticks\":\"\"}}}],\"scatterternary\":[{\"type\":\"scatterternary\",\"marker\":{\"colorbar\":{\"outlinewidth\":0,\"ticks\":\"\"}}}],\"scattercarpet\":[{\"type\":\"scattercarpet\",\"marker\":{\"colorbar\":{\"outlinewidth\":0,\"ticks\":\"\"}}}],\"carpet\":[{\"aaxis\":{\"endlinecolor\":\"#2a3f5f\",\"gridcolor\":\"white\",\"linecolor\":\"white\",\"minorgridcolor\":\"white\",\"startlinecolor\":\"#2a3f5f\"},\"baxis\":{\"endlinecolor\":\"#2a3f5f\",\"gridcolor\":\"white\",\"linecolor\":\"white\",\"minorgridcolor\":\"white\",\"startlinecolor\":\"#2a3f5f\"},\"type\":\"carpet\"}],\"table\":[{\"cells\":{\"fill\":{\"color\":\"#EBF0F8\"},\"line\":{\"color\":\"white\"}},\"header\":{\"fill\":{\"color\":\"#C8D4E3\"},\"line\":{\"color\":\"white\"}},\"type\":\"table\"}],\"barpolar\":[{\"marker\":{\"line\":{\"color\":\"#E5ECF6\",\"width\":0.5},\"pattern\":{\"fillmode\":\"overlay\",\"size\":10,\"solidity\":0.2}},\"type\":\"barpolar\"}],\"pie\":[{\"automargin\":true,\"type\":\"pie\"}]},\"layout\":{\"autotypenumbers\":\"strict\",\"colorway\":[\"#636efa\",\"#EF553B\",\"#00cc96\",\"#ab63fa\",\"#FFA15A\",\"#19d3f3\",\"#FF6692\",\"#B6E880\",\"#FF97FF\",\"#FECB52\"],\"font\":{\"color\":\"#2a3f5f\"},\"hovermode\":\"closest\",\"hoverlabel\":{\"align\":\"left\"},\"paper_bgcolor\":\"white\",\"plot_bgcolor\":\"#E5ECF6\",\"polar\":{\"bgcolor\":\"#E5ECF6\",\"angularaxis\":{\"gridcolor\":\"white\",\"linecolor\":\"white\",\"ticks\":\"\"},\"radialaxis\":{\"gridcolor\":\"white\",\"linecolor\":\"white\",\"ticks\":\"\"}},\"ternary\":{\"bgcolor\":\"#E5ECF6\",\"aaxis\":{\"gridcolor\":\"white\",\"linecolor\":\"white\",\"ticks\":\"\"},\"baxis\":{\"gridcolor\":\"white\",\"linecolor\":\"white\",\"ticks\":\"\"},\"caxis\":{\"gridcolor\":\"white\",\"linecolor\":\"white\",\"ticks\":\"\"}},\"coloraxis\":{\"colorbar\":{\"outlinewidth\":0,\"ticks\":\"\"}},\"colorscale\":{\"sequential\":[[0.0,\"#0d0887\"],[0.1111111111111111,\"#46039f\"],[0.2222222222222222,\"#7201a8\"],[0.3333333333333333,\"#9c179e\"],[0.4444444444444444,\"#bd3786\"],[0.5555555555555556,\"#d8576b\"],[0.6666666666666666,\"#ed7953\"],[0.7777777777777778,\"#fb9f3a\"],[0.8888888888888888,\"#fdca26\"],[1.0,\"#f0f921\"]],\"sequentialminus\":[[0.0,\"#0d0887\"],[0.1111111111111111,\"#46039f\"],[0.2222222222222222,\"#7201a8\"],[0.3333333333333333,\"#9c179e\"],[0.4444444444444444,\"#bd3786\"],[0.5555555555555556,\"#d8576b\"],[0.6666666666666666,\"#ed7953\"],[0.7777777777777778,\"#fb9f3a\"],[0.8888888888888888,\"#fdca26\"],[1.0,\"#f0f921\"]],\"diverging\":[[0,\"#8e0152\"],[0.1,\"#c51b7d\"],[0.2,\"#de77ae\"],[0.3,\"#f1b6da\"],[0.4,\"#fde0ef\"],[0.5,\"#f7f7f7\"],[0.6,\"#e6f5d0\"],[0.7,\"#b8e186\"],[0.8,\"#7fbc41\"],[0.9,\"#4d9221\"],[1,\"#276419\"]]},\"xaxis\":{\"gridcolor\":\"white\",\"linecolor\":\"white\",\"ticks\":\"\",\"title\":{\"standoff\":15},\"zerolinecolor\":\"white\",\"automargin\":true,\"zerolinewidth\":2},\"yaxis\":{\"gridcolor\":\"white\",\"linecolor\":\"white\",\"ticks\":\"\",\"title\":{\"standoff\":15},\"zerolinecolor\":\"white\",\"automargin\":true,\"zerolinewidth\":2},\"scene\":{\"xaxis\":{\"backgroundcolor\":\"#E5ECF6\",\"gridcolor\":\"white\",\"linecolor\":\"white\",\"showbackground\":true,\"ticks\":\"\",\"zerolinecolor\":\"white\",\"gridwidth\":2},\"yaxis\":{\"backgroundcolor\":\"#E5ECF6\",\"gridcolor\":\"white\",\"linecolor\":\"white\",\"showbackground\":true,\"ticks\":\"\",\"zerolinecolor\":\"white\",\"gridwidth\":2},\"zaxis\":{\"backgroundcolor\":\"#E5ECF6\",\"gridcolor\":\"white\",\"linecolor\":\"white\",\"showbackground\":true,\"ticks\":\"\",\"zerolinecolor\":\"white\",\"gridwidth\":2}},\"shapedefaults\":{\"line\":{\"color\":\"#2a3f5f\"}},\"annotationdefaults\":{\"arrowcolor\":\"#2a3f5f\",\"arrowhead\":0,\"arrowwidth\":1},\"geo\":{\"bgcolor\":\"white\",\"landcolor\":\"#E5ECF6\",\"subunitcolor\":\"white\",\"showland\":true,\"showlakes\":true,\"lakecolor\":\"white\"},\"title\":{\"x\":0.05},\"mapbox\":{\"style\":\"light\"}}},\"title\":{\"text\":\"Flux Sankey exportateurs \\u2192 importateurs (Coal)\"},\"font\":{\"size\":10}},                        {\"responsive\": true}                    ).then(function(){\n",
       "                            \n",
       "var gd = document.getElementById('d44d2bd4-8ce3-4b84-8b51-40c2a5aae95b');\n",
       "var x = new MutationObserver(function (mutations, observer) {{\n",
       "        var display = window.getComputedStyle(gd).display;\n",
       "        if (!display || display === 'none') {{\n",
       "            console.log([gd, 'removed!']);\n",
       "            Plotly.purge(gd);\n",
       "            observer.disconnect();\n",
       "        }}\n",
       "}});\n",
       "\n",
       "// Listen for the removal of the full notebook cells\n",
       "var notebookContainer = gd.closest('#notebook-container');\n",
       "if (notebookContainer) {{\n",
       "    x.observe(notebookContainer, {childList: true});\n",
       "}}\n",
       "\n",
       "// Listen for the clearing of the current output cell\n",
       "var outputEl = gd.closest('.output');\n",
       "if (outputEl) {{\n",
       "    x.observe(outputEl, {childList: true});\n",
       "}}\n",
       "\n",
       "                        })                };                });            </script>        </div>"
      ]
     },
     "metadata": {},
     "output_type": "display_data"
    }
   ],
   "source": [
    "import io_plots\n",
    "\n",
    "f = io_plots.plot_sankey(\n",
    "    day_exports_all_trunc_df.rename(\n",
    "        columns={'Others': 'Other destinations'}, index={'Others': 'Other sources'}\n",
    "    ), title=\"Flux Sankey exportateurs → importateurs (Coal)\"\n",
    ")"
   ]
  },
  {
   "cell_type": "code",
   "execution_count": 49,
   "id": "b74dcbcb-2d2a-4498-9f71-98746f57404f",
   "metadata": {},
   "outputs": [
    {
     "data": {
      "text/html": [
       "<div>\n",
       "<style scoped>\n",
       "    .dataframe tbody tr th:only-of-type {\n",
       "        vertical-align: middle;\n",
       "    }\n",
       "\n",
       "    .dataframe tbody tr th {\n",
       "        vertical-align: top;\n",
       "    }\n",
       "\n",
       "    .dataframe thead tr th {\n",
       "        text-align: left;\n",
       "    }\n",
       "\n",
       "    .dataframe thead tr:last-of-type th {\n",
       "        text-align: right;\n",
       "    }\n",
       "</style>\n",
       "<table border=\"1\" class=\"dataframe\">\n",
       "  <thead>\n",
       "    <tr>\n",
       "      <th>country_from</th>\n",
       "      <th colspan=\"6\" halign=\"left\">Indonesia</th>\n",
       "    </tr>\n",
       "    <tr>\n",
       "      <th>country_to</th>\n",
       "      <th>Japan</th>\n",
       "      <th>South Korea</th>\n",
       "      <th>China</th>\n",
       "      <th>Vietnam</th>\n",
       "      <th>India</th>\n",
       "      <th>Others</th>\n",
       "    </tr>\n",
       "    <tr>\n",
       "      <th>Date</th>\n",
       "      <th></th>\n",
       "      <th></th>\n",
       "      <th></th>\n",
       "      <th></th>\n",
       "      <th></th>\n",
       "      <th></th>\n",
       "    </tr>\n",
       "  </thead>\n",
       "  <tbody>\n",
       "    <tr>\n",
       "      <th>2015-01-02</th>\n",
       "      <td>0</td>\n",
       "      <td>0</td>\n",
       "      <td>50783</td>\n",
       "      <td>0</td>\n",
       "      <td>152348</td>\n",
       "      <td>415290</td>\n",
       "    </tr>\n",
       "    <tr>\n",
       "      <th>2015-01-03</th>\n",
       "      <td>0</td>\n",
       "      <td>0</td>\n",
       "      <td>0</td>\n",
       "      <td>0</td>\n",
       "      <td>0</td>\n",
       "      <td>0</td>\n",
       "    </tr>\n",
       "    <tr>\n",
       "      <th>2015-01-04</th>\n",
       "      <td>0</td>\n",
       "      <td>0</td>\n",
       "      <td>0</td>\n",
       "      <td>0</td>\n",
       "      <td>120971</td>\n",
       "      <td>0</td>\n",
       "    </tr>\n",
       "    <tr>\n",
       "      <th>2015-01-05</th>\n",
       "      <td>159706</td>\n",
       "      <td>422752</td>\n",
       "      <td>650568</td>\n",
       "      <td>0</td>\n",
       "      <td>851377</td>\n",
       "      <td>290053</td>\n",
       "    </tr>\n",
       "    <tr>\n",
       "      <th>2015-01-06</th>\n",
       "      <td>0</td>\n",
       "      <td>0</td>\n",
       "      <td>631632</td>\n",
       "      <td>35221</td>\n",
       "      <td>1003801</td>\n",
       "      <td>524795</td>\n",
       "    </tr>\n",
       "    <tr>\n",
       "      <th>...</th>\n",
       "      <td>...</td>\n",
       "      <td>...</td>\n",
       "      <td>...</td>\n",
       "      <td>...</td>\n",
       "      <td>...</td>\n",
       "      <td>...</td>\n",
       "    </tr>\n",
       "    <tr>\n",
       "      <th>2025-05-13</th>\n",
       "      <td>47000</td>\n",
       "      <td>0</td>\n",
       "      <td>424001</td>\n",
       "      <td>0</td>\n",
       "      <td>813000</td>\n",
       "      <td>886000</td>\n",
       "    </tr>\n",
       "    <tr>\n",
       "      <th>2025-05-14</th>\n",
       "      <td>310000</td>\n",
       "      <td>136000</td>\n",
       "      <td>634001</td>\n",
       "      <td>200000</td>\n",
       "      <td>275000</td>\n",
       "      <td>356500</td>\n",
       "    </tr>\n",
       "    <tr>\n",
       "      <th>2025-05-15</th>\n",
       "      <td>50000</td>\n",
       "      <td>0</td>\n",
       "      <td>485000</td>\n",
       "      <td>68000</td>\n",
       "      <td>378001</td>\n",
       "      <td>574000</td>\n",
       "    </tr>\n",
       "    <tr>\n",
       "      <th>2025-05-16</th>\n",
       "      <td>91000</td>\n",
       "      <td>0</td>\n",
       "      <td>0</td>\n",
       "      <td>50000</td>\n",
       "      <td>341000</td>\n",
       "      <td>406000</td>\n",
       "    </tr>\n",
       "    <tr>\n",
       "      <th>2025-05-17</th>\n",
       "      <td>0</td>\n",
       "      <td>0</td>\n",
       "      <td>0</td>\n",
       "      <td>50000</td>\n",
       "      <td>50000</td>\n",
       "      <td>0</td>\n",
       "    </tr>\n",
       "  </tbody>\n",
       "</table>\n",
       "<p>3789 rows × 6 columns</p>\n",
       "</div>"
      ],
      "text/plain": [
       "country_from Indonesia                                             \n",
       "country_to       Japan South Korea   China Vietnam    India  Others\n",
       "Date                                                               \n",
       "2015-01-02           0           0   50783       0   152348  415290\n",
       "2015-01-03           0           0       0       0        0       0\n",
       "2015-01-04           0           0       0       0   120971       0\n",
       "2015-01-05      159706      422752  650568       0   851377  290053\n",
       "2015-01-06           0           0  631632   35221  1003801  524795\n",
       "...                ...         ...     ...     ...      ...     ...\n",
       "2025-05-13       47000           0  424001       0   813000  886000\n",
       "2025-05-14      310000      136000  634001  200000   275000  356500\n",
       "2025-05-15       50000           0  485000   68000   378001  574000\n",
       "2025-05-16       91000           0       0   50000   341000  406000\n",
       "2025-05-17           0           0       0   50000    50000       0\n",
       "\n",
       "[3789 rows x 6 columns]"
      ]
     },
     "execution_count": 49,
     "metadata": {},
     "output_type": "execute_result"
    }
   ],
   "source": [
    "# This is only a test\n",
    "export_temp_dict = {\n",
    "    key: data_container.reduce_exports(key,data_container.data_export_to[key]) \n",
    "    for key in data_container.data_export_to.keys()\n",
    "}\n",
    "export_temp_dict['Indonesia'] # check OK"
   ]
  },
  {
   "cell_type": "code",
   "execution_count": 53,
   "id": "9ad581a2-e3f4-425c-9f7e-f732c1f2aa73",
   "metadata": {},
   "outputs": [
    {
     "data": {
      "text/html": [
       "<div>\n",
       "<style scoped>\n",
       "    .dataframe tbody tr th:only-of-type {\n",
       "        vertical-align: middle;\n",
       "    }\n",
       "\n",
       "    .dataframe tbody tr th {\n",
       "        vertical-align: top;\n",
       "    }\n",
       "\n",
       "    .dataframe thead tr th {\n",
       "        text-align: left;\n",
       "    }\n",
       "\n",
       "    .dataframe thead tr:last-of-type th {\n",
       "        text-align: right;\n",
       "    }\n",
       "</style>\n",
       "<table border=\"1\" class=\"dataframe\">\n",
       "  <thead>\n",
       "    <tr>\n",
       "      <th>country_from</th>\n",
       "      <th colspan=\"6\" halign=\"left\">Indonesia</th>\n",
       "      <th colspan=\"4\" halign=\"left\">Australia</th>\n",
       "      <th>...</th>\n",
       "      <th colspan=\"4\" halign=\"left\">US</th>\n",
       "      <th colspan=\"6\" halign=\"left\">Russia</th>\n",
       "    </tr>\n",
       "    <tr>\n",
       "      <th>country_to</th>\n",
       "      <th>Japan</th>\n",
       "      <th>South Korea</th>\n",
       "      <th>China</th>\n",
       "      <th>Vietnam</th>\n",
       "      <th>India</th>\n",
       "      <th>Others</th>\n",
       "      <th>Japan</th>\n",
       "      <th>South Korea</th>\n",
       "      <th>China</th>\n",
       "      <th>Vietnam</th>\n",
       "      <th>...</th>\n",
       "      <th>China</th>\n",
       "      <th>Japan</th>\n",
       "      <th>India</th>\n",
       "      <th>Others</th>\n",
       "      <th>Japan</th>\n",
       "      <th>South Korea</th>\n",
       "      <th>China</th>\n",
       "      <th>Vietnam</th>\n",
       "      <th>India</th>\n",
       "      <th>Others</th>\n",
       "    </tr>\n",
       "    <tr>\n",
       "      <th>Date</th>\n",
       "      <th></th>\n",
       "      <th></th>\n",
       "      <th></th>\n",
       "      <th></th>\n",
       "      <th></th>\n",
       "      <th></th>\n",
       "      <th></th>\n",
       "      <th></th>\n",
       "      <th></th>\n",
       "      <th></th>\n",
       "      <th></th>\n",
       "      <th></th>\n",
       "      <th></th>\n",
       "      <th></th>\n",
       "      <th></th>\n",
       "      <th></th>\n",
       "      <th></th>\n",
       "      <th></th>\n",
       "      <th></th>\n",
       "      <th></th>\n",
       "      <th></th>\n",
       "    </tr>\n",
       "  </thead>\n",
       "  <tbody>\n",
       "    <tr>\n",
       "      <th>2015-01-02</th>\n",
       "      <td>0</td>\n",
       "      <td>0</td>\n",
       "      <td>50783</td>\n",
       "      <td>0</td>\n",
       "      <td>152348</td>\n",
       "      <td>415290</td>\n",
       "      <td>0</td>\n",
       "      <td>90281</td>\n",
       "      <td>167019</td>\n",
       "      <td>0</td>\n",
       "      <td>...</td>\n",
       "      <td>0</td>\n",
       "      <td>0</td>\n",
       "      <td>0</td>\n",
       "      <td>330088</td>\n",
       "      <td>0</td>\n",
       "      <td>0</td>\n",
       "      <td>0</td>\n",
       "      <td>0</td>\n",
       "      <td>0</td>\n",
       "      <td>67710</td>\n",
       "    </tr>\n",
       "    <tr>\n",
       "      <th>2015-01-03</th>\n",
       "      <td>0</td>\n",
       "      <td>0</td>\n",
       "      <td>0</td>\n",
       "      <td>0</td>\n",
       "      <td>0</td>\n",
       "      <td>0</td>\n",
       "      <td>0</td>\n",
       "      <td>0</td>\n",
       "      <td>0</td>\n",
       "      <td>0</td>\n",
       "      <td>...</td>\n",
       "      <td>0</td>\n",
       "      <td>0</td>\n",
       "      <td>0</td>\n",
       "      <td>0</td>\n",
       "      <td>0</td>\n",
       "      <td>0</td>\n",
       "      <td>0</td>\n",
       "      <td>0</td>\n",
       "      <td>0</td>\n",
       "      <td>0</td>\n",
       "    </tr>\n",
       "    <tr>\n",
       "      <th>2015-01-04</th>\n",
       "      <td>0</td>\n",
       "      <td>0</td>\n",
       "      <td>0</td>\n",
       "      <td>0</td>\n",
       "      <td>120971</td>\n",
       "      <td>0</td>\n",
       "      <td>0</td>\n",
       "      <td>0</td>\n",
       "      <td>0</td>\n",
       "      <td>0</td>\n",
       "      <td>...</td>\n",
       "      <td>0</td>\n",
       "      <td>0</td>\n",
       "      <td>0</td>\n",
       "      <td>124529</td>\n",
       "      <td>0</td>\n",
       "      <td>0</td>\n",
       "      <td>0</td>\n",
       "      <td>0</td>\n",
       "      <td>0</td>\n",
       "      <td>0</td>\n",
       "    </tr>\n",
       "    <tr>\n",
       "      <th>2015-01-05</th>\n",
       "      <td>159706</td>\n",
       "      <td>422752</td>\n",
       "      <td>650568</td>\n",
       "      <td>0</td>\n",
       "      <td>851377</td>\n",
       "      <td>290053</td>\n",
       "      <td>0</td>\n",
       "      <td>159706</td>\n",
       "      <td>460332</td>\n",
       "      <td>0</td>\n",
       "      <td>...</td>\n",
       "      <td>0</td>\n",
       "      <td>0</td>\n",
       "      <td>240735</td>\n",
       "      <td>958239</td>\n",
       "      <td>0</td>\n",
       "      <td>82202</td>\n",
       "      <td>0</td>\n",
       "      <td>0</td>\n",
       "      <td>23486</td>\n",
       "      <td>135046</td>\n",
       "    </tr>\n",
       "    <tr>\n",
       "      <th>2015-01-06</th>\n",
       "      <td>0</td>\n",
       "      <td>0</td>\n",
       "      <td>631632</td>\n",
       "      <td>35221</td>\n",
       "      <td>1003801</td>\n",
       "      <td>524795</td>\n",
       "      <td>79835</td>\n",
       "      <td>0</td>\n",
       "      <td>563538</td>\n",
       "      <td>0</td>\n",
       "      <td>...</td>\n",
       "      <td>0</td>\n",
       "      <td>0</td>\n",
       "      <td>88053</td>\n",
       "      <td>1015539</td>\n",
       "      <td>23480</td>\n",
       "      <td>166714</td>\n",
       "      <td>0</td>\n",
       "      <td>0</td>\n",
       "      <td>0</td>\n",
       "      <td>93923</td>\n",
       "    </tr>\n",
       "    <tr>\n",
       "      <th>...</th>\n",
       "      <td>...</td>\n",
       "      <td>...</td>\n",
       "      <td>...</td>\n",
       "      <td>...</td>\n",
       "      <td>...</td>\n",
       "      <td>...</td>\n",
       "      <td>...</td>\n",
       "      <td>...</td>\n",
       "      <td>...</td>\n",
       "      <td>...</td>\n",
       "      <td>...</td>\n",
       "      <td>...</td>\n",
       "      <td>...</td>\n",
       "      <td>...</td>\n",
       "      <td>...</td>\n",
       "      <td>...</td>\n",
       "      <td>...</td>\n",
       "      <td>...</td>\n",
       "      <td>...</td>\n",
       "      <td>...</td>\n",
       "      <td>...</td>\n",
       "    </tr>\n",
       "    <tr>\n",
       "      <th>2025-05-13</th>\n",
       "      <td>47000</td>\n",
       "      <td>0</td>\n",
       "      <td>424001</td>\n",
       "      <td>0</td>\n",
       "      <td>813000</td>\n",
       "      <td>886000</td>\n",
       "      <td>196000</td>\n",
       "      <td>220000</td>\n",
       "      <td>402998</td>\n",
       "      <td>682000</td>\n",
       "      <td>...</td>\n",
       "      <td>0</td>\n",
       "      <td>68000</td>\n",
       "      <td>75000</td>\n",
       "      <td>424000</td>\n",
       "      <td>0</td>\n",
       "      <td>0</td>\n",
       "      <td>245000</td>\n",
       "      <td>0</td>\n",
       "      <td>0</td>\n",
       "      <td>415850</td>\n",
       "    </tr>\n",
       "    <tr>\n",
       "      <th>2025-05-14</th>\n",
       "      <td>310000</td>\n",
       "      <td>136000</td>\n",
       "      <td>634001</td>\n",
       "      <td>200000</td>\n",
       "      <td>275000</td>\n",
       "      <td>356500</td>\n",
       "      <td>271000</td>\n",
       "      <td>0</td>\n",
       "      <td>598000</td>\n",
       "      <td>165000</td>\n",
       "      <td>...</td>\n",
       "      <td>0</td>\n",
       "      <td>0</td>\n",
       "      <td>50000</td>\n",
       "      <td>105000</td>\n",
       "      <td>0</td>\n",
       "      <td>16000</td>\n",
       "      <td>0</td>\n",
       "      <td>0</td>\n",
       "      <td>236000</td>\n",
       "      <td>180350</td>\n",
       "    </tr>\n",
       "    <tr>\n",
       "      <th>2025-05-15</th>\n",
       "      <td>50000</td>\n",
       "      <td>0</td>\n",
       "      <td>485000</td>\n",
       "      <td>68000</td>\n",
       "      <td>378001</td>\n",
       "      <td>574000</td>\n",
       "      <td>130000</td>\n",
       "      <td>0</td>\n",
       "      <td>580000</td>\n",
       "      <td>0</td>\n",
       "      <td>...</td>\n",
       "      <td>0</td>\n",
       "      <td>0</td>\n",
       "      <td>155000</td>\n",
       "      <td>241000</td>\n",
       "      <td>0</td>\n",
       "      <td>30000</td>\n",
       "      <td>95000</td>\n",
       "      <td>0</td>\n",
       "      <td>75000</td>\n",
       "      <td>246950</td>\n",
       "    </tr>\n",
       "    <tr>\n",
       "      <th>2025-05-16</th>\n",
       "      <td>91000</td>\n",
       "      <td>0</td>\n",
       "      <td>0</td>\n",
       "      <td>50000</td>\n",
       "      <td>341000</td>\n",
       "      <td>406000</td>\n",
       "      <td>80000</td>\n",
       "      <td>0</td>\n",
       "      <td>410000</td>\n",
       "      <td>0</td>\n",
       "      <td>...</td>\n",
       "      <td>0</td>\n",
       "      <td>0</td>\n",
       "      <td>0</td>\n",
       "      <td>75000</td>\n",
       "      <td>0</td>\n",
       "      <td>0</td>\n",
       "      <td>53000</td>\n",
       "      <td>0</td>\n",
       "      <td>0</td>\n",
       "      <td>68000</td>\n",
       "    </tr>\n",
       "    <tr>\n",
       "      <th>2025-05-17</th>\n",
       "      <td>0</td>\n",
       "      <td>0</td>\n",
       "      <td>0</td>\n",
       "      <td>50000</td>\n",
       "      <td>50000</td>\n",
       "      <td>0</td>\n",
       "      <td>0</td>\n",
       "      <td>0</td>\n",
       "      <td>0</td>\n",
       "      <td>0</td>\n",
       "      <td>...</td>\n",
       "      <td>0</td>\n",
       "      <td>0</td>\n",
       "      <td>0</td>\n",
       "      <td>75000</td>\n",
       "      <td>0</td>\n",
       "      <td>0</td>\n",
       "      <td>0</td>\n",
       "      <td>0</td>\n",
       "      <td>0</td>\n",
       "      <td>0</td>\n",
       "    </tr>\n",
       "  </tbody>\n",
       "</table>\n",
       "<p>3789 rows × 26 columns</p>\n",
       "</div>"
      ],
      "text/plain": [
       "country_from Indonesia                                              Australia  \\\n",
       "country_to       Japan South Korea   China Vietnam    India  Others     Japan   \n",
       "Date                                                                            \n",
       "2015-01-02           0           0   50783       0   152348  415290         0   \n",
       "2015-01-03           0           0       0       0        0       0         0   \n",
       "2015-01-04           0           0       0       0   120971       0         0   \n",
       "2015-01-05      159706      422752  650568       0   851377  290053         0   \n",
       "2015-01-06           0           0  631632   35221  1003801  524795     79835   \n",
       "...                ...         ...     ...     ...      ...     ...       ...   \n",
       "2025-05-13       47000           0  424001       0   813000  886000    196000   \n",
       "2025-05-14      310000      136000  634001  200000   275000  356500    271000   \n",
       "2025-05-15       50000           0  485000   68000   378001  574000    130000   \n",
       "2025-05-16       91000           0       0   50000   341000  406000     80000   \n",
       "2025-05-17           0           0       0   50000    50000       0         0   \n",
       "\n",
       "country_from                              ...    US                          \\\n",
       "country_to   South Korea   China Vietnam  ... China  Japan   India   Others   \n",
       "Date                                      ...                                 \n",
       "2015-01-02         90281  167019       0  ...     0      0       0   330088   \n",
       "2015-01-03             0       0       0  ...     0      0       0        0   \n",
       "2015-01-04             0       0       0  ...     0      0       0   124529   \n",
       "2015-01-05        159706  460332       0  ...     0      0  240735   958239   \n",
       "2015-01-06             0  563538       0  ...     0      0   88053  1015539   \n",
       "...                  ...     ...     ...  ...   ...    ...     ...      ...   \n",
       "2025-05-13        220000  402998  682000  ...     0  68000   75000   424000   \n",
       "2025-05-14             0  598000  165000  ...     0      0   50000   105000   \n",
       "2025-05-15             0  580000       0  ...     0      0  155000   241000   \n",
       "2025-05-16             0  410000       0  ...     0      0       0    75000   \n",
       "2025-05-17             0       0       0  ...     0      0       0    75000   \n",
       "\n",
       "country_from Russia                                              \n",
       "country_to    Japan South Korea   China Vietnam   India  Others  \n",
       "Date                                                             \n",
       "2015-01-02        0           0       0       0       0   67710  \n",
       "2015-01-03        0           0       0       0       0       0  \n",
       "2015-01-04        0           0       0       0       0       0  \n",
       "2015-01-05        0       82202       0       0   23486  135046  \n",
       "2015-01-06    23480      166714       0       0       0   93923  \n",
       "...             ...         ...     ...     ...     ...     ...  \n",
       "2025-05-13        0           0  245000       0       0  415850  \n",
       "2025-05-14        0       16000       0       0  236000  180350  \n",
       "2025-05-15        0       30000   95000       0   75000  246950  \n",
       "2025-05-16        0           0   53000       0       0   68000  \n",
       "2025-05-17        0           0       0       0       0       0  \n",
       "\n",
       "[3789 rows x 26 columns]"
      ]
     },
     "execution_count": 53,
     "metadata": {},
     "output_type": "execute_result"
    }
   ],
   "source": [
    "df_from_to_good = data_container.concatenate_all()\n",
    "df_from_to_good"
   ]
  },
  {
   "cell_type": "code",
   "execution_count": 58,
   "id": "a899a816-a2f3-415c-ae0e-1423c458c8e2",
   "metadata": {},
   "outputs": [
    {
     "data": {
      "text/html": [
       "<div>\n",
       "<style scoped>\n",
       "    .dataframe tbody tr th:only-of-type {\n",
       "        vertical-align: middle;\n",
       "    }\n",
       "\n",
       "    .dataframe tbody tr th {\n",
       "        vertical-align: top;\n",
       "    }\n",
       "\n",
       "    .dataframe thead tr th {\n",
       "        text-align: left;\n",
       "    }\n",
       "\n",
       "    .dataframe thead tr:last-of-type th {\n",
       "        text-align: right;\n",
       "    }\n",
       "</style>\n",
       "<table border=\"1\" class=\"dataframe\">\n",
       "  <thead>\n",
       "    <tr>\n",
       "      <th>country_from</th>\n",
       "      <th colspan=\"6\" halign=\"left\">Indonesia</th>\n",
       "      <th colspan=\"4\" halign=\"left\">Australia</th>\n",
       "      <th>...</th>\n",
       "      <th colspan=\"5\" halign=\"left\">Russia</th>\n",
       "      <th colspan=\"5\" halign=\"left\">Others</th>\n",
       "    </tr>\n",
       "    <tr>\n",
       "      <th>country_to</th>\n",
       "      <th>Japan</th>\n",
       "      <th>South Korea</th>\n",
       "      <th>China</th>\n",
       "      <th>Vietnam</th>\n",
       "      <th>India</th>\n",
       "      <th>Others</th>\n",
       "      <th>Japan</th>\n",
       "      <th>South Korea</th>\n",
       "      <th>China</th>\n",
       "      <th>Vietnam</th>\n",
       "      <th>...</th>\n",
       "      <th>South Korea</th>\n",
       "      <th>China</th>\n",
       "      <th>Vietnam</th>\n",
       "      <th>India</th>\n",
       "      <th>Others</th>\n",
       "      <th>India</th>\n",
       "      <th>China</th>\n",
       "      <th>Vietnam</th>\n",
       "      <th>Japan</th>\n",
       "      <th>South Korea</th>\n",
       "    </tr>\n",
       "    <tr>\n",
       "      <th>Date</th>\n",
       "      <th></th>\n",
       "      <th></th>\n",
       "      <th></th>\n",
       "      <th></th>\n",
       "      <th></th>\n",
       "      <th></th>\n",
       "      <th></th>\n",
       "      <th></th>\n",
       "      <th></th>\n",
       "      <th></th>\n",
       "      <th></th>\n",
       "      <th></th>\n",
       "      <th></th>\n",
       "      <th></th>\n",
       "      <th></th>\n",
       "      <th></th>\n",
       "      <th></th>\n",
       "      <th></th>\n",
       "      <th></th>\n",
       "      <th></th>\n",
       "      <th></th>\n",
       "    </tr>\n",
       "  </thead>\n",
       "  <tbody>\n",
       "    <tr>\n",
       "      <th>2015-01-05</th>\n",
       "      <td>159706</td>\n",
       "      <td>422752</td>\n",
       "      <td>650568</td>\n",
       "      <td>0</td>\n",
       "      <td>851377</td>\n",
       "      <td>290053</td>\n",
       "      <td>0</td>\n",
       "      <td>159706</td>\n",
       "      <td>460332</td>\n",
       "      <td>0</td>\n",
       "      <td>...</td>\n",
       "      <td>82202</td>\n",
       "      <td>0</td>\n",
       "      <td>0</td>\n",
       "      <td>23486</td>\n",
       "      <td>135046</td>\n",
       "      <td>41101</td>\n",
       "      <td>463853</td>\n",
       "      <td>11743</td>\n",
       "      <td>0</td>\n",
       "      <td>0</td>\n",
       "    </tr>\n",
       "    <tr>\n",
       "      <th>2015-01-06</th>\n",
       "      <td>0</td>\n",
       "      <td>0</td>\n",
       "      <td>631632</td>\n",
       "      <td>35221</td>\n",
       "      <td>1003801</td>\n",
       "      <td>524795</td>\n",
       "      <td>79835</td>\n",
       "      <td>0</td>\n",
       "      <td>563538</td>\n",
       "      <td>0</td>\n",
       "      <td>...</td>\n",
       "      <td>166714</td>\n",
       "      <td>0</td>\n",
       "      <td>0</td>\n",
       "      <td>0</td>\n",
       "      <td>93923</td>\n",
       "      <td>98618</td>\n",
       "      <td>119752</td>\n",
       "      <td>11740</td>\n",
       "      <td>0</td>\n",
       "      <td>0</td>\n",
       "    </tr>\n",
       "    <tr>\n",
       "      <th>2015-01-07</th>\n",
       "      <td>0</td>\n",
       "      <td>110056</td>\n",
       "      <td>258063</td>\n",
       "      <td>25300</td>\n",
       "      <td>407337</td>\n",
       "      <td>158127</td>\n",
       "      <td>110056</td>\n",
       "      <td>0</td>\n",
       "      <td>164452</td>\n",
       "      <td>0</td>\n",
       "      <td>...</td>\n",
       "      <td>183427</td>\n",
       "      <td>0</td>\n",
       "      <td>0</td>\n",
       "      <td>0</td>\n",
       "      <td>151800</td>\n",
       "      <td>86021</td>\n",
       "      <td>180896</td>\n",
       "      <td>0</td>\n",
       "      <td>0</td>\n",
       "      <td>0</td>\n",
       "    </tr>\n",
       "    <tr>\n",
       "      <th>2015-01-08</th>\n",
       "      <td>0</td>\n",
       "      <td>104207</td>\n",
       "      <td>315224</td>\n",
       "      <td>39077</td>\n",
       "      <td>657804</td>\n",
       "      <td>240974</td>\n",
       "      <td>182362</td>\n",
       "      <td>140679</td>\n",
       "      <td>677344</td>\n",
       "      <td>0</td>\n",
       "      <td>...</td>\n",
       "      <td>0</td>\n",
       "      <td>7164</td>\n",
       "      <td>0</td>\n",
       "      <td>0</td>\n",
       "      <td>13024</td>\n",
       "      <td>200598</td>\n",
       "      <td>80759</td>\n",
       "      <td>3907</td>\n",
       "      <td>0</td>\n",
       "      <td>208414</td>\n",
       "    </tr>\n",
       "    <tr>\n",
       "      <th>2015-01-09</th>\n",
       "      <td>0</td>\n",
       "      <td>84682</td>\n",
       "      <td>143210</td>\n",
       "      <td>37359</td>\n",
       "      <td>336234</td>\n",
       "      <td>682433</td>\n",
       "      <td>62266</td>\n",
       "      <td>0</td>\n",
       "      <td>261517</td>\n",
       "      <td>0</td>\n",
       "      <td>...</td>\n",
       "      <td>209213</td>\n",
       "      <td>0</td>\n",
       "      <td>0</td>\n",
       "      <td>0</td>\n",
       "      <td>18056</td>\n",
       "      <td>47322</td>\n",
       "      <td>0</td>\n",
       "      <td>0</td>\n",
       "      <td>59775</td>\n",
       "      <td>0</td>\n",
       "    </tr>\n",
       "    <tr>\n",
       "      <th>...</th>\n",
       "      <td>...</td>\n",
       "      <td>...</td>\n",
       "      <td>...</td>\n",
       "      <td>...</td>\n",
       "      <td>...</td>\n",
       "      <td>...</td>\n",
       "      <td>...</td>\n",
       "      <td>...</td>\n",
       "      <td>...</td>\n",
       "      <td>...</td>\n",
       "      <td>...</td>\n",
       "      <td>...</td>\n",
       "      <td>...</td>\n",
       "      <td>...</td>\n",
       "      <td>...</td>\n",
       "      <td>...</td>\n",
       "      <td>...</td>\n",
       "      <td>...</td>\n",
       "      <td>...</td>\n",
       "      <td>...</td>\n",
       "      <td>...</td>\n",
       "    </tr>\n",
       "    <tr>\n",
       "      <th>2025-05-13</th>\n",
       "      <td>47000</td>\n",
       "      <td>0</td>\n",
       "      <td>424001</td>\n",
       "      <td>0</td>\n",
       "      <td>813000</td>\n",
       "      <td>886000</td>\n",
       "      <td>196000</td>\n",
       "      <td>220000</td>\n",
       "      <td>402998</td>\n",
       "      <td>682000</td>\n",
       "      <td>...</td>\n",
       "      <td>0</td>\n",
       "      <td>245000</td>\n",
       "      <td>0</td>\n",
       "      <td>0</td>\n",
       "      <td>415850</td>\n",
       "      <td>150000</td>\n",
       "      <td>63000</td>\n",
       "      <td>0</td>\n",
       "      <td>70000</td>\n",
       "      <td>20000</td>\n",
       "    </tr>\n",
       "    <tr>\n",
       "      <th>2025-05-14</th>\n",
       "      <td>310000</td>\n",
       "      <td>136000</td>\n",
       "      <td>634001</td>\n",
       "      <td>200000</td>\n",
       "      <td>275000</td>\n",
       "      <td>356500</td>\n",
       "      <td>271000</td>\n",
       "      <td>0</td>\n",
       "      <td>598000</td>\n",
       "      <td>165000</td>\n",
       "      <td>...</td>\n",
       "      <td>16000</td>\n",
       "      <td>0</td>\n",
       "      <td>0</td>\n",
       "      <td>236000</td>\n",
       "      <td>180350</td>\n",
       "      <td>118000</td>\n",
       "      <td>0</td>\n",
       "      <td>0</td>\n",
       "      <td>75000</td>\n",
       "      <td>0</td>\n",
       "    </tr>\n",
       "    <tr>\n",
       "      <th>2025-05-15</th>\n",
       "      <td>50000</td>\n",
       "      <td>0</td>\n",
       "      <td>485000</td>\n",
       "      <td>68000</td>\n",
       "      <td>378001</td>\n",
       "      <td>574000</td>\n",
       "      <td>130000</td>\n",
       "      <td>0</td>\n",
       "      <td>580000</td>\n",
       "      <td>0</td>\n",
       "      <td>...</td>\n",
       "      <td>30000</td>\n",
       "      <td>95000</td>\n",
       "      <td>0</td>\n",
       "      <td>75000</td>\n",
       "      <td>246950</td>\n",
       "      <td>171750</td>\n",
       "      <td>60000</td>\n",
       "      <td>48000</td>\n",
       "      <td>80000</td>\n",
       "      <td>29000</td>\n",
       "    </tr>\n",
       "    <tr>\n",
       "      <th>2025-05-16</th>\n",
       "      <td>91000</td>\n",
       "      <td>0</td>\n",
       "      <td>0</td>\n",
       "      <td>50000</td>\n",
       "      <td>341000</td>\n",
       "      <td>406000</td>\n",
       "      <td>80000</td>\n",
       "      <td>0</td>\n",
       "      <td>410000</td>\n",
       "      <td>0</td>\n",
       "      <td>...</td>\n",
       "      <td>0</td>\n",
       "      <td>53000</td>\n",
       "      <td>0</td>\n",
       "      <td>0</td>\n",
       "      <td>68000</td>\n",
       "      <td>588500</td>\n",
       "      <td>0</td>\n",
       "      <td>0</td>\n",
       "      <td>34000</td>\n",
       "      <td>40000</td>\n",
       "    </tr>\n",
       "    <tr>\n",
       "      <th>2025-05-17</th>\n",
       "      <td>0</td>\n",
       "      <td>0</td>\n",
       "      <td>0</td>\n",
       "      <td>50000</td>\n",
       "      <td>50000</td>\n",
       "      <td>0</td>\n",
       "      <td>0</td>\n",
       "      <td>0</td>\n",
       "      <td>0</td>\n",
       "      <td>0</td>\n",
       "      <td>...</td>\n",
       "      <td>0</td>\n",
       "      <td>0</td>\n",
       "      <td>0</td>\n",
       "      <td>0</td>\n",
       "      <td>0</td>\n",
       "      <td>30000</td>\n",
       "      <td>0</td>\n",
       "      <td>0</td>\n",
       "      <td>0</td>\n",
       "      <td>0</td>\n",
       "    </tr>\n",
       "  </tbody>\n",
       "</table>\n",
       "<p>3786 rows × 31 columns</p>\n",
       "</div>"
      ],
      "text/plain": [
       "country_from Indonesia                                              Australia  \\\n",
       "country_to       Japan South Korea   China Vietnam    India  Others     Japan   \n",
       "Date                                                                            \n",
       "2015-01-05      159706      422752  650568       0   851377  290053         0   \n",
       "2015-01-06           0           0  631632   35221  1003801  524795     79835   \n",
       "2015-01-07           0      110056  258063   25300   407337  158127    110056   \n",
       "2015-01-08           0      104207  315224   39077   657804  240974    182362   \n",
       "2015-01-09           0       84682  143210   37359   336234  682433     62266   \n",
       "...                ...         ...     ...     ...      ...     ...       ...   \n",
       "2025-05-13       47000           0  424001       0   813000  886000    196000   \n",
       "2025-05-14      310000      136000  634001  200000   275000  356500    271000   \n",
       "2025-05-15       50000           0  485000   68000   378001  574000    130000   \n",
       "2025-05-16       91000           0       0   50000   341000  406000     80000   \n",
       "2025-05-17           0           0       0   50000    50000       0         0   \n",
       "\n",
       "country_from                              ...      Russia                  \\\n",
       "country_to   South Korea   China Vietnam  ... South Korea   China Vietnam   \n",
       "Date                                      ...                               \n",
       "2015-01-05        159706  460332       0  ...       82202       0       0   \n",
       "2015-01-06             0  563538       0  ...      166714       0       0   \n",
       "2015-01-07             0  164452       0  ...      183427       0       0   \n",
       "2015-01-08        140679  677344       0  ...           0    7164       0   \n",
       "2015-01-09             0  261517       0  ...      209213       0       0   \n",
       "...                  ...     ...     ...  ...         ...     ...     ...   \n",
       "2025-05-13        220000  402998  682000  ...           0  245000       0   \n",
       "2025-05-14             0  598000  165000  ...       16000       0       0   \n",
       "2025-05-15             0  580000       0  ...       30000   95000       0   \n",
       "2025-05-16             0  410000       0  ...           0   53000       0   \n",
       "2025-05-17             0       0       0  ...           0       0       0   \n",
       "\n",
       "country_from                  Others                                     \n",
       "country_to     India  Others   India   China Vietnam  Japan South Korea  \n",
       "Date                                                                     \n",
       "2015-01-05     23486  135046   41101  463853   11743      0           0  \n",
       "2015-01-06         0   93923   98618  119752   11740      0           0  \n",
       "2015-01-07         0  151800   86021  180896       0      0           0  \n",
       "2015-01-08         0   13024  200598   80759    3907      0      208414  \n",
       "2015-01-09         0   18056   47322       0       0  59775           0  \n",
       "...              ...     ...     ...     ...     ...    ...         ...  \n",
       "2025-05-13         0  415850  150000   63000       0  70000       20000  \n",
       "2025-05-14    236000  180350  118000       0       0  75000           0  \n",
       "2025-05-15     75000  246950  171750   60000   48000  80000       29000  \n",
       "2025-05-16         0   68000  588500       0       0  34000       40000  \n",
       "2025-05-17         0       0   30000       0       0      0           0  \n",
       "\n",
       "[3786 rows x 31 columns]"
      ]
     },
     "execution_count": 58,
     "metadata": {},
     "output_type": "execute_result"
    }
   ],
   "source": [
    "df_from_to = data_container.concatenate_and_truncate_all()\n",
    "df_from_to # <-- checked to be the same"
   ]
  },
  {
   "cell_type": "code",
   "execution_count": null,
   "id": "6ec8cbc0-8a36-4a4a-b21c-299fe856ab2e",
   "metadata": {},
   "outputs": [],
   "source": [
    "import pickle\n",
    "\n",
    "with open(save_concatenated_and_truncated_ts_in, \"wb\") as f:\n",
    "    pickle.dump(df_from_to, f)"
   ]
  },
  {
   "cell_type": "code",
   "execution_count": null,
   "id": "95719c9e-7439-4729-9f92-1104202d625d",
   "metadata": {},
   "outputs": [],
   "source": []
  },
  {
   "cell_type": "markdown",
   "id": "605b2fb2-d7fd-45ee-b485-28797f6266d3",
   "metadata": {},
   "source": [
    "# Old code"
   ]
  },
  {
   "cell_type": "code",
   "execution_count": 28,
   "id": "3624721d-f94b-4401-9cf6-90b31324fa8b",
   "metadata": {},
   "outputs": [
    {
     "name": "stdout",
     "output_type": "stream",
     "text": [
      "total 1.3M\n",
      "drwxr-xr-x 7 jovyan 1000    7 Aug 15 15:22 ..\n",
      "-rw-r--r-- 1 jovyan 1000 254K Aug 15 15:23 all_voyage_orders_by_cargo_type_time_series_stacked_Indonesia_to.xlsx\n",
      "-rw-r--r-- 1 jovyan 1000 217K Aug 15 15:23 all_voyage_orders_by_cargo_type_time_series_stacked_Russia_to.xlsx\n",
      "-rw-r--r-- 1 jovyan 1000 200K Aug 15 15:23 all_voyage_orders_by_cargo_type_time_series_stacked_SAFR_to.xlsx\n",
      "-rw-r--r-- 1 jovyan 1000 226K Aug 15 15:23 all_voyage_orders_by_cargo_type_time_series_stacked_Australia_to.xlsx\n",
      "drwxr-xr-x 2 jovyan 1000    7 Aug 15 15:23 .\n",
      "-rw-r--r-- 1 jovyan 1000 201K Aug 15 15:23 all_voyage_orders_by_cargo_type_time_series_stacked_US_to.xlsx\n",
      "total 1.3M\n",
      "drwxr-xr-x 7 jovyan 1000    7 Aug 15 15:22 ..\n",
      "-rw-r--r-- 1 jovyan 1000 169K Aug 15 15:23 all_voyage_orders_by_cargo_type_time_series_stacked_India_to.xlsx\n",
      "-rw-r--r-- 1 jovyan 1000 157K Aug 15 15:23 all_voyage_orders_by_cargo_type_time_series_stacked_Japan_to.xlsx\n",
      "-rw-r--r-- 1 jovyan 1000 160K Aug 15 15:23 all_voyage_orders_by_cargo_type_time_series_stacked_SK_to.xlsx\n",
      "-rw-r--r-- 1 jovyan 1000 161K Aug 15 15:23 all_voyage_orders_by_cargo_type_time_series_stacked_Vietnam_to.xlsx\n",
      "drwxr-xr-x 2 jovyan 1000    7 Aug 15 15:23 .\n",
      "-rw-r--r-- 1 jovyan 1000 179K Aug 15 15:23 all_voyage_orders_by_cargo_type_time_series_stacked_China_to.xlsx\n",
      "total 2.5M\n",
      "drwxr-xr-x 7 jovyan 1000    7 Aug 15 15:22 ..\n",
      "-rw-r--r-- 1 jovyan 1000 257K Aug 15 15:23 all_voyage_orders_by_cargo_type_time_series_stacked_Indonesia_to.xlsx\n",
      "-rw-r--r-- 1 jovyan 1000 193K Aug 15 15:23 all_voyage_orders_by_cargo_type_time_series_stacked_to_Vietnam.xlsx\n",
      "-rw-r--r-- 1 jovyan 1000 201K Aug 15 15:23 all_voyage_orders_by_cargo_type_time_series_stacked_SAFR_to.xlsx\n",
      "-rw-r--r-- 1 jovyan 1000 245K Aug 15 15:23 all_voyage_orders_by_cargo_type_time_series_stacked_to_India.xlsx\n",
      "-rw-r--r-- 1 jovyan 1000 191K Aug 15 15:23 all_voyage_orders_by_cargo_type_time_series_stacked_to_Japan.xlsx\n",
      "-rw-r--r-- 1 jovyan 1000 219K Aug 15 15:23 all_voyage_orders_by_cargo_type_time_series_stacked_to_China.xlsx\n",
      "-rw-r--r-- 1 jovyan 1000 191K Aug 15 15:23 all_voyage_orders_by_cargo_type_time_series_stacked_to_SK.xlsx\n",
      "-rw-r--r-- 1 jovyan 1000 202K Aug 15 15:23 all_voyage_orders_by_cargo_type_time_series_stacked_US_to.xlsx\n",
      "drwxr-xr-x 2 jovyan 1000   11 Aug 15 15:23 .\n",
      "-rw-r--r-- 1 jovyan 1000 228K Aug 15 15:23 all_voyage_orders_by_cargo_type_time_series_stacked_Australia_to.xlsx\n",
      "total 1.3M\n",
      "drwxr-xr-x 7 jovyan 1000    7 Aug 15 15:22 ..\n",
      "-rw-r--r-- 1 jovyan 1000 157K Aug 15 15:23 all_voyage_orders_by_cargo_type_time_series_stacked_Egypt_in.xlsx\n",
      "-rw-r--r-- 1 jovyan 1000 164K Aug 15 15:23 all_voyage_orders_by_cargo_type_time_series_stacked_Turkey_in.xlsx\n",
      "-rw-r--r-- 1 jovyan 1000 158K Aug 15 15:23 all_voyage_orders_by_cargo_type_time_series_stacked_Bangladesh_in.xlsx\n",
      "-rw-r--r-- 1 jovyan 1000 157K Aug 15 15:23 all_voyage_orders_by_cargo_type_time_series_stacked_Nigeria_in.xlsx\n",
      "drwxr-xr-x 2 jovyan 1000    7 Aug 15 15:23 .\n",
      "-rw-r--r-- 1 jovyan 1000 157K Aug 15 15:23 all_voyage_orders_by_cargo_type_time_series_stacked_Lybia_in.xlsx\n"
     ]
    }
   ],
   "source": [
    "\n",
    "\n",
    "fdir_export_coal = './data_in/shipfix/export_coal'\n",
    "!ls -alrth {fdir_export_coal}\n",
    "\n",
    "fdir_export_project = './data_in/shipfix/export_cproject'\n",
    "!ls -alrth {fdir_export_project}\n",
    "\n",
    "fdir_import_coal = './data_in/shipfix/import_coal'\n",
    "!ls -alrth {fdir_import_coal}\n",
    "fdir_import_project = './data_in/shipfix/import_cproject'\n",
    "!ls -alrth {fdir_import_project}"
   ]
  },
  {
   "cell_type": "code",
   "execution_count": null,
   "id": "f300f2ab-a1bd-40df-a6f0-b3d854db3f6e",
   "metadata": {},
   "outputs": [],
   "source": []
  },
  {
   "cell_type": "markdown",
   "id": "fd1a3346-92c7-41d9-bacb-26f190afa837",
   "metadata": {},
   "source": [
    "# content of excel data"
   ]
  },
  {
   "cell_type": "code",
   "execution_count": 29,
   "id": "9208a9ba-79cc-4071-8ccd-f560d199d877",
   "metadata": {},
   "outputs": [
    {
     "data": {
      "application/vnd.jupyter.widget-view+json": {
       "model_id": "0de0f8538536442bbe6b58dbe3cde64d",
       "version_major": 2,
       "version_minor": 0
      },
      "text/plain": [
       "  0%|          | 0/5 [00:00<?, ?it/s]"
      ]
     },
     "metadata": {},
     "output_type": "display_data"
    },
    {
     "data": {
      "application/vnd.jupyter.widget-view+json": {
       "model_id": "c58ab62a6dcc4481a36f5ecf4796044b",
       "version_major": 2,
       "version_minor": 0
      },
      "text/plain": [
       "  0%|          | 0/5 [00:00<?, ?it/s]"
      ]
     },
     "metadata": {},
     "output_type": "display_data"
    },
    {
     "data": {
      "application/vnd.jupyter.widget-view+json": {
       "model_id": "8a4c6995b2774fb89fb9f897a11f6b21",
       "version_major": 2,
       "version_minor": 0
      },
      "text/plain": [
       "  0%|          | 0/9 [00:00<?, ?it/s]"
      ]
     },
     "metadata": {},
     "output_type": "display_data"
    },
    {
     "data": {
      "application/vnd.jupyter.widget-view+json": {
       "model_id": "89af7cdc778044cf8fe86f3d8ca4ebb8",
       "version_major": 2,
       "version_minor": 0
      },
      "text/plain": [
       "  0%|          | 0/5 [00:00<?, ?it/s]"
      ]
     },
     "metadata": {},
     "output_type": "display_data"
    }
   ],
   "source": [
    "from glob import glob\n",
    "from tqdm.notebook import tqdm\n",
    "from collections import namedtuple\n",
    "import warnings\n",
    "import os\n",
    "import re\n",
    "\n",
    "FSCC = namedtuple('FSC', ['file', 'name', 'shape', 'columns', 'content'])\n",
    "\n",
    "#fname = 'demand - all_voyage_orders_by_cargo_type_time_series_stacked - size.xlsx'\n",
    "\n",
    "files_content_lst = []\n",
    "\n",
    "\n",
    "\n",
    "for fname in tqdm(glob(fdir_export_coal + '/*.xlsx')):\n",
    "    \n",
    "    # Replace 'your_file.xlsx' with the path to your Excel file\n",
    "    with warnings.catch_warnings():\n",
    "        warnings.filterwarnings(\"ignore\", category=UserWarning, module=re.escape('openpyxl.styles.stylesheet'))\n",
    "        df = pandas.read_excel(fname, engine='openpyxl')\n",
    "    files_content_lst.append(\n",
    "        FSCC(fname, os.path.basename(fname).split('.')[0], df.shape, df.columns, df)\n",
    "    )\n",
    "\n",
    "for fname in tqdm(glob(fdir_export_project + '/*.xlsx')):\n",
    "    \n",
    "    # Replace 'your_file.xlsx' with the path to your Excel file\n",
    "    with warnings.catch_warnings():\n",
    "        warnings.filterwarnings(\"ignore\", category=UserWarning, module=re.escape('openpyxl.styles.stylesheet'))\n",
    "        df = pandas.read_excel(fname, engine='openpyxl')\n",
    "    files_content_lst.append(\n",
    "        FSCC(fname, os.path.basename(fname).split('.')[0], df.shape, df.columns, df)\n",
    "    )\n",
    "    \n",
    "for fname in tqdm(glob(fdir_import_coal + '/*.xlsx')):\n",
    "    \n",
    "    # Replace 'your_file.xlsx' with the path to your Excel file\n",
    "    with warnings.catch_warnings():\n",
    "        warnings.filterwarnings(\"ignore\", category=UserWarning, module=re.escape('openpyxl.styles.stylesheet'))\n",
    "        df = pandas.read_excel(fname, engine='openpyxl')\n",
    "    files_content_lst.append(\n",
    "        FSCC(fname, os.path.basename(fname).split('.')[0], df.shape, df.columns, df)\n",
    "    )\n",
    "\n",
    "    \n",
    "for fname in tqdm(glob(fdir_import_project + '/*.xlsx')):\n",
    "    \n",
    "    # Replace 'your_file.xlsx' with the path to your Excel file\n",
    "    with warnings.catch_warnings():\n",
    "        warnings.filterwarnings(\"ignore\", category=UserWarning, module=re.escape('openpyxl.styles.stylesheet'))\n",
    "        df = pandas.read_excel(fname, engine='openpyxl')\n",
    "    files_content_lst.append(\n",
    "        FSCC(fname, os.path.basename(fname).split('.')[0], df.shape, df.columns, df)\n",
    "    )\n",
    "\n",
    "\n",
    "class FileContainer:\n",
    "    content = files_content_lst\n",
    "    @classmethod\n",
    "    def get(cls, name=None):\n",
    "        if name is None:\n",
    "            return [f.name for f in cls.content]\n",
    "        else:\n",
    "            for f in cls.content:\n",
    "                if f.name == name:\n",
    "                    return f\n",
    "            return None\n",
    "    @classmethod\n",
    "    def pprint(cls):\n",
    "        txt_lst = []\n",
    "        for f in files_content_lst:\n",
    "            txt_lst.append(f\">>> {f.name}:\\n {f.columns.values}\")\n",
    "        return \"\\n\".join(txt_lst)\n",
    "    @classmethod\n",
    "    def iterate(cls):\n",
    "        for f in files_content_lst:\n",
    "            yield(f)\n",
    "    @classmethod\n",
    "    def update(cls, content):\n",
    "        cls.content = content\n",
    "\n"
   ]
  },
  {
   "cell_type": "code",
   "execution_count": 30,
   "id": "9fa0a92a-914c-480b-98b7-bfae4974594a",
   "metadata": {},
   "outputs": [
    {
     "name": "stdout",
     "output_type": "stream",
     "text": [
      "['all_voyage_orders_by_cargo_type_time_series_stacked_US_to', 'all_voyage_orders_by_cargo_type_time_series_stacked_Australia_to', 'all_voyage_orders_by_cargo_type_time_series_stacked_SAFR_to', 'all_voyage_orders_by_cargo_type_time_series_stacked_Russia_to', 'all_voyage_orders_by_cargo_type_time_series_stacked_Indonesia_to', 'all_voyage_orders_by_cargo_type_time_series_stacked_Japan_to', 'all_voyage_orders_by_cargo_type_time_series_stacked_India_to', 'all_voyage_orders_by_cargo_type_time_series_stacked_China_to', 'all_voyage_orders_by_cargo_type_time_series_stacked_SK_to', 'all_voyage_orders_by_cargo_type_time_series_stacked_Vietnam_to', 'all_voyage_orders_by_cargo_type_time_series_stacked_to_Vietnam', 'all_voyage_orders_by_cargo_type_time_series_stacked_to_China', 'all_voyage_orders_by_cargo_type_time_series_stacked_US_to', 'all_voyage_orders_by_cargo_type_time_series_stacked_to_Japan', 'all_voyage_orders_by_cargo_type_time_series_stacked_to_SK', 'all_voyage_orders_by_cargo_type_time_series_stacked_Australia_to', 'all_voyage_orders_by_cargo_type_time_series_stacked_SAFR_to', 'all_voyage_orders_by_cargo_type_time_series_stacked_to_India', 'all_voyage_orders_by_cargo_type_time_series_stacked_Indonesia_to', 'all_voyage_orders_by_cargo_type_time_series_stacked_Turkey_in', 'all_voyage_orders_by_cargo_type_time_series_stacked_Egypt_in', 'all_voyage_orders_by_cargo_type_time_series_stacked_Nigeria_in', 'all_voyage_orders_by_cargo_type_time_series_stacked_Lybia_in', 'all_voyage_orders_by_cargo_type_time_series_stacked_Bangladesh_in']\n",
      "            Date  Bangladesh    India  Philippines   China  Thailand  \\\n",
      "0     2015-01-02      101565   152348       180562   50783     56425   \n",
      "1     2015-01-03           0        0            0       0         0   \n",
      "2     2015-01-04           0   120971            0       0         0   \n",
      "3     2015-01-05       62238   851377            0  650568     65761   \n",
      "4     2015-01-06           0  1003801       143233  631632    184324   \n",
      "...          ...         ...      ...          ...     ...       ...   \n",
      "3784  2025-05-13      210000   813000       288000  424001    220000   \n",
      "3785  2025-05-14       30500   275000        30000  634001     82000   \n",
      "3786  2025-05-15           0   378001       146000  485000    210000   \n",
      "3787  2025-05-16       50000   341000       161000       0     55000   \n",
      "3788  2025-05-17           0    50000            0       0         0   \n",
      "\n",
      "      South Korea  Vietnam  Malaysia   Japan  Taiwan   Other  \n",
      "0               0        0         0       0       0   76738  \n",
      "1               0        0         0       0       0       0  \n",
      "2               0        0         0       0       0       0  \n",
      "3          422752        0         0  159706       0  162054  \n",
      "4               0    35221         0       0  117403   79835  \n",
      "...           ...      ...       ...     ...     ...     ...  \n",
      "3784            0        0         0   47000   68000  100000  \n",
      "3785       136000   200000     58000  310000       0  156000  \n",
      "3786            0    68000         0   50000       0  218000  \n",
      "3787            0    50000         0   91000       0  140000  \n",
      "3788            0    50000         0       0       0       0  \n",
      "\n",
      "[3789 rows x 12 columns]\n"
     ]
    }
   ],
   "source": [
    "print(FileContainer.get())\n",
    "print(FileContainer.get(FileContainer.get()[4]).content)\n"
   ]
  },
  {
   "cell_type": "markdown",
   "id": "e3a684fd-6a05-4718-925f-1e2d0a91d7ee",
   "metadata": {},
   "source": [
    "# dataframe generation"
   ]
  },
  {
   "cell_type": "code",
   "execution_count": 31,
   "id": "acc0801e-c076-4e09-a61c-ad5dc982a851",
   "metadata": {},
   "outputs": [
    {
     "name": "stdout",
     "output_type": "stream",
     "text": [
      "            Date  Turkey  India  United Arab Emirates  Saudi Arabia  \\\n",
      "0     2015-01-06   45474      0                     0             0   \n",
      "1     2015-01-07       0      0                     0             0   \n",
      "2     2015-01-08       0      0                     0             0   \n",
      "3     2015-01-09       0      0                     0             0   \n",
      "4     2015-01-10       0      0                     0             0   \n",
      "...          ...     ...    ...                   ...           ...   \n",
      "3803  2025-06-05       0      0                     0             0   \n",
      "3804  2025-06-06       0      0                     0             0   \n",
      "3805  2025-06-07       0      0                     0             0   \n",
      "3806  2025-06-08       0      0                     0             0   \n",
      "3807  2025-06-09       0      0                     0             0   \n",
      "\n",
      "      Indonesia  Bangladesh  China     US  Germany  Russia  Other  \n",
      "0             0           0      0      0        0       0    909  \n",
      "1             0           0      0      0        0       0  62364  \n",
      "2             0           0   1849      0        0       0  10801  \n",
      "3             0           0      0      0        0       0      0  \n",
      "4             0           0      0      0        0       0      0  \n",
      "...         ...         ...    ...    ...      ...     ...    ...  \n",
      "3803          0           0      0      0        0     103  24000  \n",
      "3804          0           0      0  92300    15000       0      0  \n",
      "3805          0           0      0      0        0       0  28000  \n",
      "3806          0           0      0      0        0       0      0  \n",
      "3807          0           0      0      0        0       0  25245  \n",
      "\n",
      "[3808 rows x 12 columns]\n"
     ]
    }
   ],
   "source": [
    "# données d'exportations Coal\n",
    "df_coal_Indonesia_to = FileContainer.get('all_voyage_orders_by_cargo_type_time_series_stacked_Indonesia_to').content\n",
    "df_coal_Australia_to = FileContainer.get('all_voyage_orders_by_cargo_type_time_series_stacked_Australia_to').content\n",
    "df_coal_SAFR_to = FileContainer.get('all_voyage_orders_by_cargo_type_time_series_stacked_SAFR_to').content\n",
    "df_coal_US_to = FileContainer.get('all_voyage_orders_by_cargo_type_time_series_stacked_US_to').content\n",
    "df_coal_Russia_to = FileContainer.get('all_voyage_orders_by_cargo_type_time_series_stacked_Russia_to').content\n",
    "\n",
    "# données d'importations coal\n",
    "df_coal_India_in = FileContainer.get('all_voyage_orders_by_cargo_type_time_series_stacked_to_India').content\n",
    "df_coal_China_in = FileContainer.get('all_voyage_orders_by_cargo_type_time_series_stacked_to_China').content\n",
    "df_coal_Vietnam_in = FileContainer.get('all_voyage_orders_by_cargo_type_time_series_stacked_to_Vietnam').content\n",
    "df_coal_Japan_in = FileContainer.get('all_voyage_orders_by_cargo_type_time_series_stacked_to_Japan').content\n",
    "df_coal_SK_in = FileContainer.get('all_voyage_orders_by_cargo_type_time_series_stacked_to_SK').content\n",
    "\n",
    "# données d'exportations Project\n",
    "df_project_India_to = FileContainer.get('all_voyage_orders_by_cargo_type_time_series_stacked_India_to').content\n",
    "df_project_China_to = FileContainer.get('all_voyage_orders_by_cargo_type_time_series_stacked_China_to').content\n",
    "df_project_Vietnam_to = FileContainer.get('all_voyage_orders_by_cargo_type_time_series_stacked_Vietnam_to').content\n",
    "df_project_Japan_to = FileContainer.get('all_voyage_orders_by_cargo_type_time_series_stacked_Japan_to').content\n",
    "df_project_SK_to = FileContainer.get('all_voyage_orders_by_cargo_type_time_series_stacked_SK_to').content\n",
    "\n",
    "# données d'importations Project\n",
    "df_project_Turkey_in = FileContainer.get('all_voyage_orders_by_cargo_type_time_series_stacked_Turkey_in').content\n",
    "df_project_Bangladesh_in = FileContainer.get('all_voyage_orders_by_cargo_type_time_series_stacked_Bangladesh_in').content\n",
    "df_project_Nigeria_in = FileContainer.get('all_voyage_orders_by_cargo_type_time_series_stacked_Nigeria_in').content\n",
    "df_project_Egypt_in = FileContainer.get('all_voyage_orders_by_cargo_type_time_series_stacked_Egypt_in').content\n",
    "df_project_Libya_in = FileContainer.get('all_voyage_orders_by_cargo_type_time_series_stacked_Lybia_in').content\n",
    "\n",
    "\n",
    "data_import= {'Coal': {'India': df_coal_India_in, 'China':df_coal_China_in, 'Vietnam':df_coal_Vietnam_in, 'Japan':df_coal_Japan_in,'South Korea':df_coal_SK_in},\n",
    "              'Project': {'Turkey': df_project_Turkey_in, 'Bangladesh':df_project_Bangladesh_in, 'Nigeria':df_project_Nigeria_in, 'Egypt':df_project_Egypt_in,'Libya':df_project_Libya_in}}\n",
    "\n",
    "data_export= {'Coal': {'Indonesia': df_coal_Indonesia_to, 'Australia':df_coal_Australia_to, 'SAFR':df_coal_SAFR_to, 'US':df_coal_US_to,'Russia':df_coal_Russia_to},\n",
    "              'Project': {'India': df_project_India_to, 'China':df_project_China_to, 'Vietnam':df_project_Vietnam_to, 'Japan':df_project_Japan_to,'South Korea':df_project_SK_to}}\n",
    "\n",
    "# Destinations uniques\n",
    "export_countries= {'Coal':['Indonesia','Australia','SAFR','US','Russia', 'Other_exp'],\n",
    "                   'Project':['India','China','Vietnam','Japan','South Korea', 'Other_imp']}\n",
    "\n",
    "import_countries={'Coal':['India','China','Vietnam','Japan','South Korea', 'Other_imp'],\n",
    "                  'Project':['Turkey','Bangladesh','Nigeria','Egypt','Libya', 'Other_imp']}\n",
    "\n",
    "df_temp={'Coal':'',\n",
    "         'Project':''}\n",
    "\n",
    "day='2021-03-10'\n",
    "print(data_export['Project']['India'])\n",
    "\n"
   ]
  },
  {
   "cell_type": "markdown",
   "id": "9439472b-7c50-4bc9-bb96-0715ce7807e9",
   "metadata": {},
   "source": [
    "# dataframe per day"
   ]
  },
  {
   "cell_type": "code",
   "execution_count": 32,
   "id": "19266a2f-813d-48eb-ac70-5e123dc8f825",
   "metadata": {},
   "outputs": [
    {
     "data": {
      "text/html": [
       "<div>\n",
       "<style scoped>\n",
       "    .dataframe tbody tr th:only-of-type {\n",
       "        vertical-align: middle;\n",
       "    }\n",
       "\n",
       "    .dataframe tbody tr th {\n",
       "        vertical-align: top;\n",
       "    }\n",
       "\n",
       "    .dataframe thead th {\n",
       "        text-align: right;\n",
       "    }\n",
       "</style>\n",
       "<table border=\"1\" class=\"dataframe\">\n",
       "  <thead>\n",
       "    <tr style=\"text-align: right;\">\n",
       "      <th></th>\n",
       "      <th>Date</th>\n",
       "      <th>Bangladesh</th>\n",
       "      <th>India</th>\n",
       "      <th>Philippines</th>\n",
       "      <th>China</th>\n",
       "      <th>Thailand</th>\n",
       "      <th>South Korea</th>\n",
       "      <th>Vietnam</th>\n",
       "      <th>Malaysia</th>\n",
       "      <th>Japan</th>\n",
       "      <th>Taiwan</th>\n",
       "      <th>Other</th>\n",
       "    </tr>\n",
       "  </thead>\n",
       "  <tbody>\n",
       "    <tr>\n",
       "      <th>3784</th>\n",
       "      <td>2025-05-13</td>\n",
       "      <td>210000</td>\n",
       "      <td>813000</td>\n",
       "      <td>288000</td>\n",
       "      <td>424001</td>\n",
       "      <td>220000</td>\n",
       "      <td>0</td>\n",
       "      <td>0</td>\n",
       "      <td>0</td>\n",
       "      <td>47000</td>\n",
       "      <td>68000</td>\n",
       "      <td>100000</td>\n",
       "    </tr>\n",
       "    <tr>\n",
       "      <th>3785</th>\n",
       "      <td>2025-05-14</td>\n",
       "      <td>30500</td>\n",
       "      <td>275000</td>\n",
       "      <td>30000</td>\n",
       "      <td>634001</td>\n",
       "      <td>82000</td>\n",
       "      <td>136000</td>\n",
       "      <td>200000</td>\n",
       "      <td>58000</td>\n",
       "      <td>310000</td>\n",
       "      <td>0</td>\n",
       "      <td>156000</td>\n",
       "    </tr>\n",
       "    <tr>\n",
       "      <th>3786</th>\n",
       "      <td>2025-05-15</td>\n",
       "      <td>0</td>\n",
       "      <td>378001</td>\n",
       "      <td>146000</td>\n",
       "      <td>485000</td>\n",
       "      <td>210000</td>\n",
       "      <td>0</td>\n",
       "      <td>68000</td>\n",
       "      <td>0</td>\n",
       "      <td>50000</td>\n",
       "      <td>0</td>\n",
       "      <td>218000</td>\n",
       "    </tr>\n",
       "    <tr>\n",
       "      <th>3787</th>\n",
       "      <td>2025-05-16</td>\n",
       "      <td>50000</td>\n",
       "      <td>341000</td>\n",
       "      <td>161000</td>\n",
       "      <td>0</td>\n",
       "      <td>55000</td>\n",
       "      <td>0</td>\n",
       "      <td>50000</td>\n",
       "      <td>0</td>\n",
       "      <td>91000</td>\n",
       "      <td>0</td>\n",
       "      <td>140000</td>\n",
       "    </tr>\n",
       "    <tr>\n",
       "      <th>3788</th>\n",
       "      <td>2025-05-17</td>\n",
       "      <td>0</td>\n",
       "      <td>50000</td>\n",
       "      <td>0</td>\n",
       "      <td>0</td>\n",
       "      <td>0</td>\n",
       "      <td>0</td>\n",
       "      <td>50000</td>\n",
       "      <td>0</td>\n",
       "      <td>0</td>\n",
       "      <td>0</td>\n",
       "      <td>0</td>\n",
       "    </tr>\n",
       "  </tbody>\n",
       "</table>\n",
       "</div>"
      ],
      "text/plain": [
       "            Date  Bangladesh   India  Philippines   China  Thailand  \\\n",
       "3784  2025-05-13      210000  813000       288000  424001    220000   \n",
       "3785  2025-05-14       30500  275000        30000  634001     82000   \n",
       "3786  2025-05-15           0  378001       146000  485000    210000   \n",
       "3787  2025-05-16       50000  341000       161000       0     55000   \n",
       "3788  2025-05-17           0   50000            0       0         0   \n",
       "\n",
       "      South Korea  Vietnam  Malaysia   Japan  Taiwan   Other  \n",
       "3784            0        0         0   47000   68000  100000  \n",
       "3785       136000   200000     58000  310000       0  156000  \n",
       "3786            0    68000         0   50000       0  218000  \n",
       "3787            0    50000         0   91000       0  140000  \n",
       "3788            0    50000         0       0       0       0  "
      ]
     },
     "execution_count": 32,
     "metadata": {},
     "output_type": "execute_result"
    }
   ],
   "source": [
    "df_coal_Indonesia_to.tail()"
   ]
  },
  {
   "cell_type": "code",
   "execution_count": 33,
   "id": "abd82543-85c2-47fc-9aad-547b7b0dd1b7",
   "metadata": {},
   "outputs": [
    {
     "data": {
      "text/html": [
       "<div>\n",
       "<style scoped>\n",
       "    .dataframe tbody tr th:only-of-type {\n",
       "        vertical-align: middle;\n",
       "    }\n",
       "\n",
       "    .dataframe tbody tr th {\n",
       "        vertical-align: top;\n",
       "    }\n",
       "\n",
       "    .dataframe thead th {\n",
       "        text-align: right;\n",
       "    }\n",
       "</style>\n",
       "<table border=\"1\" class=\"dataframe\">\n",
       "  <thead>\n",
       "    <tr style=\"text-align: right;\">\n",
       "      <th></th>\n",
       "      <th>Date</th>\n",
       "      <th>Mozambique</th>\n",
       "      <th>US</th>\n",
       "      <th>Australia</th>\n",
       "      <th>India</th>\n",
       "      <th>China</th>\n",
       "      <th>Russia</th>\n",
       "      <th>Indonesia</th>\n",
       "      <th>Singapore</th>\n",
       "      <th>SAFR</th>\n",
       "      <th>Colombia</th>\n",
       "      <th>Other</th>\n",
       "    </tr>\n",
       "  </thead>\n",
       "  <tbody>\n",
       "    <tr>\n",
       "      <th>3792</th>\n",
       "      <td>2025-05-20</td>\n",
       "      <td>0</td>\n",
       "      <td>185000</td>\n",
       "      <td>75000</td>\n",
       "      <td>324000</td>\n",
       "      <td>0</td>\n",
       "      <td>75000</td>\n",
       "      <td>369000</td>\n",
       "      <td>0</td>\n",
       "      <td>143000</td>\n",
       "      <td>0</td>\n",
       "      <td>143000</td>\n",
       "    </tr>\n",
       "    <tr>\n",
       "      <th>3793</th>\n",
       "      <td>2025-05-21</td>\n",
       "      <td>75000</td>\n",
       "      <td>115000</td>\n",
       "      <td>503000</td>\n",
       "      <td>107000</td>\n",
       "      <td>0</td>\n",
       "      <td>0</td>\n",
       "      <td>420000</td>\n",
       "      <td>0</td>\n",
       "      <td>75000</td>\n",
       "      <td>0</td>\n",
       "      <td>136000</td>\n",
       "    </tr>\n",
       "    <tr>\n",
       "      <th>3794</th>\n",
       "      <td>2025-05-22</td>\n",
       "      <td>80000</td>\n",
       "      <td>300000</td>\n",
       "      <td>743000</td>\n",
       "      <td>0</td>\n",
       "      <td>0</td>\n",
       "      <td>225000</td>\n",
       "      <td>391000</td>\n",
       "      <td>0</td>\n",
       "      <td>243000</td>\n",
       "      <td>0</td>\n",
       "      <td>75000</td>\n",
       "    </tr>\n",
       "  </tbody>\n",
       "</table>\n",
       "</div>"
      ],
      "text/plain": [
       "            Date  Mozambique      US  Australia   India  China  Russia  \\\n",
       "3792  2025-05-20           0  185000      75000  324000      0   75000   \n",
       "3793  2025-05-21       75000  115000     503000  107000      0       0   \n",
       "3794  2025-05-22       80000  300000     743000       0      0  225000   \n",
       "\n",
       "      Indonesia  Singapore    SAFR  Colombia   Other  \n",
       "3792     369000          0  143000         0  143000  \n",
       "3793     420000          0   75000         0  136000  \n",
       "3794     391000          0  243000         0   75000  "
      ]
     },
     "execution_count": 33,
     "metadata": {},
     "output_type": "execute_result"
    }
   ],
   "source": [
    "df_coal_India_in.tail(3)"
   ]
  },
  {
   "cell_type": "code",
   "execution_count": 34,
   "id": "94da962c-f324-42e3-b397-db6932d1c8c1",
   "metadata": {},
   "outputs": [],
   "source": [
    "\n",
    "# Données du jour\n",
    "def data_day(df):\n",
    "    return df[df['Date'] == day].iloc[0, 1:]\n",
    "    \n",
    "#données d'export journalière\n",
    "day_df_export={'Coal': [data_day(df_coal_Indonesia_to),data_day(df_coal_Australia_to),data_day(df_coal_SAFR_to),data_day(df_coal_US_to),data_day(df_coal_Russia_to)]}\n",
    "day_df_coal_Indonesia_to = day_df_export['Coal'][0]\n",
    "day_df_coal_Australia_to = day_df_export['Coal'][1]\n",
    "day_df_coal_SAFR_to = day_df_export['Coal'][2]\n",
    "day_df_coal_US_to = day_df_export['Coal'][3]\n",
    "day_df_coal_Russia_to = day_df_export['Coal'][4]\n",
    "\n",
    "#données d'import journalière\n",
    "day_df_import={'Coal': [data_day(df_coal_India_in),data_day(df_coal_China_in),data_day(df_coal_Vietnam_in),data_day(df_coal_Japan_in),data_day(df_coal_SK_in)]}\n",
    "day_df_coal_India_in = day_df_import['Coal'][0]\n",
    "day_df_coal_China_in = day_df_import['Coal'][1]\n",
    "day_df_coal_Vietnam_in = day_df_import['Coal'][2]\n",
    "day_df_coal_Japan_in = day_df_import['Coal'][3]\n",
    "day_df_coal_SK_in = day_df_import['Coal'][4]\n"
   ]
  },
  {
   "cell_type": "markdown",
   "id": "14274509-8e49-4518-b112-359f0079b0a0",
   "metadata": {},
   "source": [
    "# Diagram sankey"
   ]
  },
  {
   "cell_type": "code",
   "execution_count": 35,
   "id": "fb15c2ad-c5ab-4c92-b042-654088c9e0c8",
   "metadata": {},
   "outputs": [
    {
     "name": "stdout",
     "output_type": "stream",
     "text": [
      "            India   China  Vietnam   Japan  South Korea  Other_imp\n",
      "Indonesia  988234   36710   172537       0       145373     292211\n",
      "Australia  117472       0        0       0        58736     128486\n",
      "SAFR       108662       0        0       0            0      84433\n",
      "US              0       0        0       0            0     139498\n",
      "Russia      22026  259172        0  161523        88838     328188\n",
      "Other_exp   99117  408215        0   38912        66078          0\n"
     ]
    },
    {
     "data": {
      "application/vnd.plotly.v1+json": {
       "config": {
        "plotlyServerURL": "https://plot.ly"
       },
       "data": [
        {
         "link": {
          "color": [
           "rgba(0, 128, 255, 0.6)",
           "rgba(0, 128, 255, 0.6)",
           "rgba(0, 128, 255, 0.6)",
           "rgba(0, 128, 255, 0.6)",
           "rgba(0, 128, 255, 0.6)",
           "rgba(255, 165, 0, 0.6)",
           "rgba(255, 165, 0, 0.6)",
           "rgba(255, 165, 0, 0.6)",
           "rgba(50, 205, 50, 0.6)",
           "rgba(50, 205, 50, 0.6)",
           "rgba(229, 251, 21, 0.74)",
           "rgba(255, 2, 0, 0.74)",
           "rgba(255, 2, 0, 0.74)",
           "rgba(255, 2, 0, 0.74)",
           "rgba(255, 2, 0, 0.74)",
           "rgba(255, 2, 0, 0.74)",
           "rgba(245, 40, 145, 0.93)",
           "rgba(245, 40, 145, 0.93)",
           "rgba(245, 40, 145, 0.93)",
           "rgba(245, 40, 145, 0.93)"
          ],
          "source": [
           0,
           0,
           0,
           0,
           0,
           1,
           1,
           1,
           2,
           2,
           3,
           4,
           4,
           4,
           4,
           4,
           5,
           5,
           5,
           5
          ],
          "target": [
           6,
           7,
           8,
           10,
           11,
           6,
           10,
           11,
           6,
           11,
           11,
           6,
           7,
           9,
           10,
           11,
           6,
           7,
           9,
           10
          ],
          "value": [
           988234,
           36710,
           172537,
           145373,
           292211,
           117472,
           58736,
           128486,
           108662,
           84433,
           139498,
           22026,
           259172,
           161523,
           88838,
           328188,
           99117,
           408215,
           38912,
           66078
          ]
         },
         "node": {
          "label": [
           "Indonesia",
           "Australia",
           "SAFR",
           "US",
           "Russia",
           "Other_exp",
           "India",
           "China",
           "Vietnam",
           "Japan",
           "South Korea",
           "Other_imp"
          ],
          "line": {
           "color": "black",
           "width": 0.5
          },
          "pad": 15,
          "thickness": 20
         },
         "type": "sankey"
        }
       ],
       "layout": {
        "font": {
         "size": 10
        },
        "template": {
         "data": {
          "bar": [
           {
            "error_x": {
             "color": "#2a3f5f"
            },
            "error_y": {
             "color": "#2a3f5f"
            },
            "marker": {
             "line": {
              "color": "#E5ECF6",
              "width": 0.5
             },
             "pattern": {
              "fillmode": "overlay",
              "size": 10,
              "solidity": 0.2
             }
            },
            "type": "bar"
           }
          ],
          "barpolar": [
           {
            "marker": {
             "line": {
              "color": "#E5ECF6",
              "width": 0.5
             },
             "pattern": {
              "fillmode": "overlay",
              "size": 10,
              "solidity": 0.2
             }
            },
            "type": "barpolar"
           }
          ],
          "carpet": [
           {
            "aaxis": {
             "endlinecolor": "#2a3f5f",
             "gridcolor": "white",
             "linecolor": "white",
             "minorgridcolor": "white",
             "startlinecolor": "#2a3f5f"
            },
            "baxis": {
             "endlinecolor": "#2a3f5f",
             "gridcolor": "white",
             "linecolor": "white",
             "minorgridcolor": "white",
             "startlinecolor": "#2a3f5f"
            },
            "type": "carpet"
           }
          ],
          "choropleth": [
           {
            "colorbar": {
             "outlinewidth": 0,
             "ticks": ""
            },
            "type": "choropleth"
           }
          ],
          "contour": [
           {
            "colorbar": {
             "outlinewidth": 0,
             "ticks": ""
            },
            "colorscale": [
             [
              0,
              "#0d0887"
             ],
             [
              0.1111111111111111,
              "#46039f"
             ],
             [
              0.2222222222222222,
              "#7201a8"
             ],
             [
              0.3333333333333333,
              "#9c179e"
             ],
             [
              0.4444444444444444,
              "#bd3786"
             ],
             [
              0.5555555555555556,
              "#d8576b"
             ],
             [
              0.6666666666666666,
              "#ed7953"
             ],
             [
              0.7777777777777778,
              "#fb9f3a"
             ],
             [
              0.8888888888888888,
              "#fdca26"
             ],
             [
              1,
              "#f0f921"
             ]
            ],
            "type": "contour"
           }
          ],
          "contourcarpet": [
           {
            "colorbar": {
             "outlinewidth": 0,
             "ticks": ""
            },
            "type": "contourcarpet"
           }
          ],
          "heatmap": [
           {
            "colorbar": {
             "outlinewidth": 0,
             "ticks": ""
            },
            "colorscale": [
             [
              0,
              "#0d0887"
             ],
             [
              0.1111111111111111,
              "#46039f"
             ],
             [
              0.2222222222222222,
              "#7201a8"
             ],
             [
              0.3333333333333333,
              "#9c179e"
             ],
             [
              0.4444444444444444,
              "#bd3786"
             ],
             [
              0.5555555555555556,
              "#d8576b"
             ],
             [
              0.6666666666666666,
              "#ed7953"
             ],
             [
              0.7777777777777778,
              "#fb9f3a"
             ],
             [
              0.8888888888888888,
              "#fdca26"
             ],
             [
              1,
              "#f0f921"
             ]
            ],
            "type": "heatmap"
           }
          ],
          "heatmapgl": [
           {
            "colorbar": {
             "outlinewidth": 0,
             "ticks": ""
            },
            "colorscale": [
             [
              0,
              "#0d0887"
             ],
             [
              0.1111111111111111,
              "#46039f"
             ],
             [
              0.2222222222222222,
              "#7201a8"
             ],
             [
              0.3333333333333333,
              "#9c179e"
             ],
             [
              0.4444444444444444,
              "#bd3786"
             ],
             [
              0.5555555555555556,
              "#d8576b"
             ],
             [
              0.6666666666666666,
              "#ed7953"
             ],
             [
              0.7777777777777778,
              "#fb9f3a"
             ],
             [
              0.8888888888888888,
              "#fdca26"
             ],
             [
              1,
              "#f0f921"
             ]
            ],
            "type": "heatmapgl"
           }
          ],
          "histogram": [
           {
            "marker": {
             "pattern": {
              "fillmode": "overlay",
              "size": 10,
              "solidity": 0.2
             }
            },
            "type": "histogram"
           }
          ],
          "histogram2d": [
           {
            "colorbar": {
             "outlinewidth": 0,
             "ticks": ""
            },
            "colorscale": [
             [
              0,
              "#0d0887"
             ],
             [
              0.1111111111111111,
              "#46039f"
             ],
             [
              0.2222222222222222,
              "#7201a8"
             ],
             [
              0.3333333333333333,
              "#9c179e"
             ],
             [
              0.4444444444444444,
              "#bd3786"
             ],
             [
              0.5555555555555556,
              "#d8576b"
             ],
             [
              0.6666666666666666,
              "#ed7953"
             ],
             [
              0.7777777777777778,
              "#fb9f3a"
             ],
             [
              0.8888888888888888,
              "#fdca26"
             ],
             [
              1,
              "#f0f921"
             ]
            ],
            "type": "histogram2d"
           }
          ],
          "histogram2dcontour": [
           {
            "colorbar": {
             "outlinewidth": 0,
             "ticks": ""
            },
            "colorscale": [
             [
              0,
              "#0d0887"
             ],
             [
              0.1111111111111111,
              "#46039f"
             ],
             [
              0.2222222222222222,
              "#7201a8"
             ],
             [
              0.3333333333333333,
              "#9c179e"
             ],
             [
              0.4444444444444444,
              "#bd3786"
             ],
             [
              0.5555555555555556,
              "#d8576b"
             ],
             [
              0.6666666666666666,
              "#ed7953"
             ],
             [
              0.7777777777777778,
              "#fb9f3a"
             ],
             [
              0.8888888888888888,
              "#fdca26"
             ],
             [
              1,
              "#f0f921"
             ]
            ],
            "type": "histogram2dcontour"
           }
          ],
          "mesh3d": [
           {
            "colorbar": {
             "outlinewidth": 0,
             "ticks": ""
            },
            "type": "mesh3d"
           }
          ],
          "parcoords": [
           {
            "line": {
             "colorbar": {
              "outlinewidth": 0,
              "ticks": ""
             }
            },
            "type": "parcoords"
           }
          ],
          "pie": [
           {
            "automargin": true,
            "type": "pie"
           }
          ],
          "scatter": [
           {
            "fillpattern": {
             "fillmode": "overlay",
             "size": 10,
             "solidity": 0.2
            },
            "type": "scatter"
           }
          ],
          "scatter3d": [
           {
            "line": {
             "colorbar": {
              "outlinewidth": 0,
              "ticks": ""
             }
            },
            "marker": {
             "colorbar": {
              "outlinewidth": 0,
              "ticks": ""
             }
            },
            "type": "scatter3d"
           }
          ],
          "scattercarpet": [
           {
            "marker": {
             "colorbar": {
              "outlinewidth": 0,
              "ticks": ""
             }
            },
            "type": "scattercarpet"
           }
          ],
          "scattergeo": [
           {
            "marker": {
             "colorbar": {
              "outlinewidth": 0,
              "ticks": ""
             }
            },
            "type": "scattergeo"
           }
          ],
          "scattergl": [
           {
            "marker": {
             "colorbar": {
              "outlinewidth": 0,
              "ticks": ""
             }
            },
            "type": "scattergl"
           }
          ],
          "scattermapbox": [
           {
            "marker": {
             "colorbar": {
              "outlinewidth": 0,
              "ticks": ""
             }
            },
            "type": "scattermapbox"
           }
          ],
          "scatterpolar": [
           {
            "marker": {
             "colorbar": {
              "outlinewidth": 0,
              "ticks": ""
             }
            },
            "type": "scatterpolar"
           }
          ],
          "scatterpolargl": [
           {
            "marker": {
             "colorbar": {
              "outlinewidth": 0,
              "ticks": ""
             }
            },
            "type": "scatterpolargl"
           }
          ],
          "scatterternary": [
           {
            "marker": {
             "colorbar": {
              "outlinewidth": 0,
              "ticks": ""
             }
            },
            "type": "scatterternary"
           }
          ],
          "surface": [
           {
            "colorbar": {
             "outlinewidth": 0,
             "ticks": ""
            },
            "colorscale": [
             [
              0,
              "#0d0887"
             ],
             [
              0.1111111111111111,
              "#46039f"
             ],
             [
              0.2222222222222222,
              "#7201a8"
             ],
             [
              0.3333333333333333,
              "#9c179e"
             ],
             [
              0.4444444444444444,
              "#bd3786"
             ],
             [
              0.5555555555555556,
              "#d8576b"
             ],
             [
              0.6666666666666666,
              "#ed7953"
             ],
             [
              0.7777777777777778,
              "#fb9f3a"
             ],
             [
              0.8888888888888888,
              "#fdca26"
             ],
             [
              1,
              "#f0f921"
             ]
            ],
            "type": "surface"
           }
          ],
          "table": [
           {
            "cells": {
             "fill": {
              "color": "#EBF0F8"
             },
             "line": {
              "color": "white"
             }
            },
            "header": {
             "fill": {
              "color": "#C8D4E3"
             },
             "line": {
              "color": "white"
             }
            },
            "type": "table"
           }
          ]
         },
         "layout": {
          "annotationdefaults": {
           "arrowcolor": "#2a3f5f",
           "arrowhead": 0,
           "arrowwidth": 1
          },
          "autotypenumbers": "strict",
          "coloraxis": {
           "colorbar": {
            "outlinewidth": 0,
            "ticks": ""
           }
          },
          "colorscale": {
           "diverging": [
            [
             0,
             "#8e0152"
            ],
            [
             0.1,
             "#c51b7d"
            ],
            [
             0.2,
             "#de77ae"
            ],
            [
             0.3,
             "#f1b6da"
            ],
            [
             0.4,
             "#fde0ef"
            ],
            [
             0.5,
             "#f7f7f7"
            ],
            [
             0.6,
             "#e6f5d0"
            ],
            [
             0.7,
             "#b8e186"
            ],
            [
             0.8,
             "#7fbc41"
            ],
            [
             0.9,
             "#4d9221"
            ],
            [
             1,
             "#276419"
            ]
           ],
           "sequential": [
            [
             0,
             "#0d0887"
            ],
            [
             0.1111111111111111,
             "#46039f"
            ],
            [
             0.2222222222222222,
             "#7201a8"
            ],
            [
             0.3333333333333333,
             "#9c179e"
            ],
            [
             0.4444444444444444,
             "#bd3786"
            ],
            [
             0.5555555555555556,
             "#d8576b"
            ],
            [
             0.6666666666666666,
             "#ed7953"
            ],
            [
             0.7777777777777778,
             "#fb9f3a"
            ],
            [
             0.8888888888888888,
             "#fdca26"
            ],
            [
             1,
             "#f0f921"
            ]
           ],
           "sequentialminus": [
            [
             0,
             "#0d0887"
            ],
            [
             0.1111111111111111,
             "#46039f"
            ],
            [
             0.2222222222222222,
             "#7201a8"
            ],
            [
             0.3333333333333333,
             "#9c179e"
            ],
            [
             0.4444444444444444,
             "#bd3786"
            ],
            [
             0.5555555555555556,
             "#d8576b"
            ],
            [
             0.6666666666666666,
             "#ed7953"
            ],
            [
             0.7777777777777778,
             "#fb9f3a"
            ],
            [
             0.8888888888888888,
             "#fdca26"
            ],
            [
             1,
             "#f0f921"
            ]
           ]
          },
          "colorway": [
           "#636efa",
           "#EF553B",
           "#00cc96",
           "#ab63fa",
           "#FFA15A",
           "#19d3f3",
           "#FF6692",
           "#B6E880",
           "#FF97FF",
           "#FECB52"
          ],
          "font": {
           "color": "#2a3f5f"
          },
          "geo": {
           "bgcolor": "white",
           "lakecolor": "white",
           "landcolor": "#E5ECF6",
           "showlakes": true,
           "showland": true,
           "subunitcolor": "white"
          },
          "hoverlabel": {
           "align": "left"
          },
          "hovermode": "closest",
          "mapbox": {
           "style": "light"
          },
          "paper_bgcolor": "white",
          "plot_bgcolor": "#E5ECF6",
          "polar": {
           "angularaxis": {
            "gridcolor": "white",
            "linecolor": "white",
            "ticks": ""
           },
           "bgcolor": "#E5ECF6",
           "radialaxis": {
            "gridcolor": "white",
            "linecolor": "white",
            "ticks": ""
           }
          },
          "scene": {
           "xaxis": {
            "backgroundcolor": "#E5ECF6",
            "gridcolor": "white",
            "gridwidth": 2,
            "linecolor": "white",
            "showbackground": true,
            "ticks": "",
            "zerolinecolor": "white"
           },
           "yaxis": {
            "backgroundcolor": "#E5ECF6",
            "gridcolor": "white",
            "gridwidth": 2,
            "linecolor": "white",
            "showbackground": true,
            "ticks": "",
            "zerolinecolor": "white"
           },
           "zaxis": {
            "backgroundcolor": "#E5ECF6",
            "gridcolor": "white",
            "gridwidth": 2,
            "linecolor": "white",
            "showbackground": true,
            "ticks": "",
            "zerolinecolor": "white"
           }
          },
          "shapedefaults": {
           "line": {
            "color": "#2a3f5f"
           }
          },
          "ternary": {
           "aaxis": {
            "gridcolor": "white",
            "linecolor": "white",
            "ticks": ""
           },
           "baxis": {
            "gridcolor": "white",
            "linecolor": "white",
            "ticks": ""
           },
           "bgcolor": "#E5ECF6",
           "caxis": {
            "gridcolor": "white",
            "linecolor": "white",
            "ticks": ""
           }
          },
          "title": {
           "x": 0.05
          },
          "xaxis": {
           "automargin": true,
           "gridcolor": "white",
           "linecolor": "white",
           "ticks": "",
           "title": {
            "standoff": 15
           },
           "zerolinecolor": "white",
           "zerolinewidth": 2
          },
          "yaxis": {
           "automargin": true,
           "gridcolor": "white",
           "linecolor": "white",
           "ticks": "",
           "title": {
            "standoff": 15
           },
           "zerolinecolor": "white",
           "zerolinewidth": 2
          }
         }
        },
        "title": {
         "text": "Flux Sankey exportateurs → importateurs (Coal)"
        }
       }
      },
      "text/html": [
       "<div>                            <div id=\"b1780e5d-d90b-4b33-a86c-7a9f2a3e5838\" class=\"plotly-graph-div\" style=\"height:525px; width:100%;\"></div>            <script type=\"text/javascript\">                require([\"plotly\"], function(Plotly) {                    window.PLOTLYENV=window.PLOTLYENV || {};                                    if (document.getElementById(\"b1780e5d-d90b-4b33-a86c-7a9f2a3e5838\")) {                    Plotly.newPlot(                        \"b1780e5d-d90b-4b33-a86c-7a9f2a3e5838\",                        [{\"link\":{\"color\":[\"rgba(0, 128, 255, 0.6)\",\"rgba(0, 128, 255, 0.6)\",\"rgba(0, 128, 255, 0.6)\",\"rgba(0, 128, 255, 0.6)\",\"rgba(0, 128, 255, 0.6)\",\"rgba(255, 165, 0, 0.6)\",\"rgba(255, 165, 0, 0.6)\",\"rgba(255, 165, 0, 0.6)\",\"rgba(50, 205, 50, 0.6)\",\"rgba(50, 205, 50, 0.6)\",\"rgba(229, 251, 21, 0.74)\",\"rgba(255, 2, 0, 0.74)\",\"rgba(255, 2, 0, 0.74)\",\"rgba(255, 2, 0, 0.74)\",\"rgba(255, 2, 0, 0.74)\",\"rgba(255, 2, 0, 0.74)\",\"rgba(245, 40, 145, 0.93)\",\"rgba(245, 40, 145, 0.93)\",\"rgba(245, 40, 145, 0.93)\",\"rgba(245, 40, 145, 0.93)\"],\"source\":[0,0,0,0,0,1,1,1,2,2,3,4,4,4,4,4,5,5,5,5],\"target\":[6,7,8,10,11,6,10,11,6,11,11,6,7,9,10,11,6,7,9,10],\"value\":[988234,36710,172537,145373,292211,117472,58736,128486,108662,84433,139498,22026,259172,161523,88838,328188,99117,408215,38912,66078]},\"node\":{\"label\":[\"Indonesia\",\"Australia\",\"SAFR\",\"US\",\"Russia\",\"Other_exp\",\"India\",\"China\",\"Vietnam\",\"Japan\",\"South Korea\",\"Other_imp\"],\"line\":{\"color\":\"black\",\"width\":0.5},\"pad\":15,\"thickness\":20},\"type\":\"sankey\"}],                        {\"template\":{\"data\":{\"histogram2dcontour\":[{\"type\":\"histogram2dcontour\",\"colorbar\":{\"outlinewidth\":0,\"ticks\":\"\"},\"colorscale\":[[0.0,\"#0d0887\"],[0.1111111111111111,\"#46039f\"],[0.2222222222222222,\"#7201a8\"],[0.3333333333333333,\"#9c179e\"],[0.4444444444444444,\"#bd3786\"],[0.5555555555555556,\"#d8576b\"],[0.6666666666666666,\"#ed7953\"],[0.7777777777777778,\"#fb9f3a\"],[0.8888888888888888,\"#fdca26\"],[1.0,\"#f0f921\"]]}],\"choropleth\":[{\"type\":\"choropleth\",\"colorbar\":{\"outlinewidth\":0,\"ticks\":\"\"}}],\"histogram2d\":[{\"type\":\"histogram2d\",\"colorbar\":{\"outlinewidth\":0,\"ticks\":\"\"},\"colorscale\":[[0.0,\"#0d0887\"],[0.1111111111111111,\"#46039f\"],[0.2222222222222222,\"#7201a8\"],[0.3333333333333333,\"#9c179e\"],[0.4444444444444444,\"#bd3786\"],[0.5555555555555556,\"#d8576b\"],[0.6666666666666666,\"#ed7953\"],[0.7777777777777778,\"#fb9f3a\"],[0.8888888888888888,\"#fdca26\"],[1.0,\"#f0f921\"]]}],\"heatmap\":[{\"type\":\"heatmap\",\"colorbar\":{\"outlinewidth\":0,\"ticks\":\"\"},\"colorscale\":[[0.0,\"#0d0887\"],[0.1111111111111111,\"#46039f\"],[0.2222222222222222,\"#7201a8\"],[0.3333333333333333,\"#9c179e\"],[0.4444444444444444,\"#bd3786\"],[0.5555555555555556,\"#d8576b\"],[0.6666666666666666,\"#ed7953\"],[0.7777777777777778,\"#fb9f3a\"],[0.8888888888888888,\"#fdca26\"],[1.0,\"#f0f921\"]]}],\"heatmapgl\":[{\"type\":\"heatmapgl\",\"colorbar\":{\"outlinewidth\":0,\"ticks\":\"\"},\"colorscale\":[[0.0,\"#0d0887\"],[0.1111111111111111,\"#46039f\"],[0.2222222222222222,\"#7201a8\"],[0.3333333333333333,\"#9c179e\"],[0.4444444444444444,\"#bd3786\"],[0.5555555555555556,\"#d8576b\"],[0.6666666666666666,\"#ed7953\"],[0.7777777777777778,\"#fb9f3a\"],[0.8888888888888888,\"#fdca26\"],[1.0,\"#f0f921\"]]}],\"contourcarpet\":[{\"type\":\"contourcarpet\",\"colorbar\":{\"outlinewidth\":0,\"ticks\":\"\"}}],\"contour\":[{\"type\":\"contour\",\"colorbar\":{\"outlinewidth\":0,\"ticks\":\"\"},\"colorscale\":[[0.0,\"#0d0887\"],[0.1111111111111111,\"#46039f\"],[0.2222222222222222,\"#7201a8\"],[0.3333333333333333,\"#9c179e\"],[0.4444444444444444,\"#bd3786\"],[0.5555555555555556,\"#d8576b\"],[0.6666666666666666,\"#ed7953\"],[0.7777777777777778,\"#fb9f3a\"],[0.8888888888888888,\"#fdca26\"],[1.0,\"#f0f921\"]]}],\"surface\":[{\"type\":\"surface\",\"colorbar\":{\"outlinewidth\":0,\"ticks\":\"\"},\"colorscale\":[[0.0,\"#0d0887\"],[0.1111111111111111,\"#46039f\"],[0.2222222222222222,\"#7201a8\"],[0.3333333333333333,\"#9c179e\"],[0.4444444444444444,\"#bd3786\"],[0.5555555555555556,\"#d8576b\"],[0.6666666666666666,\"#ed7953\"],[0.7777777777777778,\"#fb9f3a\"],[0.8888888888888888,\"#fdca26\"],[1.0,\"#f0f921\"]]}],\"mesh3d\":[{\"type\":\"mesh3d\",\"colorbar\":{\"outlinewidth\":0,\"ticks\":\"\"}}],\"scatter\":[{\"fillpattern\":{\"fillmode\":\"overlay\",\"size\":10,\"solidity\":0.2},\"type\":\"scatter\"}],\"parcoords\":[{\"type\":\"parcoords\",\"line\":{\"colorbar\":{\"outlinewidth\":0,\"ticks\":\"\"}}}],\"scatterpolargl\":[{\"type\":\"scatterpolargl\",\"marker\":{\"colorbar\":{\"outlinewidth\":0,\"ticks\":\"\"}}}],\"bar\":[{\"error_x\":{\"color\":\"#2a3f5f\"},\"error_y\":{\"color\":\"#2a3f5f\"},\"marker\":{\"line\":{\"color\":\"#E5ECF6\",\"width\":0.5},\"pattern\":{\"fillmode\":\"overlay\",\"size\":10,\"solidity\":0.2}},\"type\":\"bar\"}],\"scattergeo\":[{\"type\":\"scattergeo\",\"marker\":{\"colorbar\":{\"outlinewidth\":0,\"ticks\":\"\"}}}],\"scatterpolar\":[{\"type\":\"scatterpolar\",\"marker\":{\"colorbar\":{\"outlinewidth\":0,\"ticks\":\"\"}}}],\"histogram\":[{\"marker\":{\"pattern\":{\"fillmode\":\"overlay\",\"size\":10,\"solidity\":0.2}},\"type\":\"histogram\"}],\"scattergl\":[{\"type\":\"scattergl\",\"marker\":{\"colorbar\":{\"outlinewidth\":0,\"ticks\":\"\"}}}],\"scatter3d\":[{\"type\":\"scatter3d\",\"line\":{\"colorbar\":{\"outlinewidth\":0,\"ticks\":\"\"}},\"marker\":{\"colorbar\":{\"outlinewidth\":0,\"ticks\":\"\"}}}],\"scattermapbox\":[{\"type\":\"scattermapbox\",\"marker\":{\"colorbar\":{\"outlinewidth\":0,\"ticks\":\"\"}}}],\"scatterternary\":[{\"type\":\"scatterternary\",\"marker\":{\"colorbar\":{\"outlinewidth\":0,\"ticks\":\"\"}}}],\"scattercarpet\":[{\"type\":\"scattercarpet\",\"marker\":{\"colorbar\":{\"outlinewidth\":0,\"ticks\":\"\"}}}],\"carpet\":[{\"aaxis\":{\"endlinecolor\":\"#2a3f5f\",\"gridcolor\":\"white\",\"linecolor\":\"white\",\"minorgridcolor\":\"white\",\"startlinecolor\":\"#2a3f5f\"},\"baxis\":{\"endlinecolor\":\"#2a3f5f\",\"gridcolor\":\"white\",\"linecolor\":\"white\",\"minorgridcolor\":\"white\",\"startlinecolor\":\"#2a3f5f\"},\"type\":\"carpet\"}],\"table\":[{\"cells\":{\"fill\":{\"color\":\"#EBF0F8\"},\"line\":{\"color\":\"white\"}},\"header\":{\"fill\":{\"color\":\"#C8D4E3\"},\"line\":{\"color\":\"white\"}},\"type\":\"table\"}],\"barpolar\":[{\"marker\":{\"line\":{\"color\":\"#E5ECF6\",\"width\":0.5},\"pattern\":{\"fillmode\":\"overlay\",\"size\":10,\"solidity\":0.2}},\"type\":\"barpolar\"}],\"pie\":[{\"automargin\":true,\"type\":\"pie\"}]},\"layout\":{\"autotypenumbers\":\"strict\",\"colorway\":[\"#636efa\",\"#EF553B\",\"#00cc96\",\"#ab63fa\",\"#FFA15A\",\"#19d3f3\",\"#FF6692\",\"#B6E880\",\"#FF97FF\",\"#FECB52\"],\"font\":{\"color\":\"#2a3f5f\"},\"hovermode\":\"closest\",\"hoverlabel\":{\"align\":\"left\"},\"paper_bgcolor\":\"white\",\"plot_bgcolor\":\"#E5ECF6\",\"polar\":{\"bgcolor\":\"#E5ECF6\",\"angularaxis\":{\"gridcolor\":\"white\",\"linecolor\":\"white\",\"ticks\":\"\"},\"radialaxis\":{\"gridcolor\":\"white\",\"linecolor\":\"white\",\"ticks\":\"\"}},\"ternary\":{\"bgcolor\":\"#E5ECF6\",\"aaxis\":{\"gridcolor\":\"white\",\"linecolor\":\"white\",\"ticks\":\"\"},\"baxis\":{\"gridcolor\":\"white\",\"linecolor\":\"white\",\"ticks\":\"\"},\"caxis\":{\"gridcolor\":\"white\",\"linecolor\":\"white\",\"ticks\":\"\"}},\"coloraxis\":{\"colorbar\":{\"outlinewidth\":0,\"ticks\":\"\"}},\"colorscale\":{\"sequential\":[[0.0,\"#0d0887\"],[0.1111111111111111,\"#46039f\"],[0.2222222222222222,\"#7201a8\"],[0.3333333333333333,\"#9c179e\"],[0.4444444444444444,\"#bd3786\"],[0.5555555555555556,\"#d8576b\"],[0.6666666666666666,\"#ed7953\"],[0.7777777777777778,\"#fb9f3a\"],[0.8888888888888888,\"#fdca26\"],[1.0,\"#f0f921\"]],\"sequentialminus\":[[0.0,\"#0d0887\"],[0.1111111111111111,\"#46039f\"],[0.2222222222222222,\"#7201a8\"],[0.3333333333333333,\"#9c179e\"],[0.4444444444444444,\"#bd3786\"],[0.5555555555555556,\"#d8576b\"],[0.6666666666666666,\"#ed7953\"],[0.7777777777777778,\"#fb9f3a\"],[0.8888888888888888,\"#fdca26\"],[1.0,\"#f0f921\"]],\"diverging\":[[0,\"#8e0152\"],[0.1,\"#c51b7d\"],[0.2,\"#de77ae\"],[0.3,\"#f1b6da\"],[0.4,\"#fde0ef\"],[0.5,\"#f7f7f7\"],[0.6,\"#e6f5d0\"],[0.7,\"#b8e186\"],[0.8,\"#7fbc41\"],[0.9,\"#4d9221\"],[1,\"#276419\"]]},\"xaxis\":{\"gridcolor\":\"white\",\"linecolor\":\"white\",\"ticks\":\"\",\"title\":{\"standoff\":15},\"zerolinecolor\":\"white\",\"automargin\":true,\"zerolinewidth\":2},\"yaxis\":{\"gridcolor\":\"white\",\"linecolor\":\"white\",\"ticks\":\"\",\"title\":{\"standoff\":15},\"zerolinecolor\":\"white\",\"automargin\":true,\"zerolinewidth\":2},\"scene\":{\"xaxis\":{\"backgroundcolor\":\"#E5ECF6\",\"gridcolor\":\"white\",\"linecolor\":\"white\",\"showbackground\":true,\"ticks\":\"\",\"zerolinecolor\":\"white\",\"gridwidth\":2},\"yaxis\":{\"backgroundcolor\":\"#E5ECF6\",\"gridcolor\":\"white\",\"linecolor\":\"white\",\"showbackground\":true,\"ticks\":\"\",\"zerolinecolor\":\"white\",\"gridwidth\":2},\"zaxis\":{\"backgroundcolor\":\"#E5ECF6\",\"gridcolor\":\"white\",\"linecolor\":\"white\",\"showbackground\":true,\"ticks\":\"\",\"zerolinecolor\":\"white\",\"gridwidth\":2}},\"shapedefaults\":{\"line\":{\"color\":\"#2a3f5f\"}},\"annotationdefaults\":{\"arrowcolor\":\"#2a3f5f\",\"arrowhead\":0,\"arrowwidth\":1},\"geo\":{\"bgcolor\":\"white\",\"landcolor\":\"#E5ECF6\",\"subunitcolor\":\"white\",\"showland\":true,\"showlakes\":true,\"lakecolor\":\"white\"},\"title\":{\"x\":0.05},\"mapbox\":{\"style\":\"light\"}}},\"title\":{\"text\":\"Flux Sankey exportateurs \\u2192 importateurs (Coal)\"},\"font\":{\"size\":10}},                        {\"responsive\": true}                    ).then(function(){\n",
       "                            \n",
       "var gd = document.getElementById('b1780e5d-d90b-4b33-a86c-7a9f2a3e5838');\n",
       "var x = new MutationObserver(function (mutations, observer) {{\n",
       "        var display = window.getComputedStyle(gd).display;\n",
       "        if (!display || display === 'none') {{\n",
       "            console.log([gd, 'removed!']);\n",
       "            Plotly.purge(gd);\n",
       "            observer.disconnect();\n",
       "        }}\n",
       "}});\n",
       "\n",
       "// Listen for the removal of the full notebook cells\n",
       "var notebookContainer = gd.closest('#notebook-container');\n",
       "if (notebookContainer) {{\n",
       "    x.observe(notebookContainer, {childList: true});\n",
       "}}\n",
       "\n",
       "// Listen for the clearing of the current output cell\n",
       "var outputEl = gd.closest('.output');\n",
       "if (outputEl) {{\n",
       "    x.observe(outputEl, {childList: true});\n",
       "}}\n",
       "\n",
       "                        })                };                });            </script>        </div>"
      ]
     },
     "metadata": {},
     "output_type": "display_data"
    }
   ],
   "source": [
    "import plotly.graph_objects as go\n",
    "\n",
    "\n",
    "\n",
    "\n",
    "\n",
    "\n",
    "matrix_export={'Coal':pandas.DataFrame(0, index=export_countries['Coal'], columns=import_countries['Coal']) }\n",
    "import_countries_coal=import_countries['Coal']\n",
    "\n",
    "\n",
    "\n",
    "# remplissage matrice d'export\n",
    "for good in matrix_export:\n",
    "    for country in import_countries[good]:\n",
    "        if country == 'Other_imp':\n",
    "            matrix_export[good].at[export_countries[good][0], country] = day_df_export[good][0].sum()-matrix_export[good].loc[export_countries[good][0]].iloc[:-1].sum()\n",
    "        else:\n",
    "            matrix_export[good].at[export_countries[good][0], country] = day_df_export[good][0][country] if country in day_df_export[good][0].index else 0\n",
    "    for country in import_countries[good]:\n",
    "        if country == 'Other_imp':\n",
    "            matrix_export[good].at[export_countries[good][1], country] = day_df_export[good][1].sum()-matrix_export[good].loc[export_countries[good][1]].iloc[:-1].sum()\n",
    "        else:\n",
    "            matrix_export[good].at[export_countries[good][1], country] = day_df_export[good][1][country] if country in day_df_export[good][1].index else 0\n",
    "    for country in import_countries_coal:\n",
    "        if country == 'Other_imp':\n",
    "            matrix_export[good].at[export_countries[good][2], country] = day_df_export[good][2].sum()-matrix_export[good].loc[export_countries[good][2]].iloc[:-1].sum()\n",
    "        else:\n",
    "            matrix_export[good].at[export_countries[good][2], country] = day_df_export[good][2][country] if country in day_df_export[good][2].index else 0\n",
    "    for country in import_countries_coal:\n",
    "        if country == 'Other_imp':\n",
    "            matrix_export[good].at[export_countries[good][3], country] = day_df_export[good][3].sum()-matrix_export[good].loc[export_countries[good][3]].iloc[:-1].sum()\n",
    "        else:\n",
    "            matrix_export[good].at[export_countries[good][3], country] = day_df_export[good][3][country] if country in day_df_export[good][3].index else 0\n",
    "    for country in import_countries_coal:\n",
    "        if country == 'Other_imp':\n",
    "            matrix_export[good].at[export_countries[good][4], country] = day_df_export[good][4].sum()-matrix_export[good].loc[export_countries[good][4]].iloc[:-1].sum()\n",
    "        else:\n",
    "            matrix_export[good].at[export_countries[good][4], country] = day_df_export[good][4][country] if country in day_df_export[good][4].index else 0\n",
    "            \n",
    "    matrix_export[good].at['Other_exp', import_countries[good][0]]= day_df_import[good][0].sum()-matrix_export[good][import_countries[good][0]].iloc[:-1].sum()\n",
    "    matrix_export[good].at['Other_exp', import_countries[good][1]]= day_df_import[good][1].sum()-matrix_export[good][import_countries[good][1]].iloc[:-1].sum()\n",
    "    matrix_export[good].at['Other_exp', import_countries[good][2]]= day_df_import[good][2].sum()-matrix_export[good][import_countries[good][2]].iloc[:-1].sum()\n",
    "    matrix_export[good].at['Other_exp', import_countries[good][3]]= day_df_import[good][3].sum()-matrix_export[good][import_countries[good][3]].iloc[:-1].sum()\n",
    "    matrix_export[good].at['Other_exp', import_countries[good][4]]= day_df_import[good][4].sum()-matrix_export[good][import_countries[good][4]].iloc[:-1].sum()\n",
    "\n",
    "\n",
    "\n",
    "\n",
    "\n",
    "\n",
    "print(matrix_export['Coal'])\n",
    "#print('\\n')\n",
    "\n",
    "\n",
    "import plotly.graph_objects as go\n",
    "\n",
    "# diagramme sankey pour la matrice reduite\n",
    "fig={\n",
    "        'Coal': ''       \n",
    "    }\n",
    "# Étape 1 : construire les listes source, target, value\n",
    "sources_2 = []\n",
    "targets_2 = []\n",
    "values_2 = []\n",
    "colors_2 =[]\n",
    "for good in matrix_export:\n",
    "    # Couleurs par source\n",
    "    source_colors_2 = {\n",
    "        export_countries[good][0]: 'rgba(0, 128, 255, 0.6)',         # bleu\n",
    "        export_countries[good][1]: 'rgba(255, 165, 0, 0.6)',    # orange\n",
    "        export_countries[good][2]: 'rgba(50, 205, 50, 0.6)',         # vert\n",
    "        export_countries[good][3]: 'rgba(229, 251, 21, 0.74)',           # jaune\n",
    "        export_countries[good][4]: 'rgba(255, 2, 0, 0.74)',\n",
    "        'Other_exp': 'rgba(245, 40, 145, 0.93)'# rouge# rouge\n",
    "    }\n",
    "    source_labels_2 = list(matrix_export[good].index)\n",
    "    target_labels_2 = list(matrix_export[good].columns)\n",
    "    all_labels_2 = source_labels_2 + target_labels_2\n",
    "    # dictionnaire pour retrouver les indices pour le diagramme sankey\n",
    "    label_indices_2 = {label: i for i, label in enumerate(all_labels_2)}\n",
    "    for source in source_labels_2:\n",
    "        for target in target_labels_2:\n",
    "            value = matrix_export[good].loc[source, target]\n",
    "            if value > 0:\n",
    "                sources_2.append(label_indices_2[source])\n",
    "                targets_2.append(label_indices_2[target])\n",
    "                values_2.append(value)\n",
    "                colors_2.append(source_colors_2[source])\n",
    "    # Étape 2 : créer le diagramme\n",
    "    fig[good] = go.Figure(data=[go.Sankey(\n",
    "        node=dict(\n",
    "            pad=15,\n",
    "            thickness=20,\n",
    "            line=dict(color=\"black\", width=0.5),\n",
    "            label=all_labels_2\n",
    "        ),\n",
    "        link=dict(\n",
    "            source=sources_2,\n",
    "            target=targets_2,\n",
    "            value=values_2,\n",
    "            color=colors_2\n",
    "        )\n",
    "    )])\n",
    "    fig[good].update_layout(title_text=f\"Flux Sankey exportateurs → importateurs ({good})\", font_size=10)\n",
    "    fig[good].show()\n",
    "    sources_2 = []\n",
    "    targets_2 = []\n",
    "    values_2 = []\n",
    "    colors_2 =[]\n",
    "\n"
   ]
  },
  {
   "cell_type": "code",
   "execution_count": 36,
   "id": "6f407561-e4b8-4892-831c-c5b2777b6061",
   "metadata": {},
   "outputs": [
    {
     "data": {
      "text/plain": [
       "MultiIndex([('Indonesia',        'Date'),\n",
       "            ('Indonesia',  'Bangladesh'),\n",
       "            ('Indonesia',       'India'),\n",
       "            ('Indonesia', 'Philippines'),\n",
       "            ('Indonesia',       'China'),\n",
       "            ('Indonesia',    'Thailand'),\n",
       "            ('Indonesia', 'South Korea'),\n",
       "            ('Indonesia',     'Vietnam'),\n",
       "            ('Indonesia',    'Malaysia'),\n",
       "            ('Indonesia',       'Japan'),\n",
       "            ('Indonesia',      'Taiwan'),\n",
       "            ('Indonesia',       'Other')],\n",
       "           names=['country_from', 'country_to'])"
      ]
     },
     "execution_count": 36,
     "metadata": {},
     "output_type": "execute_result"
    }
   ],
   "source": [
    "pandas.MultiIndex.from_product([['Indonesia'], df_coal_Indonesia_to.columns],\n",
    "                           names=['country_from', 'country_to'])"
   ]
  },
  {
   "cell_type": "markdown",
   "id": "4d67e364-c5a3-4e3d-a93a-27c194c92fb7",
   "metadata": {},
   "source": [
    "# function of multiindex construction for exportations of countries that we know"
   ]
  },
  {
   "cell_type": "code",
   "execution_count": 39,
   "id": "4db9d3aa-3ec8-4dd2-983a-8ebb296ef780",
   "metadata": {},
   "outputs": [],
   "source": [
    "\n",
    "def reduce_exports(country, df, good):\n",
    "    df_2 = df.copy()\n",
    "    import_list=list(import_countries[good]+['Date'])\n",
    "    import_list.remove('Other_imp')\n",
    "    new_others = [col for col in df.columns if col not in import_list]\n",
    "    others_ser = df_2[new_others].sum(axis=1).rename('Other_imp')\n",
    "    \n",
    "    all_except_date_df = pandas.concat([\n",
    "        df_2[list(set(df.columns).difference(set(new_others + ['Date'])))],\n",
    "        others_ser], axis=1)\n",
    "    date = df_2.Date\n",
    "    \n",
    "    df_temp = pandas.DataFrame(\n",
    "        all_except_date_df.values, \n",
    "        index=pandas.to_datetime(date),\n",
    "        columns=pandas.MultiIndex.from_product([[country], all_except_date_df.columns],\n",
    "                               names=['country_from', 'country_to'])\n",
    "    )\n",
    "    return df_temp\n",
    "\n",
    "\n",
    "#df_coal_SAFR_to_temp\n"
   ]
  },
  {
   "cell_type": "markdown",
   "id": "adb0b9a8-92df-4a29-aab1-339c133e443a",
   "metadata": {},
   "source": [
    "# exportations data without informations of exportations come from others countries"
   ]
  },
  {
   "cell_type": "code",
   "execution_count": 41,
   "id": "e6e3ac26-9198-4da4-a72f-5d0607fda4d6",
   "metadata": {},
   "outputs": [
    {
     "data": {
      "text/html": [
       "<div>\n",
       "<style scoped>\n",
       "    .dataframe tbody tr th:only-of-type {\n",
       "        vertical-align: middle;\n",
       "    }\n",
       "\n",
       "    .dataframe tbody tr th {\n",
       "        vertical-align: top;\n",
       "    }\n",
       "\n",
       "    .dataframe thead tr th {\n",
       "        text-align: left;\n",
       "    }\n",
       "\n",
       "    .dataframe thead tr:last-of-type th {\n",
       "        text-align: right;\n",
       "    }\n",
       "</style>\n",
       "<table border=\"1\" class=\"dataframe\">\n",
       "  <thead>\n",
       "    <tr>\n",
       "      <th>country_from</th>\n",
       "      <th colspan=\"6\" halign=\"left\">Indonesia</th>\n",
       "    </tr>\n",
       "    <tr>\n",
       "      <th>country_to</th>\n",
       "      <th>Japan</th>\n",
       "      <th>South Korea</th>\n",
       "      <th>China</th>\n",
       "      <th>Vietnam</th>\n",
       "      <th>India</th>\n",
       "      <th>Other_imp</th>\n",
       "    </tr>\n",
       "    <tr>\n",
       "      <th>Date</th>\n",
       "      <th></th>\n",
       "      <th></th>\n",
       "      <th></th>\n",
       "      <th></th>\n",
       "      <th></th>\n",
       "      <th></th>\n",
       "    </tr>\n",
       "  </thead>\n",
       "  <tbody>\n",
       "    <tr>\n",
       "      <th>2015-01-02</th>\n",
       "      <td>0</td>\n",
       "      <td>0</td>\n",
       "      <td>50783</td>\n",
       "      <td>0</td>\n",
       "      <td>152348</td>\n",
       "      <td>415290</td>\n",
       "    </tr>\n",
       "    <tr>\n",
       "      <th>2015-01-03</th>\n",
       "      <td>0</td>\n",
       "      <td>0</td>\n",
       "      <td>0</td>\n",
       "      <td>0</td>\n",
       "      <td>0</td>\n",
       "      <td>0</td>\n",
       "    </tr>\n",
       "    <tr>\n",
       "      <th>2015-01-04</th>\n",
       "      <td>0</td>\n",
       "      <td>0</td>\n",
       "      <td>0</td>\n",
       "      <td>0</td>\n",
       "      <td>120971</td>\n",
       "      <td>0</td>\n",
       "    </tr>\n",
       "    <tr>\n",
       "      <th>2015-01-05</th>\n",
       "      <td>159706</td>\n",
       "      <td>422752</td>\n",
       "      <td>650568</td>\n",
       "      <td>0</td>\n",
       "      <td>851377</td>\n",
       "      <td>290053</td>\n",
       "    </tr>\n",
       "    <tr>\n",
       "      <th>2015-01-06</th>\n",
       "      <td>0</td>\n",
       "      <td>0</td>\n",
       "      <td>631632</td>\n",
       "      <td>35221</td>\n",
       "      <td>1003801</td>\n",
       "      <td>524795</td>\n",
       "    </tr>\n",
       "    <tr>\n",
       "      <th>...</th>\n",
       "      <td>...</td>\n",
       "      <td>...</td>\n",
       "      <td>...</td>\n",
       "      <td>...</td>\n",
       "      <td>...</td>\n",
       "      <td>...</td>\n",
       "    </tr>\n",
       "    <tr>\n",
       "      <th>2025-05-13</th>\n",
       "      <td>47000</td>\n",
       "      <td>0</td>\n",
       "      <td>424001</td>\n",
       "      <td>0</td>\n",
       "      <td>813000</td>\n",
       "      <td>886000</td>\n",
       "    </tr>\n",
       "    <tr>\n",
       "      <th>2025-05-14</th>\n",
       "      <td>310000</td>\n",
       "      <td>136000</td>\n",
       "      <td>634001</td>\n",
       "      <td>200000</td>\n",
       "      <td>275000</td>\n",
       "      <td>356500</td>\n",
       "    </tr>\n",
       "    <tr>\n",
       "      <th>2025-05-15</th>\n",
       "      <td>50000</td>\n",
       "      <td>0</td>\n",
       "      <td>485000</td>\n",
       "      <td>68000</td>\n",
       "      <td>378001</td>\n",
       "      <td>574000</td>\n",
       "    </tr>\n",
       "    <tr>\n",
       "      <th>2025-05-16</th>\n",
       "      <td>91000</td>\n",
       "      <td>0</td>\n",
       "      <td>0</td>\n",
       "      <td>50000</td>\n",
       "      <td>341000</td>\n",
       "      <td>406000</td>\n",
       "    </tr>\n",
       "    <tr>\n",
       "      <th>2025-05-17</th>\n",
       "      <td>0</td>\n",
       "      <td>0</td>\n",
       "      <td>0</td>\n",
       "      <td>50000</td>\n",
       "      <td>50000</td>\n",
       "      <td>0</td>\n",
       "    </tr>\n",
       "  </tbody>\n",
       "</table>\n",
       "<p>3789 rows × 6 columns</p>\n",
       "</div>"
      ],
      "text/plain": [
       "country_from Indonesia                                               \n",
       "country_to       Japan South Korea   China Vietnam    India Other_imp\n",
       "Date                                                                 \n",
       "2015-01-02           0           0   50783       0   152348    415290\n",
       "2015-01-03           0           0       0       0        0         0\n",
       "2015-01-04           0           0       0       0   120971         0\n",
       "2015-01-05      159706      422752  650568       0   851377    290053\n",
       "2015-01-06           0           0  631632   35221  1003801    524795\n",
       "...                ...         ...     ...     ...      ...       ...\n",
       "2025-05-13       47000           0  424001       0   813000    886000\n",
       "2025-05-14      310000      136000  634001  200000   275000    356500\n",
       "2025-05-15       50000           0  485000   68000   378001    574000\n",
       "2025-05-16       91000           0       0   50000   341000    406000\n",
       "2025-05-17           0           0       0   50000    50000         0\n",
       "\n",
       "[3789 rows x 6 columns]"
      ]
     },
     "execution_count": 41,
     "metadata": {},
     "output_type": "execute_result"
    }
   ],
   "source": [
    "#df_coal_Indonesia_to_temp = df_coal_Indonesia_to.copy()\n",
    "#df_coal_Australia_to_temp = df_coal_Australia_to.copy()\n",
    "\n",
    "\n",
    "\n",
    "df_export_temp={'Coal': '',\n",
    "                'Project':''}\n",
    "\n",
    "\n",
    "for good in df_export_temp:\n",
    "    df_export_temp[good]={key:reduce_exports(key,data_export[good][key], good) for key in data_export[good].keys()}\n",
    "\n",
    "'''\n",
    "print(df_export_temp['Coal']['Indonesia'])\n",
    "df_coal_Indonesia_to_temp = reduce_exports('Indonesia',df_coal_Indonesia_to,'Coal')\n",
    "df_coal_Australia_to_temp = reduce_exports('Australia',df_coal_Australia_to,'Coal')\n",
    "df_coal_SAFR_to_temp = reduce_exports('SAFR',df_coal_SAFR_to,'Coal')\n",
    "df_coal_US_to_temp = reduce_exports('US',df_coal_US_to,'Coal')\n",
    "df_coal_Russia_to_temp = reduce_exports('Russia',df_coal_Russia_to,'Coal')\n",
    "'''\n",
    "df_export_temp['Coal']['Indonesia']"
   ]
  },
  {
   "cell_type": "code",
   "execution_count": null,
   "id": "9d3e7cfe-6075-4b0d-91ab-8d1de4df5ada",
   "metadata": {},
   "outputs": [
    {
     "data": {
      "text/html": [
       "<div>\n",
       "<style scoped>\n",
       "    .dataframe tbody tr th:only-of-type {\n",
       "        vertical-align: middle;\n",
       "    }\n",
       "\n",
       "    .dataframe tbody tr th {\n",
       "        vertical-align: top;\n",
       "    }\n",
       "\n",
       "    .dataframe thead tr th {\n",
       "        text-align: left;\n",
       "    }\n",
       "\n",
       "    .dataframe thead tr:last-of-type th {\n",
       "        text-align: right;\n",
       "    }\n",
       "</style>\n",
       "<table border=\"1\" class=\"dataframe\">\n",
       "  <thead>\n",
       "    <tr>\n",
       "      <th>country_from</th>\n",
       "      <th colspan=\"5\" halign=\"left\">China</th>\n",
       "      <th colspan=\"4\" halign=\"left\">India</th>\n",
       "      <th colspan=\"3\" halign=\"left\">Japan</th>\n",
       "      <th colspan=\"4\" halign=\"left\">South Korea</th>\n",
       "      <th colspan=\"3\" halign=\"left\">Vietnam</th>\n",
       "    </tr>\n",
       "    <tr>\n",
       "      <th>country_to</th>\n",
       "      <th>Bangladesh</th>\n",
       "      <th>Libya</th>\n",
       "      <th>Nigeria</th>\n",
       "      <th>Other_imp</th>\n",
       "      <th>Turkey</th>\n",
       "      <th>Bangladesh</th>\n",
       "      <th>Libya</th>\n",
       "      <th>Other_imp</th>\n",
       "      <th>Turkey</th>\n",
       "      <th>Bangladesh</th>\n",
       "      <th>Libya</th>\n",
       "      <th>Other_imp</th>\n",
       "      <th>Egypt</th>\n",
       "      <th>Libya</th>\n",
       "      <th>Other_imp</th>\n",
       "      <th>Turkey</th>\n",
       "      <th>Bangladesh</th>\n",
       "      <th>Libya</th>\n",
       "      <th>Other_imp</th>\n",
       "    </tr>\n",
       "    <tr>\n",
       "      <th>Date</th>\n",
       "      <th></th>\n",
       "      <th></th>\n",
       "      <th></th>\n",
       "      <th></th>\n",
       "      <th></th>\n",
       "      <th></th>\n",
       "      <th></th>\n",
       "      <th></th>\n",
       "      <th></th>\n",
       "      <th></th>\n",
       "      <th></th>\n",
       "      <th></th>\n",
       "      <th></th>\n",
       "      <th></th>\n",
       "      <th></th>\n",
       "      <th></th>\n",
       "      <th></th>\n",
       "      <th></th>\n",
       "      <th></th>\n",
       "    </tr>\n",
       "  </thead>\n",
       "  <tbody>\n",
       "    <tr>\n",
       "      <th>2015-02-16</th>\n",
       "      <td>0</td>\n",
       "      <td>0</td>\n",
       "      <td>0</td>\n",
       "      <td>110298</td>\n",
       "      <td>0</td>\n",
       "      <td>0</td>\n",
       "      <td>0</td>\n",
       "      <td>0</td>\n",
       "      <td>0</td>\n",
       "      <td>0</td>\n",
       "      <td>0</td>\n",
       "      <td>10381</td>\n",
       "      <td>0</td>\n",
       "      <td>0</td>\n",
       "      <td>67476</td>\n",
       "      <td>0</td>\n",
       "      <td>0</td>\n",
       "      <td>0</td>\n",
       "      <td>0</td>\n",
       "    </tr>\n",
       "    <tr>\n",
       "      <th>2015-02-17</th>\n",
       "      <td>0</td>\n",
       "      <td>0</td>\n",
       "      <td>0</td>\n",
       "      <td>64310</td>\n",
       "      <td>0</td>\n",
       "      <td>0</td>\n",
       "      <td>0</td>\n",
       "      <td>48232</td>\n",
       "      <td>0</td>\n",
       "      <td>0</td>\n",
       "      <td>0</td>\n",
       "      <td>0</td>\n",
       "      <td>0</td>\n",
       "      <td>0</td>\n",
       "      <td>111470</td>\n",
       "      <td>0</td>\n",
       "      <td>0</td>\n",
       "      <td>0</td>\n",
       "      <td>0</td>\n",
       "    </tr>\n",
       "    <tr>\n",
       "      <th>2015-02-18</th>\n",
       "      <td>0</td>\n",
       "      <td>0</td>\n",
       "      <td>0</td>\n",
       "      <td>0</td>\n",
       "      <td>0</td>\n",
       "      <td>0</td>\n",
       "      <td>0</td>\n",
       "      <td>0</td>\n",
       "      <td>0</td>\n",
       "      <td>0</td>\n",
       "      <td>0</td>\n",
       "      <td>0</td>\n",
       "      <td>0</td>\n",
       "      <td>0</td>\n",
       "      <td>0</td>\n",
       "      <td>0</td>\n",
       "      <td>0</td>\n",
       "      <td>0</td>\n",
       "      <td>0</td>\n",
       "    </tr>\n",
       "    <tr>\n",
       "      <th>2015-02-19</th>\n",
       "      <td>0</td>\n",
       "      <td>0</td>\n",
       "      <td>0</td>\n",
       "      <td>0</td>\n",
       "      <td>0</td>\n",
       "      <td>0</td>\n",
       "      <td>0</td>\n",
       "      <td>455</td>\n",
       "      <td>0</td>\n",
       "      <td>0</td>\n",
       "      <td>0</td>\n",
       "      <td>0</td>\n",
       "      <td>0</td>\n",
       "      <td>0</td>\n",
       "      <td>61062</td>\n",
       "      <td>0</td>\n",
       "      <td>0</td>\n",
       "      <td>0</td>\n",
       "      <td>0</td>\n",
       "    </tr>\n",
       "    <tr>\n",
       "      <th>2015-02-20</th>\n",
       "      <td>0</td>\n",
       "      <td>0</td>\n",
       "      <td>0</td>\n",
       "      <td>0</td>\n",
       "      <td>0</td>\n",
       "      <td>0</td>\n",
       "      <td>0</td>\n",
       "      <td>0</td>\n",
       "      <td>0</td>\n",
       "      <td>0</td>\n",
       "      <td>0</td>\n",
       "      <td>0</td>\n",
       "      <td>0</td>\n",
       "      <td>0</td>\n",
       "      <td>0</td>\n",
       "      <td>0</td>\n",
       "      <td>0</td>\n",
       "      <td>0</td>\n",
       "      <td>0</td>\n",
       "    </tr>\n",
       "    <tr>\n",
       "      <th>...</th>\n",
       "      <td>...</td>\n",
       "      <td>...</td>\n",
       "      <td>...</td>\n",
       "      <td>...</td>\n",
       "      <td>...</td>\n",
       "      <td>...</td>\n",
       "      <td>...</td>\n",
       "      <td>...</td>\n",
       "      <td>...</td>\n",
       "      <td>...</td>\n",
       "      <td>...</td>\n",
       "      <td>...</td>\n",
       "      <td>...</td>\n",
       "      <td>...</td>\n",
       "      <td>...</td>\n",
       "      <td>...</td>\n",
       "      <td>...</td>\n",
       "      <td>...</td>\n",
       "      <td>...</td>\n",
       "    </tr>\n",
       "    <tr>\n",
       "      <th>2025-06-05</th>\n",
       "      <td>0</td>\n",
       "      <td>0</td>\n",
       "      <td>4000</td>\n",
       "      <td>181655</td>\n",
       "      <td>0</td>\n",
       "      <td>0</td>\n",
       "      <td>0</td>\n",
       "      <td>24103</td>\n",
       "      <td>0</td>\n",
       "      <td>0</td>\n",
       "      <td>0</td>\n",
       "      <td>0</td>\n",
       "      <td>0</td>\n",
       "      <td>0</td>\n",
       "      <td>0</td>\n",
       "      <td>0</td>\n",
       "      <td>0</td>\n",
       "      <td>0</td>\n",
       "      <td>7960</td>\n",
       "    </tr>\n",
       "    <tr>\n",
       "      <th>2025-06-06</th>\n",
       "      <td>0</td>\n",
       "      <td>0</td>\n",
       "      <td>0</td>\n",
       "      <td>227000</td>\n",
       "      <td>0</td>\n",
       "      <td>0</td>\n",
       "      <td>0</td>\n",
       "      <td>107300</td>\n",
       "      <td>0</td>\n",
       "      <td>0</td>\n",
       "      <td>0</td>\n",
       "      <td>0</td>\n",
       "      <td>0</td>\n",
       "      <td>0</td>\n",
       "      <td>0</td>\n",
       "      <td>0</td>\n",
       "      <td>0</td>\n",
       "      <td>0</td>\n",
       "      <td>0</td>\n",
       "    </tr>\n",
       "    <tr>\n",
       "      <th>2025-06-07</th>\n",
       "      <td>0</td>\n",
       "      <td>0</td>\n",
       "      <td>0</td>\n",
       "      <td>0</td>\n",
       "      <td>0</td>\n",
       "      <td>0</td>\n",
       "      <td>0</td>\n",
       "      <td>28000</td>\n",
       "      <td>0</td>\n",
       "      <td>0</td>\n",
       "      <td>0</td>\n",
       "      <td>0</td>\n",
       "      <td>0</td>\n",
       "      <td>0</td>\n",
       "      <td>0</td>\n",
       "      <td>0</td>\n",
       "      <td>0</td>\n",
       "      <td>0</td>\n",
       "      <td>0</td>\n",
       "    </tr>\n",
       "    <tr>\n",
       "      <th>2025-06-08</th>\n",
       "      <td>0</td>\n",
       "      <td>0</td>\n",
       "      <td>0</td>\n",
       "      <td>58000</td>\n",
       "      <td>0</td>\n",
       "      <td>0</td>\n",
       "      <td>0</td>\n",
       "      <td>0</td>\n",
       "      <td>0</td>\n",
       "      <td>0</td>\n",
       "      <td>0</td>\n",
       "      <td>0</td>\n",
       "      <td>0</td>\n",
       "      <td>0</td>\n",
       "      <td>0</td>\n",
       "      <td>0</td>\n",
       "      <td>0</td>\n",
       "      <td>0</td>\n",
       "      <td>0</td>\n",
       "    </tr>\n",
       "    <tr>\n",
       "      <th>2025-06-09</th>\n",
       "      <td>0</td>\n",
       "      <td>0</td>\n",
       "      <td>0</td>\n",
       "      <td>111000</td>\n",
       "      <td>0</td>\n",
       "      <td>0</td>\n",
       "      <td>0</td>\n",
       "      <td>25245</td>\n",
       "      <td>0</td>\n",
       "      <td>0</td>\n",
       "      <td>0</td>\n",
       "      <td>0</td>\n",
       "      <td>0</td>\n",
       "      <td>0</td>\n",
       "      <td>0</td>\n",
       "      <td>0</td>\n",
       "      <td>0</td>\n",
       "      <td>0</td>\n",
       "      <td>1430</td>\n",
       "    </tr>\n",
       "  </tbody>\n",
       "</table>\n",
       "<p>3767 rows × 19 columns</p>\n",
       "</div>"
      ],
      "text/plain": [
       "country_from      China                                     India        \\\n",
       "country_to   Bangladesh Libya Nigeria Other_imp Turkey Bangladesh Libya   \n",
       "Date                                                                      \n",
       "2015-02-16            0     0       0    110298      0          0     0   \n",
       "2015-02-17            0     0       0     64310      0          0     0   \n",
       "2015-02-18            0     0       0         0      0          0     0   \n",
       "2015-02-19            0     0       0         0      0          0     0   \n",
       "2015-02-20            0     0       0         0      0          0     0   \n",
       "...                 ...   ...     ...       ...    ...        ...   ...   \n",
       "2025-06-05            0     0    4000    181655      0          0     0   \n",
       "2025-06-06            0     0       0    227000      0          0     0   \n",
       "2025-06-07            0     0       0         0      0          0     0   \n",
       "2025-06-08            0     0       0     58000      0          0     0   \n",
       "2025-06-09            0     0       0    111000      0          0     0   \n",
       "\n",
       "country_from                       Japan                 South Korea        \\\n",
       "country_to   Other_imp Turkey Bangladesh Libya Other_imp       Egypt Libya   \n",
       "Date                                                                         \n",
       "2015-02-16           0      0          0     0     10381           0     0   \n",
       "2015-02-17       48232      0          0     0         0           0     0   \n",
       "2015-02-18           0      0          0     0         0           0     0   \n",
       "2015-02-19         455      0          0     0         0           0     0   \n",
       "2015-02-20           0      0          0     0         0           0     0   \n",
       "...                ...    ...        ...   ...       ...         ...   ...   \n",
       "2025-06-05       24103      0          0     0         0           0     0   \n",
       "2025-06-06      107300      0          0     0         0           0     0   \n",
       "2025-06-07       28000      0          0     0         0           0     0   \n",
       "2025-06-08           0      0          0     0         0           0     0   \n",
       "2025-06-09       25245      0          0     0         0           0     0   \n",
       "\n",
       "country_from                     Vietnam                  \n",
       "country_to   Other_imp Turkey Bangladesh Libya Other_imp  \n",
       "Date                                                      \n",
       "2015-02-16       67476      0          0     0         0  \n",
       "2015-02-17      111470      0          0     0         0  \n",
       "2015-02-18           0      0          0     0         0  \n",
       "2015-02-19       61062      0          0     0         0  \n",
       "2015-02-20           0      0          0     0         0  \n",
       "...                ...    ...        ...   ...       ...  \n",
       "2025-06-05           0      0          0     0      7960  \n",
       "2025-06-06           0      0          0     0         0  \n",
       "2025-06-07           0      0          0     0         0  \n",
       "2025-06-08           0      0          0     0         0  \n",
       "2025-06-09           0      0          0     0      1430  \n",
       "\n",
       "[3767 rows x 19 columns]"
      ]
     },
     "execution_count": 40,
     "metadata": {},
     "output_type": "execute_result"
    }
   ],
   "source": [
    "df_from_to={'Coal': '','Project':''}\n",
    "\n",
    "for good in df_from_to:\n",
    "    liste_pays = data_export[good].keys()\n",
    "    dfs = []\n",
    "    for country in liste_pays:\n",
    "        dfs.append(df_export_temp[good][country])  # récupère dynamiquement les DataFrames\n",
    "    df_from_to[good] = pandas.concat(dfs, axis=1, join='inner')\n",
    "\n",
    " \n",
    "'''\n",
    "if False:\n",
    "    df_from_to = pandas.merge(\n",
    "        df_coal_Australia_to_temp, df_coal_Indonesia_to_temp,\n",
    "        left_index=True, right_index=True,\n",
    "        how='inner')\n",
    "else:\n",
    "'''\n",
    "# Récupère les niveaux actuels\n",
    "country_from_values = df_from_to['Project'].columns.get_level_values('country_from').unique()\n",
    "\n",
    "# Crée les nouvelles colonnes pour Libya avec zéros\n",
    "zeros_df = pandas.DataFrame(\n",
    "    0,\n",
    "    index=df_from_to['Project'].index,\n",
    "    columns=pandas.MultiIndex.from_product([country_from_values,['Libya']], names=['country_from', 'country_to'])\n",
    ")\n",
    "\n",
    "# Ajoute Libya dans df_from_to['Project']\n",
    "df_from_to['Project'] = pandas.concat([df_from_to['Project'], zeros_df], axis=1)\n",
    "\n",
    "# (Optionnel) Trie les colonnes pour garder un ordre propre\n",
    "df_from_to['Project'] = df_from_to['Project'].sort_index(axis=1)\n",
    "\n",
    "df_from_to['Project']"
   ]
  },
  {
   "cell_type": "markdown",
   "id": "6e8ede0b-4a4f-432f-a9cb-d89993acad88",
   "metadata": {},
   "source": [
    "# implemantation of the function which gives us informations about exportations come from others countries"
   ]
  },
  {
   "cell_type": "code",
   "execution_count": 14,
   "id": "32141d31-41d6-4e67-8eb7-57ad5df7780c",
   "metadata": {},
   "outputs": [],
   "source": [
    "def Other_exp_temp(country,good):\n",
    "    df_sum_indexed = data_import[good][country].set_index('Date').sum(axis=1)\n",
    "    df_sum_indexed.index = pandas.to_datetime(df_sum_indexed.index)  # <- c'est ça qu'il manquait \n",
    "    china_total = df_from_to[good].xs(country, level='country_to', axis=1).sum(axis=1)\n",
    "    china_total.index = pandas.to_datetime(china_total.index)\n",
    "    china_total = china_total.sort_index()\n",
    "    df_sum_indexed = df_sum_indexed.sort_index()\n",
    "\n",
    "    common_index = china_total.index.intersection(df_sum_indexed.index)\n",
    "    result = df_sum_indexed[common_index] - china_total[common_index]\n",
    "    result.name = country\n",
    "\n",
    "    result_df = result.reset_index()  # Transforme la Series en DataFrame\n",
    "    result_df=result_df.set_index('Date')\n",
    "    return result_df\n",
    "\n"
   ]
  },
  {
   "cell_type": "markdown",
   "id": "6454b47b-a537-4781-b37a-c1c76746f9b9",
   "metadata": {},
   "source": [
    "# exportations data with informations of exportations come from others countries"
   ]
  },
  {
   "cell_type": "code",
   "execution_count": 15,
   "id": "ada9d101-2ff0-41ee-9630-45b8a62df2c3",
   "metadata": {},
   "outputs": [
    {
     "data": {
      "text/html": [
       "<div>\n",
       "<style scoped>\n",
       "    .dataframe tbody tr th:only-of-type {\n",
       "        vertical-align: middle;\n",
       "    }\n",
       "\n",
       "    .dataframe tbody tr th {\n",
       "        vertical-align: top;\n",
       "    }\n",
       "\n",
       "    .dataframe thead tr th {\n",
       "        text-align: left;\n",
       "    }\n",
       "\n",
       "    .dataframe thead tr:last-of-type th {\n",
       "        text-align: right;\n",
       "    }\n",
       "</style>\n",
       "<table border=\"1\" class=\"dataframe\">\n",
       "  <thead>\n",
       "    <tr>\n",
       "      <th>country_from</th>\n",
       "      <th colspan=\"5\" halign=\"left\">China</th>\n",
       "      <th colspan=\"4\" halign=\"left\">India</th>\n",
       "      <th>Japan</th>\n",
       "      <th>...</th>\n",
       "      <th colspan=\"2\" halign=\"left\">South Korea</th>\n",
       "      <th colspan=\"3\" halign=\"left\">Vietnam</th>\n",
       "      <th colspan=\"5\" halign=\"left\">Other_exp</th>\n",
       "    </tr>\n",
       "    <tr>\n",
       "      <th>country_to</th>\n",
       "      <th>Bangladesh</th>\n",
       "      <th>Libya</th>\n",
       "      <th>Nigeria</th>\n",
       "      <th>Other_imp</th>\n",
       "      <th>Turkey</th>\n",
       "      <th>Bangladesh</th>\n",
       "      <th>Libya</th>\n",
       "      <th>Other_imp</th>\n",
       "      <th>Turkey</th>\n",
       "      <th>Bangladesh</th>\n",
       "      <th>...</th>\n",
       "      <th>Other_imp</th>\n",
       "      <th>Turkey</th>\n",
       "      <th>Bangladesh</th>\n",
       "      <th>Libya</th>\n",
       "      <th>Other_imp</th>\n",
       "      <th>Turkey</th>\n",
       "      <th>Bangladesh</th>\n",
       "      <th>Nigeria</th>\n",
       "      <th>Egypt</th>\n",
       "      <th>Libya</th>\n",
       "    </tr>\n",
       "    <tr>\n",
       "      <th>Date</th>\n",
       "      <th></th>\n",
       "      <th></th>\n",
       "      <th></th>\n",
       "      <th></th>\n",
       "      <th></th>\n",
       "      <th></th>\n",
       "      <th></th>\n",
       "      <th></th>\n",
       "      <th></th>\n",
       "      <th></th>\n",
       "      <th></th>\n",
       "      <th></th>\n",
       "      <th></th>\n",
       "      <th></th>\n",
       "      <th></th>\n",
       "      <th></th>\n",
       "      <th></th>\n",
       "      <th></th>\n",
       "      <th></th>\n",
       "      <th></th>\n",
       "      <th></th>\n",
       "    </tr>\n",
       "  </thead>\n",
       "  <tbody>\n",
       "    <tr>\n",
       "      <th>2015-02-17</th>\n",
       "      <td>0</td>\n",
       "      <td>0</td>\n",
       "      <td>0</td>\n",
       "      <td>64310</td>\n",
       "      <td>0</td>\n",
       "      <td>0</td>\n",
       "      <td>0</td>\n",
       "      <td>48232</td>\n",
       "      <td>0</td>\n",
       "      <td>0</td>\n",
       "      <td>...</td>\n",
       "      <td>111470</td>\n",
       "      <td>0</td>\n",
       "      <td>0</td>\n",
       "      <td>0</td>\n",
       "      <td>0</td>\n",
       "      <td>10718</td>\n",
       "      <td>0</td>\n",
       "      <td>32155</td>\n",
       "      <td>8574</td>\n",
       "      <td>1958</td>\n",
       "    </tr>\n",
       "    <tr>\n",
       "      <th>2015-02-18</th>\n",
       "      <td>0</td>\n",
       "      <td>0</td>\n",
       "      <td>0</td>\n",
       "      <td>0</td>\n",
       "      <td>0</td>\n",
       "      <td>0</td>\n",
       "      <td>0</td>\n",
       "      <td>0</td>\n",
       "      <td>0</td>\n",
       "      <td>0</td>\n",
       "      <td>...</td>\n",
       "      <td>0</td>\n",
       "      <td>0</td>\n",
       "      <td>0</td>\n",
       "      <td>0</td>\n",
       "      <td>0</td>\n",
       "      <td>0</td>\n",
       "      <td>0</td>\n",
       "      <td>0</td>\n",
       "      <td>1136</td>\n",
       "      <td>0</td>\n",
       "    </tr>\n",
       "    <tr>\n",
       "      <th>2015-02-19</th>\n",
       "      <td>0</td>\n",
       "      <td>0</td>\n",
       "      <td>0</td>\n",
       "      <td>0</td>\n",
       "      <td>0</td>\n",
       "      <td>0</td>\n",
       "      <td>0</td>\n",
       "      <td>455</td>\n",
       "      <td>0</td>\n",
       "      <td>0</td>\n",
       "      <td>...</td>\n",
       "      <td>61062</td>\n",
       "      <td>0</td>\n",
       "      <td>0</td>\n",
       "      <td>0</td>\n",
       "      <td>0</td>\n",
       "      <td>0</td>\n",
       "      <td>0</td>\n",
       "      <td>0</td>\n",
       "      <td>0</td>\n",
       "      <td>0</td>\n",
       "    </tr>\n",
       "    <tr>\n",
       "      <th>2015-02-20</th>\n",
       "      <td>0</td>\n",
       "      <td>0</td>\n",
       "      <td>0</td>\n",
       "      <td>0</td>\n",
       "      <td>0</td>\n",
       "      <td>0</td>\n",
       "      <td>0</td>\n",
       "      <td>0</td>\n",
       "      <td>0</td>\n",
       "      <td>0</td>\n",
       "      <td>...</td>\n",
       "      <td>0</td>\n",
       "      <td>0</td>\n",
       "      <td>0</td>\n",
       "      <td>0</td>\n",
       "      <td>0</td>\n",
       "      <td>2033</td>\n",
       "      <td>0</td>\n",
       "      <td>0</td>\n",
       "      <td>0</td>\n",
       "      <td>0</td>\n",
       "    </tr>\n",
       "    <tr>\n",
       "      <th>2015-02-21</th>\n",
       "      <td>0</td>\n",
       "      <td>0</td>\n",
       "      <td>0</td>\n",
       "      <td>467</td>\n",
       "      <td>0</td>\n",
       "      <td>0</td>\n",
       "      <td>0</td>\n",
       "      <td>0</td>\n",
       "      <td>0</td>\n",
       "      <td>0</td>\n",
       "      <td>...</td>\n",
       "      <td>0</td>\n",
       "      <td>0</td>\n",
       "      <td>0</td>\n",
       "      <td>0</td>\n",
       "      <td>0</td>\n",
       "      <td>0</td>\n",
       "      <td>0</td>\n",
       "      <td>0</td>\n",
       "      <td>0</td>\n",
       "      <td>0</td>\n",
       "    </tr>\n",
       "    <tr>\n",
       "      <th>...</th>\n",
       "      <td>...</td>\n",
       "      <td>...</td>\n",
       "      <td>...</td>\n",
       "      <td>...</td>\n",
       "      <td>...</td>\n",
       "      <td>...</td>\n",
       "      <td>...</td>\n",
       "      <td>...</td>\n",
       "      <td>...</td>\n",
       "      <td>...</td>\n",
       "      <td>...</td>\n",
       "      <td>...</td>\n",
       "      <td>...</td>\n",
       "      <td>...</td>\n",
       "      <td>...</td>\n",
       "      <td>...</td>\n",
       "      <td>...</td>\n",
       "      <td>...</td>\n",
       "      <td>...</td>\n",
       "      <td>...</td>\n",
       "      <td>...</td>\n",
       "    </tr>\n",
       "    <tr>\n",
       "      <th>2025-05-03</th>\n",
       "      <td>0</td>\n",
       "      <td>0</td>\n",
       "      <td>0</td>\n",
       "      <td>0</td>\n",
       "      <td>0</td>\n",
       "      <td>0</td>\n",
       "      <td>0</td>\n",
       "      <td>0</td>\n",
       "      <td>0</td>\n",
       "      <td>0</td>\n",
       "      <td>...</td>\n",
       "      <td>0</td>\n",
       "      <td>0</td>\n",
       "      <td>0</td>\n",
       "      <td>0</td>\n",
       "      <td>0</td>\n",
       "      <td>0</td>\n",
       "      <td>0</td>\n",
       "      <td>0</td>\n",
       "      <td>0</td>\n",
       "      <td>0</td>\n",
       "    </tr>\n",
       "    <tr>\n",
       "      <th>2025-05-04</th>\n",
       "      <td>0</td>\n",
       "      <td>0</td>\n",
       "      <td>0</td>\n",
       "      <td>0</td>\n",
       "      <td>0</td>\n",
       "      <td>0</td>\n",
       "      <td>0</td>\n",
       "      <td>0</td>\n",
       "      <td>0</td>\n",
       "      <td>0</td>\n",
       "      <td>...</td>\n",
       "      <td>0</td>\n",
       "      <td>0</td>\n",
       "      <td>0</td>\n",
       "      <td>0</td>\n",
       "      <td>0</td>\n",
       "      <td>0</td>\n",
       "      <td>0</td>\n",
       "      <td>0</td>\n",
       "      <td>0</td>\n",
       "      <td>0</td>\n",
       "    </tr>\n",
       "    <tr>\n",
       "      <th>2025-05-05</th>\n",
       "      <td>0</td>\n",
       "      <td>0</td>\n",
       "      <td>57000</td>\n",
       "      <td>403149</td>\n",
       "      <td>0</td>\n",
       "      <td>0</td>\n",
       "      <td>0</td>\n",
       "      <td>0</td>\n",
       "      <td>0</td>\n",
       "      <td>0</td>\n",
       "      <td>...</td>\n",
       "      <td>0</td>\n",
       "      <td>0</td>\n",
       "      <td>0</td>\n",
       "      <td>0</td>\n",
       "      <td>0</td>\n",
       "      <td>0</td>\n",
       "      <td>0</td>\n",
       "      <td>537</td>\n",
       "      <td>0</td>\n",
       "      <td>1500</td>\n",
       "    </tr>\n",
       "    <tr>\n",
       "      <th>2025-05-06</th>\n",
       "      <td>0</td>\n",
       "      <td>0</td>\n",
       "      <td>0</td>\n",
       "      <td>597294</td>\n",
       "      <td>50000</td>\n",
       "      <td>0</td>\n",
       "      <td>0</td>\n",
       "      <td>12315</td>\n",
       "      <td>0</td>\n",
       "      <td>0</td>\n",
       "      <td>...</td>\n",
       "      <td>0</td>\n",
       "      <td>0</td>\n",
       "      <td>0</td>\n",
       "      <td>0</td>\n",
       "      <td>200</td>\n",
       "      <td>0</td>\n",
       "      <td>0</td>\n",
       "      <td>200</td>\n",
       "      <td>0</td>\n",
       "      <td>1600</td>\n",
       "    </tr>\n",
       "    <tr>\n",
       "      <th>2025-05-07</th>\n",
       "      <td>0</td>\n",
       "      <td>0</td>\n",
       "      <td>0</td>\n",
       "      <td>338310</td>\n",
       "      <td>0</td>\n",
       "      <td>0</td>\n",
       "      <td>0</td>\n",
       "      <td>0</td>\n",
       "      <td>0</td>\n",
       "      <td>0</td>\n",
       "      <td>...</td>\n",
       "      <td>50000</td>\n",
       "      <td>0</td>\n",
       "      <td>0</td>\n",
       "      <td>0</td>\n",
       "      <td>0</td>\n",
       "      <td>0</td>\n",
       "      <td>190</td>\n",
       "      <td>0</td>\n",
       "      <td>0</td>\n",
       "      <td>0</td>\n",
       "    </tr>\n",
       "  </tbody>\n",
       "</table>\n",
       "<p>3733 rows × 24 columns</p>\n",
       "</div>"
      ],
      "text/plain": [
       "country_from      China                                     India        \\\n",
       "country_to   Bangladesh Libya Nigeria Other_imp Turkey Bangladesh Libya   \n",
       "Date                                                                      \n",
       "2015-02-17            0     0       0     64310      0          0     0   \n",
       "2015-02-18            0     0       0         0      0          0     0   \n",
       "2015-02-19            0     0       0         0      0          0     0   \n",
       "2015-02-20            0     0       0         0      0          0     0   \n",
       "2015-02-21            0     0       0       467      0          0     0   \n",
       "...                 ...   ...     ...       ...    ...        ...   ...   \n",
       "2025-05-03            0     0       0         0      0          0     0   \n",
       "2025-05-04            0     0       0         0      0          0     0   \n",
       "2025-05-05            0     0   57000    403149      0          0     0   \n",
       "2025-05-06            0     0       0    597294  50000          0     0   \n",
       "2025-05-07            0     0       0    338310      0          0     0   \n",
       "\n",
       "country_from                       Japan  ... South Korea           Vietnam  \\\n",
       "country_to   Other_imp Turkey Bangladesh  ...   Other_imp Turkey Bangladesh   \n",
       "Date                                      ...                                 \n",
       "2015-02-17       48232      0          0  ...      111470      0          0   \n",
       "2015-02-18           0      0          0  ...           0      0          0   \n",
       "2015-02-19         455      0          0  ...       61062      0          0   \n",
       "2015-02-20           0      0          0  ...           0      0          0   \n",
       "2015-02-21           0      0          0  ...           0      0          0   \n",
       "...                ...    ...        ...  ...         ...    ...        ...   \n",
       "2025-05-03           0      0          0  ...           0      0          0   \n",
       "2025-05-04           0      0          0  ...           0      0          0   \n",
       "2025-05-05           0      0          0  ...           0      0          0   \n",
       "2025-05-06       12315      0          0  ...           0      0          0   \n",
       "2025-05-07           0      0          0  ...       50000      0          0   \n",
       "\n",
       "country_from                 Other_exp                                 \n",
       "country_to   Libya Other_imp    Turkey Bangladesh Nigeria Egypt Libya  \n",
       "Date                                                                   \n",
       "2015-02-17       0         0     10718          0   32155  8574  1958  \n",
       "2015-02-18       0         0         0          0       0  1136     0  \n",
       "2015-02-19       0         0         0          0       0     0     0  \n",
       "2015-02-20       0         0      2033          0       0     0     0  \n",
       "2015-02-21       0         0         0          0       0     0     0  \n",
       "...            ...       ...       ...        ...     ...   ...   ...  \n",
       "2025-05-03       0         0         0          0       0     0     0  \n",
       "2025-05-04       0         0         0          0       0     0     0  \n",
       "2025-05-05       0         0         0          0     537     0  1500  \n",
       "2025-05-06       0       200         0          0     200     0  1600  \n",
       "2025-05-07       0         0         0        190       0     0     0  \n",
       "\n",
       "[3733 rows x 24 columns]"
      ]
     },
     "execution_count": 15,
     "metadata": {},
     "output_type": "execute_result"
    }
   ],
   "source": [
    "result_array={'Coal': [],\n",
    "              'Project': []}\n",
    "result_df={'Coal': '',\n",
    "           'Project': ''}\n",
    "df_other_exp_temp={'Coal': '',\n",
    "                   'Project': []}\n",
    "\n",
    "for good in result_array: \n",
    "    for country in data_import[good].keys():\n",
    "        result_array[good].append(Other_exp_temp(country,good))\n",
    "    result_df[good] = pandas.concat([result_array[good][0],result_array[good][1],result_array[good][2],result_array[good][3],result_array[good][4]], axis=1, join='inner')\n",
    "    df_other_exp_temp[good]=pandas.DataFrame(\n",
    "        result_df[good].values, \n",
    "        index=pandas.to_datetime(result_df[good].index),\n",
    "        columns=pandas.MultiIndex.from_product([['Other_exp'], result_df[good].columns],\n",
    "                               names=['country_from', 'country_to'])\n",
    "    )\n",
    "    df_from_to[good] = pandas.concat([df_from_to[good],df_other_exp_temp[good]], axis=1, join='inner')\n",
    "\n",
    "df_from_to['Project']\n"
   ]
  },
  {
   "cell_type": "code",
   "execution_count": 16,
   "id": "fdeac438-51b5-4cf1-b701-f8324ac1e184",
   "metadata": {},
   "outputs": [
    {
     "data": {
      "text/html": [
       "<div>\n",
       "<style scoped>\n",
       "    .dataframe tbody tr th:only-of-type {\n",
       "        vertical-align: middle;\n",
       "    }\n",
       "\n",
       "    .dataframe tbody tr th {\n",
       "        vertical-align: top;\n",
       "    }\n",
       "\n",
       "    .dataframe thead tr th {\n",
       "        text-align: left;\n",
       "    }\n",
       "\n",
       "    .dataframe thead tr:last-of-type th {\n",
       "        text-align: right;\n",
       "    }\n",
       "</style>\n",
       "<table border=\"1\" class=\"dataframe\">\n",
       "  <thead>\n",
       "    <tr>\n",
       "      <th>country_from</th>\n",
       "      <th colspan=\"6\" halign=\"left\">Indonesia</th>\n",
       "      <th colspan=\"4\" halign=\"left\">Australia</th>\n",
       "      <th>...</th>\n",
       "      <th colspan=\"5\" halign=\"left\">Russia</th>\n",
       "      <th colspan=\"5\" halign=\"left\">Other_exp</th>\n",
       "    </tr>\n",
       "    <tr>\n",
       "      <th>country_to</th>\n",
       "      <th>Vietnam</th>\n",
       "      <th>Japan</th>\n",
       "      <th>India</th>\n",
       "      <th>South Korea</th>\n",
       "      <th>China</th>\n",
       "      <th>Other_imp</th>\n",
       "      <th>Japan</th>\n",
       "      <th>Vietnam</th>\n",
       "      <th>India</th>\n",
       "      <th>South Korea</th>\n",
       "      <th>...</th>\n",
       "      <th>Vietnam</th>\n",
       "      <th>India</th>\n",
       "      <th>South Korea</th>\n",
       "      <th>China</th>\n",
       "      <th>Other_imp</th>\n",
       "      <th>India</th>\n",
       "      <th>China</th>\n",
       "      <th>Vietnam</th>\n",
       "      <th>Japan</th>\n",
       "      <th>South Korea</th>\n",
       "    </tr>\n",
       "    <tr>\n",
       "      <th>Date</th>\n",
       "      <th></th>\n",
       "      <th></th>\n",
       "      <th></th>\n",
       "      <th></th>\n",
       "      <th></th>\n",
       "      <th></th>\n",
       "      <th></th>\n",
       "      <th></th>\n",
       "      <th></th>\n",
       "      <th></th>\n",
       "      <th></th>\n",
       "      <th></th>\n",
       "      <th></th>\n",
       "      <th></th>\n",
       "      <th></th>\n",
       "      <th></th>\n",
       "      <th></th>\n",
       "      <th></th>\n",
       "      <th></th>\n",
       "      <th></th>\n",
       "      <th></th>\n",
       "    </tr>\n",
       "  </thead>\n",
       "  <tbody>\n",
       "    <tr>\n",
       "      <th>2015-01-05</th>\n",
       "      <td>0</td>\n",
       "      <td>159706</td>\n",
       "      <td>851377</td>\n",
       "      <td>422752</td>\n",
       "      <td>650568</td>\n",
       "      <td>290053</td>\n",
       "      <td>0</td>\n",
       "      <td>0</td>\n",
       "      <td>293580</td>\n",
       "      <td>159706</td>\n",
       "      <td>...</td>\n",
       "      <td>0</td>\n",
       "      <td>23486</td>\n",
       "      <td>82202</td>\n",
       "      <td>0</td>\n",
       "      <td>135046</td>\n",
       "      <td>41101</td>\n",
       "      <td>463853</td>\n",
       "      <td>11743</td>\n",
       "      <td>0</td>\n",
       "      <td>0</td>\n",
       "    </tr>\n",
       "    <tr>\n",
       "      <th>2015-01-06</th>\n",
       "      <td>35221</td>\n",
       "      <td>0</td>\n",
       "      <td>1003801</td>\n",
       "      <td>0</td>\n",
       "      <td>631632</td>\n",
       "      <td>524795</td>\n",
       "      <td>79835</td>\n",
       "      <td>0</td>\n",
       "      <td>717217</td>\n",
       "      <td>0</td>\n",
       "      <td>...</td>\n",
       "      <td>0</td>\n",
       "      <td>0</td>\n",
       "      <td>166714</td>\n",
       "      <td>0</td>\n",
       "      <td>93923</td>\n",
       "      <td>98618</td>\n",
       "      <td>119752</td>\n",
       "      <td>11740</td>\n",
       "      <td>0</td>\n",
       "      <td>0</td>\n",
       "    </tr>\n",
       "    <tr>\n",
       "      <th>2015-01-07</th>\n",
       "      <td>25300</td>\n",
       "      <td>0</td>\n",
       "      <td>407337</td>\n",
       "      <td>110056</td>\n",
       "      <td>258063</td>\n",
       "      <td>158127</td>\n",
       "      <td>110056</td>\n",
       "      <td>0</td>\n",
       "      <td>612267</td>\n",
       "      <td>0</td>\n",
       "      <td>...</td>\n",
       "      <td>0</td>\n",
       "      <td>0</td>\n",
       "      <td>183427</td>\n",
       "      <td>0</td>\n",
       "      <td>151800</td>\n",
       "      <td>86021</td>\n",
       "      <td>180896</td>\n",
       "      <td>0</td>\n",
       "      <td>0</td>\n",
       "      <td>0</td>\n",
       "    </tr>\n",
       "    <tr>\n",
       "      <th>2015-01-08</th>\n",
       "      <td>39077</td>\n",
       "      <td>0</td>\n",
       "      <td>657804</td>\n",
       "      <td>104207</td>\n",
       "      <td>315224</td>\n",
       "      <td>240974</td>\n",
       "      <td>182362</td>\n",
       "      <td>0</td>\n",
       "      <td>566625</td>\n",
       "      <td>140679</td>\n",
       "      <td>...</td>\n",
       "      <td>0</td>\n",
       "      <td>0</td>\n",
       "      <td>0</td>\n",
       "      <td>7164</td>\n",
       "      <td>13024</td>\n",
       "      <td>200598</td>\n",
       "      <td>80759</td>\n",
       "      <td>3907</td>\n",
       "      <td>0</td>\n",
       "      <td>208414</td>\n",
       "    </tr>\n",
       "    <tr>\n",
       "      <th>2015-01-09</th>\n",
       "      <td>37359</td>\n",
       "      <td>0</td>\n",
       "      <td>336234</td>\n",
       "      <td>84682</td>\n",
       "      <td>143210</td>\n",
       "      <td>682433</td>\n",
       "      <td>62266</td>\n",
       "      <td>0</td>\n",
       "      <td>249064</td>\n",
       "      <td>0</td>\n",
       "      <td>...</td>\n",
       "      <td>0</td>\n",
       "      <td>0</td>\n",
       "      <td>209213</td>\n",
       "      <td>0</td>\n",
       "      <td>18056</td>\n",
       "      <td>47322</td>\n",
       "      <td>0</td>\n",
       "      <td>0</td>\n",
       "      <td>59775</td>\n",
       "      <td>0</td>\n",
       "    </tr>\n",
       "    <tr>\n",
       "      <th>...</th>\n",
       "      <td>...</td>\n",
       "      <td>...</td>\n",
       "      <td>...</td>\n",
       "      <td>...</td>\n",
       "      <td>...</td>\n",
       "      <td>...</td>\n",
       "      <td>...</td>\n",
       "      <td>...</td>\n",
       "      <td>...</td>\n",
       "      <td>...</td>\n",
       "      <td>...</td>\n",
       "      <td>...</td>\n",
       "      <td>...</td>\n",
       "      <td>...</td>\n",
       "      <td>...</td>\n",
       "      <td>...</td>\n",
       "      <td>...</td>\n",
       "      <td>...</td>\n",
       "      <td>...</td>\n",
       "      <td>...</td>\n",
       "      <td>...</td>\n",
       "    </tr>\n",
       "    <tr>\n",
       "      <th>2025-05-13</th>\n",
       "      <td>0</td>\n",
       "      <td>47000</td>\n",
       "      <td>813000</td>\n",
       "      <td>0</td>\n",
       "      <td>424001</td>\n",
       "      <td>886000</td>\n",
       "      <td>196000</td>\n",
       "      <td>682000</td>\n",
       "      <td>333000</td>\n",
       "      <td>220000</td>\n",
       "      <td>...</td>\n",
       "      <td>0</td>\n",
       "      <td>0</td>\n",
       "      <td>0</td>\n",
       "      <td>245000</td>\n",
       "      <td>415850</td>\n",
       "      <td>150000</td>\n",
       "      <td>63000</td>\n",
       "      <td>0</td>\n",
       "      <td>70000</td>\n",
       "      <td>20000</td>\n",
       "    </tr>\n",
       "    <tr>\n",
       "      <th>2025-05-14</th>\n",
       "      <td>200000</td>\n",
       "      <td>310000</td>\n",
       "      <td>275000</td>\n",
       "      <td>136000</td>\n",
       "      <td>634001</td>\n",
       "      <td>356500</td>\n",
       "      <td>271000</td>\n",
       "      <td>165000</td>\n",
       "      <td>78000</td>\n",
       "      <td>0</td>\n",
       "      <td>...</td>\n",
       "      <td>0</td>\n",
       "      <td>236000</td>\n",
       "      <td>16000</td>\n",
       "      <td>0</td>\n",
       "      <td>180350</td>\n",
       "      <td>118000</td>\n",
       "      <td>0</td>\n",
       "      <td>0</td>\n",
       "      <td>75000</td>\n",
       "      <td>0</td>\n",
       "    </tr>\n",
       "    <tr>\n",
       "      <th>2025-05-15</th>\n",
       "      <td>68000</td>\n",
       "      <td>50000</td>\n",
       "      <td>378001</td>\n",
       "      <td>0</td>\n",
       "      <td>485000</td>\n",
       "      <td>574000</td>\n",
       "      <td>130000</td>\n",
       "      <td>0</td>\n",
       "      <td>0</td>\n",
       "      <td>0</td>\n",
       "      <td>...</td>\n",
       "      <td>0</td>\n",
       "      <td>75000</td>\n",
       "      <td>30000</td>\n",
       "      <td>95000</td>\n",
       "      <td>246950</td>\n",
       "      <td>171750</td>\n",
       "      <td>60000</td>\n",
       "      <td>48000</td>\n",
       "      <td>80000</td>\n",
       "      <td>29000</td>\n",
       "    </tr>\n",
       "    <tr>\n",
       "      <th>2025-05-16</th>\n",
       "      <td>50000</td>\n",
       "      <td>91000</td>\n",
       "      <td>341000</td>\n",
       "      <td>0</td>\n",
       "      <td>0</td>\n",
       "      <td>406000</td>\n",
       "      <td>80000</td>\n",
       "      <td>0</td>\n",
       "      <td>80000</td>\n",
       "      <td>0</td>\n",
       "      <td>...</td>\n",
       "      <td>0</td>\n",
       "      <td>0</td>\n",
       "      <td>0</td>\n",
       "      <td>53000</td>\n",
       "      <td>68000</td>\n",
       "      <td>588500</td>\n",
       "      <td>0</td>\n",
       "      <td>0</td>\n",
       "      <td>34000</td>\n",
       "      <td>40000</td>\n",
       "    </tr>\n",
       "    <tr>\n",
       "      <th>2025-05-17</th>\n",
       "      <td>50000</td>\n",
       "      <td>0</td>\n",
       "      <td>50000</td>\n",
       "      <td>0</td>\n",
       "      <td>0</td>\n",
       "      <td>0</td>\n",
       "      <td>0</td>\n",
       "      <td>0</td>\n",
       "      <td>0</td>\n",
       "      <td>0</td>\n",
       "      <td>...</td>\n",
       "      <td>0</td>\n",
       "      <td>0</td>\n",
       "      <td>0</td>\n",
       "      <td>0</td>\n",
       "      <td>0</td>\n",
       "      <td>30000</td>\n",
       "      <td>0</td>\n",
       "      <td>0</td>\n",
       "      <td>0</td>\n",
       "      <td>0</td>\n",
       "    </tr>\n",
       "  </tbody>\n",
       "</table>\n",
       "<p>3786 rows × 31 columns</p>\n",
       "</div>"
      ],
      "text/plain": [
       "country_from Indonesia                                                 \\\n",
       "country_to     Vietnam   Japan    India South Korea   China Other_imp   \n",
       "Date                                                                    \n",
       "2015-01-05           0  159706   851377      422752  650568    290053   \n",
       "2015-01-06       35221       0  1003801           0  631632    524795   \n",
       "2015-01-07       25300       0   407337      110056  258063    158127   \n",
       "2015-01-08       39077       0   657804      104207  315224    240974   \n",
       "2015-01-09       37359       0   336234       84682  143210    682433   \n",
       "...                ...     ...      ...         ...     ...       ...   \n",
       "2025-05-13           0   47000   813000           0  424001    886000   \n",
       "2025-05-14      200000  310000   275000      136000  634001    356500   \n",
       "2025-05-15       68000   50000   378001           0  485000    574000   \n",
       "2025-05-16       50000   91000   341000           0       0    406000   \n",
       "2025-05-17       50000       0    50000           0       0         0   \n",
       "\n",
       "country_from Australia                              ...  Russia          \\\n",
       "country_to       Japan Vietnam   India South Korea  ... Vietnam   India   \n",
       "Date                                                ...                   \n",
       "2015-01-05           0       0  293580      159706  ...       0   23486   \n",
       "2015-01-06       79835       0  717217           0  ...       0       0   \n",
       "2015-01-07      110056       0  612267           0  ...       0       0   \n",
       "2015-01-08      182362       0  566625      140679  ...       0       0   \n",
       "2015-01-09       62266       0  249064           0  ...       0       0   \n",
       "...                ...     ...     ...         ...  ...     ...     ...   \n",
       "2025-05-13      196000  682000  333000      220000  ...       0       0   \n",
       "2025-05-14      271000  165000   78000           0  ...       0  236000   \n",
       "2025-05-15      130000       0       0           0  ...       0   75000   \n",
       "2025-05-16       80000       0   80000           0  ...       0       0   \n",
       "2025-05-17           0       0       0           0  ...       0       0   \n",
       "\n",
       "country_from                               Other_exp                         \\\n",
       "country_to   South Korea   China Other_imp     India   China Vietnam  Japan   \n",
       "Date                                                                          \n",
       "2015-01-05         82202       0    135046     41101  463853   11743      0   \n",
       "2015-01-06        166714       0     93923     98618  119752   11740      0   \n",
       "2015-01-07        183427       0    151800     86021  180896       0      0   \n",
       "2015-01-08             0    7164     13024    200598   80759    3907      0   \n",
       "2015-01-09        209213       0     18056     47322       0       0  59775   \n",
       "...                  ...     ...       ...       ...     ...     ...    ...   \n",
       "2025-05-13             0  245000    415850    150000   63000       0  70000   \n",
       "2025-05-14         16000       0    180350    118000       0       0  75000   \n",
       "2025-05-15         30000   95000    246950    171750   60000   48000  80000   \n",
       "2025-05-16             0   53000     68000    588500       0       0  34000   \n",
       "2025-05-17             0       0         0     30000       0       0      0   \n",
       "\n",
       "country_from              \n",
       "country_to   South Korea  \n",
       "Date                      \n",
       "2015-01-05             0  \n",
       "2015-01-06             0  \n",
       "2015-01-07             0  \n",
       "2015-01-08        208414  \n",
       "2015-01-09             0  \n",
       "...                  ...  \n",
       "2025-05-13         20000  \n",
       "2025-05-14             0  \n",
       "2025-05-15         29000  \n",
       "2025-05-16         40000  \n",
       "2025-05-17             0  \n",
       "\n",
       "[3786 rows x 31 columns]"
      ]
     },
     "execution_count": 16,
     "metadata": {},
     "output_type": "execute_result"
    }
   ],
   "source": [
    "df_from_to['Coal']"
   ]
  },
  {
   "cell_type": "code",
   "execution_count": 17,
   "id": "8f271554-1a56-4b7a-9782-e237dbcb99e9",
   "metadata": {},
   "outputs": [],
   "source": [
    "import pickle\n",
    "\n",
    "with open(\"df_from_to.pkl\", \"wb\") as f:\n",
    "    pickle.dump(df_from_to, f)\n"
   ]
  },
  {
   "cell_type": "code",
   "execution_count": null,
   "id": "ca4c1d47-86b7-4028-ba6a-9d2a3c0bc826",
   "metadata": {},
   "outputs": [],
   "source": []
  },
  {
   "cell_type": "markdown",
   "id": "b80991f9-739e-4e3f-af80-8d886638ac56",
   "metadata": {},
   "source": [
    "# STOP THERE ?\n",
    "\n",
    "------"
   ]
  },
  {
   "cell_type": "code",
   "execution_count": 18,
   "id": "58df7c43-cf52-4fd9-a107-0bbb8ce9720a",
   "metadata": {},
   "outputs": [
    {
     "data": {
      "text/html": [
       "<div>\n",
       "<style scoped>\n",
       "    .dataframe tbody tr th:only-of-type {\n",
       "        vertical-align: middle;\n",
       "    }\n",
       "\n",
       "    .dataframe tbody tr th {\n",
       "        vertical-align: top;\n",
       "    }\n",
       "\n",
       "    .dataframe thead tr th {\n",
       "        text-align: left;\n",
       "    }\n",
       "\n",
       "    .dataframe thead tr:last-of-type th {\n",
       "        text-align: right;\n",
       "    }\n",
       "</style>\n",
       "<table border=\"1\" class=\"dataframe\">\n",
       "  <thead>\n",
       "    <tr>\n",
       "      <th>country_from</th>\n",
       "      <th colspan=\"5\" halign=\"left\">China</th>\n",
       "      <th colspan=\"4\" halign=\"left\">India</th>\n",
       "      <th>Japan</th>\n",
       "      <th>...</th>\n",
       "      <th colspan=\"2\" halign=\"left\">South Korea</th>\n",
       "      <th colspan=\"3\" halign=\"left\">Vietnam</th>\n",
       "      <th colspan=\"5\" halign=\"left\">Other_exp</th>\n",
       "    </tr>\n",
       "    <tr>\n",
       "      <th>country_to</th>\n",
       "      <th>Bangladesh</th>\n",
       "      <th>Libya</th>\n",
       "      <th>Nigeria</th>\n",
       "      <th>Other_imp</th>\n",
       "      <th>Turkey</th>\n",
       "      <th>Bangladesh</th>\n",
       "      <th>Libya</th>\n",
       "      <th>Other_imp</th>\n",
       "      <th>Turkey</th>\n",
       "      <th>Bangladesh</th>\n",
       "      <th>...</th>\n",
       "      <th>Other_imp</th>\n",
       "      <th>Turkey</th>\n",
       "      <th>Bangladesh</th>\n",
       "      <th>Libya</th>\n",
       "      <th>Other_imp</th>\n",
       "      <th>Turkey</th>\n",
       "      <th>Bangladesh</th>\n",
       "      <th>Nigeria</th>\n",
       "      <th>Egypt</th>\n",
       "      <th>Libya</th>\n",
       "    </tr>\n",
       "    <tr>\n",
       "      <th>Date</th>\n",
       "      <th></th>\n",
       "      <th></th>\n",
       "      <th></th>\n",
       "      <th></th>\n",
       "      <th></th>\n",
       "      <th></th>\n",
       "      <th></th>\n",
       "      <th></th>\n",
       "      <th></th>\n",
       "      <th></th>\n",
       "      <th></th>\n",
       "      <th></th>\n",
       "      <th></th>\n",
       "      <th></th>\n",
       "      <th></th>\n",
       "      <th></th>\n",
       "      <th></th>\n",
       "      <th></th>\n",
       "      <th></th>\n",
       "      <th></th>\n",
       "      <th></th>\n",
       "    </tr>\n",
       "  </thead>\n",
       "  <tbody>\n",
       "    <tr>\n",
       "      <th>2015-02-17</th>\n",
       "      <td>NaN</td>\n",
       "      <td>NaN</td>\n",
       "      <td>NaN</td>\n",
       "      <td>NaN</td>\n",
       "      <td>NaN</td>\n",
       "      <td>NaN</td>\n",
       "      <td>NaN</td>\n",
       "      <td>NaN</td>\n",
       "      <td>NaN</td>\n",
       "      <td>NaN</td>\n",
       "      <td>...</td>\n",
       "      <td>NaN</td>\n",
       "      <td>NaN</td>\n",
       "      <td>NaN</td>\n",
       "      <td>NaN</td>\n",
       "      <td>NaN</td>\n",
       "      <td>NaN</td>\n",
       "      <td>NaN</td>\n",
       "      <td>NaN</td>\n",
       "      <td>NaN</td>\n",
       "      <td>NaN</td>\n",
       "    </tr>\n",
       "    <tr>\n",
       "      <th>2015-02-18</th>\n",
       "      <td>NaN</td>\n",
       "      <td>NaN</td>\n",
       "      <td>NaN</td>\n",
       "      <td>NaN</td>\n",
       "      <td>NaN</td>\n",
       "      <td>NaN</td>\n",
       "      <td>NaN</td>\n",
       "      <td>NaN</td>\n",
       "      <td>NaN</td>\n",
       "      <td>NaN</td>\n",
       "      <td>...</td>\n",
       "      <td>NaN</td>\n",
       "      <td>NaN</td>\n",
       "      <td>NaN</td>\n",
       "      <td>NaN</td>\n",
       "      <td>NaN</td>\n",
       "      <td>NaN</td>\n",
       "      <td>NaN</td>\n",
       "      <td>NaN</td>\n",
       "      <td>NaN</td>\n",
       "      <td>NaN</td>\n",
       "    </tr>\n",
       "    <tr>\n",
       "      <th>2015-02-19</th>\n",
       "      <td>NaN</td>\n",
       "      <td>NaN</td>\n",
       "      <td>NaN</td>\n",
       "      <td>NaN</td>\n",
       "      <td>NaN</td>\n",
       "      <td>NaN</td>\n",
       "      <td>NaN</td>\n",
       "      <td>NaN</td>\n",
       "      <td>NaN</td>\n",
       "      <td>NaN</td>\n",
       "      <td>...</td>\n",
       "      <td>NaN</td>\n",
       "      <td>NaN</td>\n",
       "      <td>NaN</td>\n",
       "      <td>NaN</td>\n",
       "      <td>NaN</td>\n",
       "      <td>NaN</td>\n",
       "      <td>NaN</td>\n",
       "      <td>NaN</td>\n",
       "      <td>NaN</td>\n",
       "      <td>NaN</td>\n",
       "    </tr>\n",
       "    <tr>\n",
       "      <th>2015-02-20</th>\n",
       "      <td>NaN</td>\n",
       "      <td>NaN</td>\n",
       "      <td>NaN</td>\n",
       "      <td>NaN</td>\n",
       "      <td>NaN</td>\n",
       "      <td>NaN</td>\n",
       "      <td>NaN</td>\n",
       "      <td>NaN</td>\n",
       "      <td>NaN</td>\n",
       "      <td>NaN</td>\n",
       "      <td>...</td>\n",
       "      <td>NaN</td>\n",
       "      <td>NaN</td>\n",
       "      <td>NaN</td>\n",
       "      <td>NaN</td>\n",
       "      <td>NaN</td>\n",
       "      <td>NaN</td>\n",
       "      <td>NaN</td>\n",
       "      <td>NaN</td>\n",
       "      <td>NaN</td>\n",
       "      <td>NaN</td>\n",
       "    </tr>\n",
       "    <tr>\n",
       "      <th>2015-02-21</th>\n",
       "      <td>NaN</td>\n",
       "      <td>NaN</td>\n",
       "      <td>NaN</td>\n",
       "      <td>NaN</td>\n",
       "      <td>NaN</td>\n",
       "      <td>NaN</td>\n",
       "      <td>NaN</td>\n",
       "      <td>NaN</td>\n",
       "      <td>NaN</td>\n",
       "      <td>NaN</td>\n",
       "      <td>...</td>\n",
       "      <td>NaN</td>\n",
       "      <td>NaN</td>\n",
       "      <td>NaN</td>\n",
       "      <td>NaN</td>\n",
       "      <td>NaN</td>\n",
       "      <td>NaN</td>\n",
       "      <td>NaN</td>\n",
       "      <td>NaN</td>\n",
       "      <td>NaN</td>\n",
       "      <td>NaN</td>\n",
       "    </tr>\n",
       "    <tr>\n",
       "      <th>...</th>\n",
       "      <td>...</td>\n",
       "      <td>...</td>\n",
       "      <td>...</td>\n",
       "      <td>...</td>\n",
       "      <td>...</td>\n",
       "      <td>...</td>\n",
       "      <td>...</td>\n",
       "      <td>...</td>\n",
       "      <td>...</td>\n",
       "      <td>...</td>\n",
       "      <td>...</td>\n",
       "      <td>...</td>\n",
       "      <td>...</td>\n",
       "      <td>...</td>\n",
       "      <td>...</td>\n",
       "      <td>...</td>\n",
       "      <td>...</td>\n",
       "      <td>...</td>\n",
       "      <td>...</td>\n",
       "      <td>...</td>\n",
       "      <td>...</td>\n",
       "    </tr>\n",
       "    <tr>\n",
       "      <th>2025-05-03</th>\n",
       "      <td>NaN</td>\n",
       "      <td>NaN</td>\n",
       "      <td>NaN</td>\n",
       "      <td>NaN</td>\n",
       "      <td>NaN</td>\n",
       "      <td>NaN</td>\n",
       "      <td>NaN</td>\n",
       "      <td>NaN</td>\n",
       "      <td>NaN</td>\n",
       "      <td>NaN</td>\n",
       "      <td>...</td>\n",
       "      <td>NaN</td>\n",
       "      <td>NaN</td>\n",
       "      <td>NaN</td>\n",
       "      <td>NaN</td>\n",
       "      <td>NaN</td>\n",
       "      <td>NaN</td>\n",
       "      <td>NaN</td>\n",
       "      <td>NaN</td>\n",
       "      <td>NaN</td>\n",
       "      <td>NaN</td>\n",
       "    </tr>\n",
       "    <tr>\n",
       "      <th>2025-05-04</th>\n",
       "      <td>NaN</td>\n",
       "      <td>NaN</td>\n",
       "      <td>NaN</td>\n",
       "      <td>NaN</td>\n",
       "      <td>NaN</td>\n",
       "      <td>NaN</td>\n",
       "      <td>NaN</td>\n",
       "      <td>NaN</td>\n",
       "      <td>NaN</td>\n",
       "      <td>NaN</td>\n",
       "      <td>...</td>\n",
       "      <td>NaN</td>\n",
       "      <td>NaN</td>\n",
       "      <td>NaN</td>\n",
       "      <td>NaN</td>\n",
       "      <td>NaN</td>\n",
       "      <td>NaN</td>\n",
       "      <td>NaN</td>\n",
       "      <td>NaN</td>\n",
       "      <td>NaN</td>\n",
       "      <td>NaN</td>\n",
       "    </tr>\n",
       "    <tr>\n",
       "      <th>2025-05-05</th>\n",
       "      <td>NaN</td>\n",
       "      <td>NaN</td>\n",
       "      <td>NaN</td>\n",
       "      <td>NaN</td>\n",
       "      <td>NaN</td>\n",
       "      <td>NaN</td>\n",
       "      <td>NaN</td>\n",
       "      <td>NaN</td>\n",
       "      <td>NaN</td>\n",
       "      <td>NaN</td>\n",
       "      <td>...</td>\n",
       "      <td>NaN</td>\n",
       "      <td>NaN</td>\n",
       "      <td>NaN</td>\n",
       "      <td>NaN</td>\n",
       "      <td>NaN</td>\n",
       "      <td>NaN</td>\n",
       "      <td>NaN</td>\n",
       "      <td>NaN</td>\n",
       "      <td>NaN</td>\n",
       "      <td>NaN</td>\n",
       "    </tr>\n",
       "    <tr>\n",
       "      <th>2025-05-06</th>\n",
       "      <td>NaN</td>\n",
       "      <td>NaN</td>\n",
       "      <td>NaN</td>\n",
       "      <td>NaN</td>\n",
       "      <td>NaN</td>\n",
       "      <td>NaN</td>\n",
       "      <td>NaN</td>\n",
       "      <td>NaN</td>\n",
       "      <td>NaN</td>\n",
       "      <td>NaN</td>\n",
       "      <td>...</td>\n",
       "      <td>NaN</td>\n",
       "      <td>NaN</td>\n",
       "      <td>NaN</td>\n",
       "      <td>NaN</td>\n",
       "      <td>NaN</td>\n",
       "      <td>NaN</td>\n",
       "      <td>NaN</td>\n",
       "      <td>NaN</td>\n",
       "      <td>NaN</td>\n",
       "      <td>NaN</td>\n",
       "    </tr>\n",
       "    <tr>\n",
       "      <th>2025-05-07</th>\n",
       "      <td>NaN</td>\n",
       "      <td>NaN</td>\n",
       "      <td>NaN</td>\n",
       "      <td>NaN</td>\n",
       "      <td>NaN</td>\n",
       "      <td>NaN</td>\n",
       "      <td>NaN</td>\n",
       "      <td>NaN</td>\n",
       "      <td>NaN</td>\n",
       "      <td>NaN</td>\n",
       "      <td>...</td>\n",
       "      <td>NaN</td>\n",
       "      <td>NaN</td>\n",
       "      <td>NaN</td>\n",
       "      <td>NaN</td>\n",
       "      <td>NaN</td>\n",
       "      <td>NaN</td>\n",
       "      <td>NaN</td>\n",
       "      <td>NaN</td>\n",
       "      <td>NaN</td>\n",
       "      <td>NaN</td>\n",
       "    </tr>\n",
       "  </tbody>\n",
       "</table>\n",
       "<p>3733 rows × 24 columns</p>\n",
       "</div>"
      ],
      "text/plain": [
       "country_from      China                                     India        \\\n",
       "country_to   Bangladesh Libya Nigeria Other_imp Turkey Bangladesh Libya   \n",
       "Date                                                                      \n",
       "2015-02-17          NaN   NaN     NaN       NaN    NaN        NaN   NaN   \n",
       "2015-02-18          NaN   NaN     NaN       NaN    NaN        NaN   NaN   \n",
       "2015-02-19          NaN   NaN     NaN       NaN    NaN        NaN   NaN   \n",
       "2015-02-20          NaN   NaN     NaN       NaN    NaN        NaN   NaN   \n",
       "2015-02-21          NaN   NaN     NaN       NaN    NaN        NaN   NaN   \n",
       "...                 ...   ...     ...       ...    ...        ...   ...   \n",
       "2025-05-03          NaN   NaN     NaN       NaN    NaN        NaN   NaN   \n",
       "2025-05-04          NaN   NaN     NaN       NaN    NaN        NaN   NaN   \n",
       "2025-05-05          NaN   NaN     NaN       NaN    NaN        NaN   NaN   \n",
       "2025-05-06          NaN   NaN     NaN       NaN    NaN        NaN   NaN   \n",
       "2025-05-07          NaN   NaN     NaN       NaN    NaN        NaN   NaN   \n",
       "\n",
       "country_from                       Japan  ... South Korea           Vietnam  \\\n",
       "country_to   Other_imp Turkey Bangladesh  ...   Other_imp Turkey Bangladesh   \n",
       "Date                                      ...                                 \n",
       "2015-02-17         NaN    NaN        NaN  ...         NaN    NaN        NaN   \n",
       "2015-02-18         NaN    NaN        NaN  ...         NaN    NaN        NaN   \n",
       "2015-02-19         NaN    NaN        NaN  ...         NaN    NaN        NaN   \n",
       "2015-02-20         NaN    NaN        NaN  ...         NaN    NaN        NaN   \n",
       "2015-02-21         NaN    NaN        NaN  ...         NaN    NaN        NaN   \n",
       "...                ...    ...        ...  ...         ...    ...        ...   \n",
       "2025-05-03         NaN    NaN        NaN  ...         NaN    NaN        NaN   \n",
       "2025-05-04         NaN    NaN        NaN  ...         NaN    NaN        NaN   \n",
       "2025-05-05         NaN    NaN        NaN  ...         NaN    NaN        NaN   \n",
       "2025-05-06         NaN    NaN        NaN  ...         NaN    NaN        NaN   \n",
       "2025-05-07         NaN    NaN        NaN  ...         NaN    NaN        NaN   \n",
       "\n",
       "country_from                 Other_exp                                 \n",
       "country_to   Libya Other_imp    Turkey Bangladesh Nigeria Egypt Libya  \n",
       "Date                                                                   \n",
       "2015-02-17     NaN       NaN       NaN        NaN     NaN   NaN   NaN  \n",
       "2015-02-18     NaN       NaN       NaN        NaN     NaN   NaN   NaN  \n",
       "2015-02-19     NaN       NaN       NaN        NaN     NaN   NaN   NaN  \n",
       "2015-02-20     NaN       NaN       NaN        NaN     NaN   NaN   NaN  \n",
       "2015-02-21     NaN       NaN       NaN        NaN     NaN   NaN   NaN  \n",
       "...            ...       ...       ...        ...     ...   ...   ...  \n",
       "2025-05-03     NaN       NaN       NaN        NaN     NaN   NaN   NaN  \n",
       "2025-05-04     NaN       NaN       NaN        NaN     NaN   NaN   NaN  \n",
       "2025-05-05     NaN       NaN       NaN        NaN     NaN   NaN   NaN  \n",
       "2025-05-06     NaN       NaN       NaN        NaN     NaN   NaN   NaN  \n",
       "2025-05-07     NaN       NaN       NaN        NaN     NaN   NaN   NaN  \n",
       "\n",
       "[3733 rows x 24 columns]"
      ]
     },
     "execution_count": 18,
     "metadata": {},
     "output_type": "execute_result"
    }
   ],
   "source": [
    "text =df_from_to['Project'].rolling(61, center=True).mean()\n",
    "text"
   ]
  },
  {
   "cell_type": "markdown",
   "id": "8f53a920-30f3-4493-90f5-0a53f75835a0",
   "metadata": {},
   "source": [
    "## dataframe per day"
   ]
  },
  {
   "cell_type": "code",
   "execution_count": 19,
   "id": "f47289c0-013d-4196-95e2-c3610a86d1e3",
   "metadata": {},
   "outputs": [
    {
     "data": {
      "text/html": [
       "<div>\n",
       "<style scoped>\n",
       "    .dataframe tbody tr th:only-of-type {\n",
       "        vertical-align: middle;\n",
       "    }\n",
       "\n",
       "    .dataframe tbody tr th {\n",
       "        vertical-align: top;\n",
       "    }\n",
       "\n",
       "    .dataframe thead tr th {\n",
       "        text-align: left;\n",
       "    }\n",
       "\n",
       "    .dataframe thead tr:last-of-type th {\n",
       "        text-align: right;\n",
       "    }\n",
       "</style>\n",
       "<table border=\"1\" class=\"dataframe\">\n",
       "  <thead>\n",
       "    <tr>\n",
       "      <th>Date</th>\n",
       "      <th colspan=\"6\" halign=\"left\">2021-03-10</th>\n",
       "    </tr>\n",
       "    <tr>\n",
       "      <th>country_to</th>\n",
       "      <th>Bangladesh</th>\n",
       "      <th>Libya</th>\n",
       "      <th>Nigeria</th>\n",
       "      <th>Other_imp</th>\n",
       "      <th>Turkey</th>\n",
       "      <th>Egypt</th>\n",
       "    </tr>\n",
       "    <tr>\n",
       "      <th>country_from</th>\n",
       "      <th></th>\n",
       "      <th></th>\n",
       "      <th></th>\n",
       "      <th></th>\n",
       "      <th></th>\n",
       "      <th></th>\n",
       "    </tr>\n",
       "  </thead>\n",
       "  <tbody>\n",
       "    <tr>\n",
       "      <th>China</th>\n",
       "      <td>0.0</td>\n",
       "      <td>0.0</td>\n",
       "      <td>0.0</td>\n",
       "      <td>5977.0</td>\n",
       "      <td>0.0</td>\n",
       "      <td>0.0</td>\n",
       "    </tr>\n",
       "    <tr>\n",
       "      <th>India</th>\n",
       "      <td>0.0</td>\n",
       "      <td>0.0</td>\n",
       "      <td>0.0</td>\n",
       "      <td>63028.0</td>\n",
       "      <td>0.0</td>\n",
       "      <td>0.0</td>\n",
       "    </tr>\n",
       "    <tr>\n",
       "      <th>Japan</th>\n",
       "      <td>0.0</td>\n",
       "      <td>0.0</td>\n",
       "      <td>0.0</td>\n",
       "      <td>0.0</td>\n",
       "      <td>0.0</td>\n",
       "      <td>0.0</td>\n",
       "    </tr>\n",
       "    <tr>\n",
       "      <th>South Korea</th>\n",
       "      <td>0.0</td>\n",
       "      <td>0.0</td>\n",
       "      <td>0.0</td>\n",
       "      <td>1194.0</td>\n",
       "      <td>0.0</td>\n",
       "      <td>0.0</td>\n",
       "    </tr>\n",
       "    <tr>\n",
       "      <th>Vietnam</th>\n",
       "      <td>0.0</td>\n",
       "      <td>0.0</td>\n",
       "      <td>0.0</td>\n",
       "      <td>3467.0</td>\n",
       "      <td>0.0</td>\n",
       "      <td>0.0</td>\n",
       "    </tr>\n",
       "    <tr>\n",
       "      <th>Other_exp</th>\n",
       "      <td>251.0</td>\n",
       "      <td>0.0</td>\n",
       "      <td>0.0</td>\n",
       "      <td>0.0</td>\n",
       "      <td>0.0</td>\n",
       "      <td>3244.0</td>\n",
       "    </tr>\n",
       "  </tbody>\n",
       "</table>\n",
       "</div>"
      ],
      "text/plain": [
       "Date         2021-03-10                                       \n",
       "country_to   Bangladesh Libya Nigeria Other_imp Turkey   Egypt\n",
       "country_from                                                  \n",
       "China               0.0   0.0     0.0    5977.0    0.0     0.0\n",
       "India               0.0   0.0     0.0   63028.0    0.0     0.0\n",
       "Japan               0.0   0.0     0.0       0.0    0.0     0.0\n",
       "South Korea         0.0   0.0     0.0    1194.0    0.0     0.0\n",
       "Vietnam             0.0   0.0     0.0    3467.0    0.0     0.0\n",
       "Other_exp         251.0   0.0     0.0       0.0    0.0  3244.0"
      ]
     },
     "execution_count": 19,
     "metadata": {},
     "output_type": "execute_result"
    }
   ],
   "source": [
    "df_from_to['Project'][df_from_to['Project'].index == pandas.to_datetime('2021-03-10\t')].stack(future_stack=True).fillna(0).T"
   ]
  },
  {
   "cell_type": "code",
   "execution_count": 20,
   "id": "f565bb2d-a127-4555-bace-c0199e1817d0",
   "metadata": {},
   "outputs": [
    {
     "data": {
      "text/html": [
       "<div>\n",
       "<style scoped>\n",
       "    .dataframe tbody tr th:only-of-type {\n",
       "        vertical-align: middle;\n",
       "    }\n",
       "\n",
       "    .dataframe tbody tr th {\n",
       "        vertical-align: top;\n",
       "    }\n",
       "\n",
       "    .dataframe thead tr th {\n",
       "        text-align: left;\n",
       "    }\n",
       "\n",
       "    .dataframe thead tr:last-of-type th {\n",
       "        text-align: right;\n",
       "    }\n",
       "</style>\n",
       "<table border=\"1\" class=\"dataframe\">\n",
       "  <thead>\n",
       "    <tr>\n",
       "      <th>Date</th>\n",
       "      <th colspan=\"6\" halign=\"left\">2021-03-10</th>\n",
       "    </tr>\n",
       "    <tr>\n",
       "      <th>country_to</th>\n",
       "      <th>Vietnam</th>\n",
       "      <th>Japan</th>\n",
       "      <th>India</th>\n",
       "      <th>South Korea</th>\n",
       "      <th>China</th>\n",
       "      <th>Other_imp</th>\n",
       "    </tr>\n",
       "    <tr>\n",
       "      <th>country_from</th>\n",
       "      <th></th>\n",
       "      <th></th>\n",
       "      <th></th>\n",
       "      <th></th>\n",
       "      <th></th>\n",
       "      <th></th>\n",
       "    </tr>\n",
       "  </thead>\n",
       "  <tbody>\n",
       "    <tr>\n",
       "      <th>Indonesia</th>\n",
       "      <td>172537.0</td>\n",
       "      <td>0.0</td>\n",
       "      <td>988234.0</td>\n",
       "      <td>145373.0</td>\n",
       "      <td>36710.0</td>\n",
       "      <td>292211.0</td>\n",
       "    </tr>\n",
       "    <tr>\n",
       "      <th>Australia</th>\n",
       "      <td>0.0</td>\n",
       "      <td>0.0</td>\n",
       "      <td>117472.0</td>\n",
       "      <td>58736.0</td>\n",
       "      <td>0.0</td>\n",
       "      <td>128486.0</td>\n",
       "    </tr>\n",
       "    <tr>\n",
       "      <th>SAFR</th>\n",
       "      <td>0.0</td>\n",
       "      <td>0.0</td>\n",
       "      <td>108662.0</td>\n",
       "      <td>0.0</td>\n",
       "      <td>0.0</td>\n",
       "      <td>84433.0</td>\n",
       "    </tr>\n",
       "    <tr>\n",
       "      <th>US</th>\n",
       "      <td>0.0</td>\n",
       "      <td>0.0</td>\n",
       "      <td>0.0</td>\n",
       "      <td>0.0</td>\n",
       "      <td>0.0</td>\n",
       "      <td>139498.0</td>\n",
       "    </tr>\n",
       "    <tr>\n",
       "      <th>Russia</th>\n",
       "      <td>0.0</td>\n",
       "      <td>161523.0</td>\n",
       "      <td>22026.0</td>\n",
       "      <td>88838.0</td>\n",
       "      <td>259172.0</td>\n",
       "      <td>328188.0</td>\n",
       "    </tr>\n",
       "    <tr>\n",
       "      <th>Other_exp</th>\n",
       "      <td>0.0</td>\n",
       "      <td>38912.0</td>\n",
       "      <td>99117.0</td>\n",
       "      <td>66078.0</td>\n",
       "      <td>408215.0</td>\n",
       "      <td>0.0</td>\n",
       "    </tr>\n",
       "  </tbody>\n",
       "</table>\n",
       "</div>"
      ],
      "text/plain": [
       "Date         2021-03-10                                                    \n",
       "country_to      Vietnam     Japan     India South Korea     China Other_imp\n",
       "country_from                                                               \n",
       "Indonesia      172537.0       0.0  988234.0    145373.0   36710.0  292211.0\n",
       "Australia           0.0       0.0  117472.0     58736.0       0.0  128486.0\n",
       "SAFR                0.0       0.0  108662.0         0.0       0.0   84433.0\n",
       "US                  0.0       0.0       0.0         0.0       0.0  139498.0\n",
       "Russia              0.0  161523.0   22026.0     88838.0  259172.0  328188.0\n",
       "Other_exp           0.0   38912.0   99117.0     66078.0  408215.0       0.0"
      ]
     },
     "execution_count": 20,
     "metadata": {},
     "output_type": "execute_result"
    }
   ],
   "source": [
    "df_from_to['Coal'][df_from_to['Coal'].index == pandas.to_datetime('2021-03-10')].stack(future_stack=True).fillna(0).T"
   ]
  },
  {
   "cell_type": "code",
   "execution_count": 21,
   "id": "91528cc1-7f34-4c4e-b03a-7a009dd381b2",
   "metadata": {},
   "outputs": [
    {
     "data": {
      "text/html": [
       "<div>\n",
       "<style scoped>\n",
       "    .dataframe tbody tr th:only-of-type {\n",
       "        vertical-align: middle;\n",
       "    }\n",
       "\n",
       "    .dataframe tbody tr th {\n",
       "        vertical-align: top;\n",
       "    }\n",
       "\n",
       "    .dataframe thead tr th {\n",
       "        text-align: left;\n",
       "    }\n",
       "\n",
       "    .dataframe thead tr:last-of-type th {\n",
       "        text-align: right;\n",
       "    }\n",
       "</style>\n",
       "<table border=\"1\" class=\"dataframe\">\n",
       "  <thead>\n",
       "    <tr>\n",
       "      <th>Date</th>\n",
       "      <th colspan=\"6\" halign=\"left\">2021-03-11</th>\n",
       "    </tr>\n",
       "    <tr>\n",
       "      <th>country_to</th>\n",
       "      <th>Bangladesh</th>\n",
       "      <th>Libya</th>\n",
       "      <th>Nigeria</th>\n",
       "      <th>Other_imp</th>\n",
       "      <th>Turkey</th>\n",
       "      <th>Egypt</th>\n",
       "    </tr>\n",
       "    <tr>\n",
       "      <th>country_from</th>\n",
       "      <th></th>\n",
       "      <th></th>\n",
       "      <th></th>\n",
       "      <th></th>\n",
       "      <th></th>\n",
       "      <th></th>\n",
       "    </tr>\n",
       "  </thead>\n",
       "  <tbody>\n",
       "    <tr>\n",
       "      <th>China</th>\n",
       "      <td>0.000000</td>\n",
       "      <td>0.00000</td>\n",
       "      <td>4130.918033</td>\n",
       "      <td>28178.426230</td>\n",
       "      <td>166.262295</td>\n",
       "      <td>0.000000</td>\n",
       "    </tr>\n",
       "    <tr>\n",
       "      <th>India</th>\n",
       "      <td>1.852459</td>\n",
       "      <td>0.00000</td>\n",
       "      <td>0.000000</td>\n",
       "      <td>23918.622951</td>\n",
       "      <td>1331.163934</td>\n",
       "      <td>0.000000</td>\n",
       "    </tr>\n",
       "    <tr>\n",
       "      <th>Japan</th>\n",
       "      <td>0.000000</td>\n",
       "      <td>0.00000</td>\n",
       "      <td>0.000000</td>\n",
       "      <td>676.852459</td>\n",
       "      <td>0.000000</td>\n",
       "      <td>0.000000</td>\n",
       "    </tr>\n",
       "    <tr>\n",
       "      <th>South Korea</th>\n",
       "      <td>0.000000</td>\n",
       "      <td>0.00000</td>\n",
       "      <td>0.000000</td>\n",
       "      <td>6937.114754</td>\n",
       "      <td>26.442623</td>\n",
       "      <td>0.000000</td>\n",
       "    </tr>\n",
       "    <tr>\n",
       "      <th>Vietnam</th>\n",
       "      <td>601.836066</td>\n",
       "      <td>0.00000</td>\n",
       "      <td>0.000000</td>\n",
       "      <td>3599.131148</td>\n",
       "      <td>0.000000</td>\n",
       "      <td>0.000000</td>\n",
       "    </tr>\n",
       "    <tr>\n",
       "      <th>Other_exp</th>\n",
       "      <td>906.229508</td>\n",
       "      <td>2144.42623</td>\n",
       "      <td>1815.819672</td>\n",
       "      <td>0.000000</td>\n",
       "      <td>2711.393443</td>\n",
       "      <td>855.344262</td>\n",
       "    </tr>\n",
       "  </tbody>\n",
       "</table>\n",
       "</div>"
      ],
      "text/plain": [
       "Date          2021-03-11                                                      \\\n",
       "country_to    Bangladesh       Libya      Nigeria     Other_imp       Turkey   \n",
       "country_from                                                                   \n",
       "China           0.000000     0.00000  4130.918033  28178.426230   166.262295   \n",
       "India           1.852459     0.00000     0.000000  23918.622951  1331.163934   \n",
       "Japan           0.000000     0.00000     0.000000    676.852459     0.000000   \n",
       "South Korea     0.000000     0.00000     0.000000   6937.114754    26.442623   \n",
       "Vietnam       601.836066     0.00000     0.000000   3599.131148     0.000000   \n",
       "Other_exp     906.229508  2144.42623  1815.819672      0.000000  2711.393443   \n",
       "\n",
       "Date                      \n",
       "country_to         Egypt  \n",
       "country_from              \n",
       "China           0.000000  \n",
       "India           0.000000  \n",
       "Japan           0.000000  \n",
       "South Korea     0.000000  \n",
       "Vietnam         0.000000  \n",
       "Other_exp     855.344262  "
      ]
     },
     "execution_count": 21,
     "metadata": {},
     "output_type": "execute_result"
    }
   ],
   "source": [
    "text[text.index==pandas.to_datetime('2021-03-11')].stack(future_stack=True).fillna(0).T"
   ]
  },
  {
   "cell_type": "markdown",
   "id": "c2f19877-95ef-473a-af0c-8097607f2c6c",
   "metadata": {},
   "source": []
  },
  {
   "cell_type": "markdown",
   "id": "19f17470-3eb0-4738-a352-ae9823fbcc13",
   "metadata": {},
   "source": [
    "## regression Indonesia to India"
   ]
  },
  {
   "cell_type": "markdown",
   "id": "72abd8c4-a1d7-48d2-83fd-35f5c2af371a",
   "metadata": {},
   "source": [
    "## regression Indonesia to India"
   ]
  },
  {
   "cell_type": "code",
   "execution_count": 64,
   "id": "c45bfeb7-7ba7-4efc-9aff-342c6907054a",
   "metadata": {},
   "outputs": [
    {
     "data": {
      "text/html": [
       "<div>\n",
       "<style scoped>\n",
       "    .dataframe tbody tr th:only-of-type {\n",
       "        vertical-align: middle;\n",
       "    }\n",
       "\n",
       "    .dataframe tbody tr th {\n",
       "        vertical-align: top;\n",
       "    }\n",
       "\n",
       "    .dataframe thead th {\n",
       "        text-align: right;\n",
       "    }\n",
       "</style>\n",
       "<table border=\"1\" class=\"dataframe\">\n",
       "  <thead>\n",
       "    <tr style=\"text-align: right;\">\n",
       "      <th></th>\n",
       "      <th>y</th>\n",
       "      <th>x0</th>\n",
       "      <th>x1</th>\n",
       "      <th>x2</th>\n",
       "      <th>x3</th>\n",
       "      <th>x4</th>\n",
       "    </tr>\n",
       "    <tr>\n",
       "      <th>Date</th>\n",
       "      <th></th>\n",
       "      <th></th>\n",
       "      <th></th>\n",
       "      <th></th>\n",
       "      <th></th>\n",
       "      <th></th>\n",
       "    </tr>\n",
       "  </thead>\n",
       "  <tbody>\n",
       "    <tr>\n",
       "      <th>2015-01-10</th>\n",
       "      <td>17721.818182</td>\n",
       "      <td>1.271189e+06</td>\n",
       "      <td>750474.181818</td>\n",
       "      <td>36361.545455</td>\n",
       "      <td>108143.636364</td>\n",
       "      <td>131225.000000</td>\n",
       "    </tr>\n",
       "    <tr>\n",
       "      <th>2015-01-11</th>\n",
       "      <td>3203.090909</td>\n",
       "      <td>1.107420e+06</td>\n",
       "      <td>659522.181818</td>\n",
       "      <td>25121.727273</td>\n",
       "      <td>97592.090909</td>\n",
       "      <td>97046.727273</td>\n",
       "    </tr>\n",
       "    <tr>\n",
       "      <th>2015-01-12</th>\n",
       "      <td>3203.090909</td>\n",
       "      <td>1.253030e+06</td>\n",
       "      <td>658036.818182</td>\n",
       "      <td>25121.727273</td>\n",
       "      <td>124841.363636</td>\n",
       "      <td>93778.545455</td>\n",
       "    </tr>\n",
       "    <tr>\n",
       "      <th>2015-01-13</th>\n",
       "      <td>3203.090909</td>\n",
       "      <td>1.392940e+06</td>\n",
       "      <td>632004.909091</td>\n",
       "      <td>25121.727273</td>\n",
       "      <td>138038.545455</td>\n",
       "      <td>75391.272727</td>\n",
       "    </tr>\n",
       "    <tr>\n",
       "      <th>2015-01-14</th>\n",
       "      <td>6849.545455</td>\n",
       "      <td>1.514026e+06</td>\n",
       "      <td>687576.181818</td>\n",
       "      <td>25121.727273</td>\n",
       "      <td>138038.545455</td>\n",
       "      <td>79477.363636</td>\n",
       "    </tr>\n",
       "    <tr>\n",
       "      <th>...</th>\n",
       "      <td>...</td>\n",
       "      <td>...</td>\n",
       "      <td>...</td>\n",
       "      <td>...</td>\n",
       "      <td>...</td>\n",
       "      <td>...</td>\n",
       "    </tr>\n",
       "    <tr>\n",
       "      <th>2025-04-08</th>\n",
       "      <td>48272.727273</td>\n",
       "      <td>1.035054e+06</td>\n",
       "      <td>508396.363636</td>\n",
       "      <td>230954.636364</td>\n",
       "      <td>146181.818182</td>\n",
       "      <td>105818.181818</td>\n",
       "    </tr>\n",
       "    <tr>\n",
       "      <th>2025-04-09</th>\n",
       "      <td>55091.000000</td>\n",
       "      <td>1.143782e+06</td>\n",
       "      <td>620396.454545</td>\n",
       "      <td>264136.454545</td>\n",
       "      <td>205818.181818</td>\n",
       "      <td>119636.363636</td>\n",
       "    </tr>\n",
       "    <tr>\n",
       "      <th>2025-04-10</th>\n",
       "      <td>43727.363636</td>\n",
       "      <td>1.220850e+06</td>\n",
       "      <td>731305.545455</td>\n",
       "      <td>274681.909091</td>\n",
       "      <td>229454.545455</td>\n",
       "      <td>125000.000000</td>\n",
       "    </tr>\n",
       "    <tr>\n",
       "      <th>2025-04-11</th>\n",
       "      <td>44181.909091</td>\n",
       "      <td>1.165577e+06</td>\n",
       "      <td>759487.363636</td>\n",
       "      <td>247863.727273</td>\n",
       "      <td>231000.000000</td>\n",
       "      <td>122454.545455</td>\n",
       "    </tr>\n",
       "    <tr>\n",
       "      <th>2025-04-12</th>\n",
       "      <td>44181.909091</td>\n",
       "      <td>9.271136e+05</td>\n",
       "      <td>672032.727273</td>\n",
       "      <td>207954.636364</td>\n",
       "      <td>199545.454545</td>\n",
       "      <td>117181.818182</td>\n",
       "    </tr>\n",
       "  </tbody>\n",
       "</table>\n",
       "<p>3746 rows × 6 columns</p>\n",
       "</div>"
      ],
      "text/plain": [
       "                       y            x0             x1             x2  \\\n",
       "Date                                                                   \n",
       "2015-01-10  17721.818182  1.271189e+06  750474.181818   36361.545455   \n",
       "2015-01-11   3203.090909  1.107420e+06  659522.181818   25121.727273   \n",
       "2015-01-12   3203.090909  1.253030e+06  658036.818182   25121.727273   \n",
       "2015-01-13   3203.090909  1.392940e+06  632004.909091   25121.727273   \n",
       "2015-01-14   6849.545455  1.514026e+06  687576.181818   25121.727273   \n",
       "...                  ...           ...            ...            ...   \n",
       "2025-04-08  48272.727273  1.035054e+06  508396.363636  230954.636364   \n",
       "2025-04-09  55091.000000  1.143782e+06  620396.454545  264136.454545   \n",
       "2025-04-10  43727.363636  1.220850e+06  731305.545455  274681.909091   \n",
       "2025-04-11  44181.909091  1.165577e+06  759487.363636  247863.727273   \n",
       "2025-04-12  44181.909091  9.271136e+05  672032.727273  207954.636364   \n",
       "\n",
       "                       x3             x4  \n",
       "Date                                      \n",
       "2015-01-10  108143.636364  131225.000000  \n",
       "2015-01-11   97592.090909   97046.727273  \n",
       "2015-01-12  124841.363636   93778.545455  \n",
       "2015-01-13  138038.545455   75391.272727  \n",
       "2015-01-14  138038.545455   79477.363636  \n",
       "...                   ...            ...  \n",
       "2025-04-08  146181.818182  105818.181818  \n",
       "2025-04-09  205818.181818  119636.363636  \n",
       "2025-04-10  229454.545455  125000.000000  \n",
       "2025-04-11  231000.000000  122454.545455  \n",
       "2025-04-12  199545.454545  117181.818182  \n",
       "\n",
       "[3746 rows x 6 columns]"
      ]
     },
     "execution_count": 64,
     "metadata": {},
     "output_type": "execute_result"
    }
   ],
   "source": [
    "import pandas as pd\n",
    "import statsmodels.api as sm\n",
    "from sklearn.model_selection import train_test_split\n",
    "from IPython.display import display, Math\n",
    "\n",
    " \n",
    "\n",
    "# Préparation de phi_point\n",
    "phi_point = df_from_to['Coal'].copy().T.groupby(level=1).sum().T\n",
    "phi_point.drop('Other_imp', axis=1, inplace=True)\n",
    "phi_point = phi_point.shift(-30).rolling(11, center=True).mean()\n",
    "\n",
    "# Préparation de Q_i_j_phi_i\n",
    "Q_i_j_phi_i = df_from_to['Coal'].copy().rolling(11, center=True).mean()\n",
    "Q_i_j_phi_i.dropna(inplace=True)\n",
    "\n",
    "# Fusion dans un DataFrame\n",
    "df_regressio = pd.concat(\n",
    "    [Q_i_j_phi_i[('Indonesia', 'Japan')], phi_point],\n",
    "    axis=1\n",
    ")\n",
    "df_regressio.dropna(inplace=True)\n",
    "\n",
    "# Dictionnaire de renommage\n",
    "renoms = {\n",
    "  (\"Indonesia\", \"Japan\"):'y',\t\n",
    "    \"China\": \"x1\",\n",
    "    \"India\": \"x0\",\n",
    "    \"Japan\": \"x3\",\n",
    "    \"South Korea\": \"x4\",\n",
    "    \"Vietnam\": \"x2\"\n",
    "}\n",
    "\n",
    "# Application du renommage\n",
    "df_regressio.columns = [renoms.get(col, col) for col in df_regressio.columns]\n",
    "\n",
    "\n",
    "\n",
    "# Exemple avec tes colonnes actuelles\n",
    "cols = df_regressio.columns.tolist()\n",
    "\n",
    "# Séparer y et les colonnes x\n",
    "y_col = ['y']\n",
    "x_cols = [col for col in cols if col.startswith('x')]\n",
    "\n",
    "# Trier les colonnes x par leur numéro\n",
    "x_cols_sorted = sorted(x_cols, key=lambda x: int(x[1:]))\n",
    "\n",
    "# Nouvelle liste de colonnes avec y en premier puis x triés\n",
    "new_cols = y_col + x_cols_sorted\n",
    "\n",
    "# Réordonner le dataframe\n",
    "df_regressio = df_regressio[new_cols]\n",
    "\n",
    "df_regressio\n"
   ]
  },
  {
   "cell_type": "code",
   "execution_count": 48,
   "id": "98bb9862-25ea-4d52-bd65-2b31ee36eb93",
   "metadata": {},
   "outputs": [
    {
     "data": {
      "text/latex": [
       "$\\displaystyle \\frac{a}{b}$"
      ],
      "text/plain": [
       "<IPython.core.display.Math object>"
      ]
     },
     "metadata": {},
     "output_type": "display_data"
    }
   ],
   "source": [
    "from IPython.display import display, Math\n",
    "\n",
    "display(Math(r\"\\frac{a}{b}\"))  # Affiche la formule LaTeX a/b joliment\n"
   ]
  },
  {
   "cell_type": "code",
   "execution_count": 21,
   "id": "1a2fdb27-633c-431d-8643-6a414048d949",
   "metadata": {},
   "outputs": [
    {
     "name": "stdout",
     "output_type": "stream",
     "text": [
      "country_to\n",
      "India          455005.009245\n",
      "Japan           31024.816810\n",
      "China          451499.730090\n",
      "Vietnam         71916.303833\n",
      "South Korea     41319.371196\n",
      "Other_imp      323216.377696\n",
      "dtype: float64\n",
      "country_to  China  India  Japan  South Korea  Vietnam\n",
      "Date                                                 \n",
      "2015-01-05    NaN    NaN    NaN          NaN      NaN\n",
      "2015-01-06    NaN    NaN    NaN          NaN      NaN\n",
      "2015-01-07    NaN    NaN    NaN          NaN      NaN\n",
      "2015-01-08    NaN    NaN    NaN          NaN      NaN\n",
      "2015-01-09    NaN    NaN    NaN          NaN      NaN\n",
      "...           ...    ...    ...          ...      ...\n",
      "2025-05-13    NaN    NaN    NaN          NaN      NaN\n",
      "2025-05-14    NaN    NaN    NaN          NaN      NaN\n",
      "2025-05-15    NaN    NaN    NaN          NaN      NaN\n",
      "2025-05-16    NaN    NaN    NaN          NaN      NaN\n",
      "2025-05-17    NaN    NaN    NaN          NaN      NaN\n",
      "\n",
      "[3786 rows x 5 columns]\n",
      "const          6938.638256\n",
      "China             0.011898\n",
      "India             0.005961\n",
      "Japan             0.020357\n",
      "South Korea       0.036057\n",
      "Vietnam           0.010943\n",
      "dtype: float64\n"
     ]
    }
   ],
   "source": [
    "import statsmodels.api as sm\n",
    "from sklearn.model_selection import train_test_split\n",
    "\n",
    "\n",
    "phi_point = df_from_to['Coal'].copy().T.groupby(level=1).sum().T\n",
    "phi_point.drop('Other_imp', axis=1, inplace=True)\n",
    "phi_point=phi_point.shift(-30).rolling(11, center=True).mean()\n",
    "\n",
    "\n",
    "Q_i_j_phi_i=df_from_to['Coal'].copy().rolling(11, center=True).mean()\n",
    "Q_i_j_phi_i.dropna(inplace=True)\n",
    "\n",
    "print(Q_i_j_phi_i[('Indonesia')].mean())\n",
    "#print(Q_i_j_phi_i[(i, j)])\n",
    "#phi_point= -phi_point\n",
    "df_regressio=pandas.concat([Q_i_j_phi_i[('Indonesia', 'Japan')], phi_point], axis=1)\n",
    "df_regressio.dropna(inplace=True)\n",
    "# 1. Définir la cible et les variables explicatives\n",
    "y = df_regressio.iloc[:, 0]\n",
    "X = df_regressio.iloc[:, 1:]\n",
    "# 2. Ajouter une constante pour l'intercept (obligatoire avec statsmodels)\n",
    "X = sm.add_constant(X)\n",
    "# 3. (Optionnel) Séparer train/test\n",
    "X_train, X_test, y_train, y_test = train_test_split(X, y, test_size=0.2, random_state=42)\n",
    "# 4. Définir le modèle OLS et l'ajuster\n",
    "model = sm.OLS(y_train, X_train)\n",
    "results = model.fit()\n",
    "print(phi_point)\n",
    "print(results.params)"
   ]
  },
  {
   "cell_type": "code",
   "execution_count": 22,
   "id": "053f820f-ccf2-475b-9a21-302feba025bf",
   "metadata": {},
   "outputs": [],
   "source": [
    "from collections import namedtuple\n",
    "\n",
    "DataSet = namedtuple('DataSet', ['from_to', 'phi_point'])\n",
    "\n",
    "def slice_of(ds, date_from, date_to):\n",
    "    phi_point_temp = ds.phi_point[date_from:date_to]\n",
    "    from_to_temp = {k: v[date_from:date_to] for k, v in ds.from_to.items()}\n",
    "    return DataSet(from_to=from_to_temp, phi_point=phi_point_temp)"
   ]
  },
  {
   "cell_type": "code",
   "execution_count": 23,
   "id": "d433b2f4-388e-42fd-9ce9-6d3539b05cd3",
   "metadata": {},
   "outputs": [
    {
     "data": {
      "text/html": [
       "<div>\n",
       "<style scoped>\n",
       "    .dataframe tbody tr th:only-of-type {\n",
       "        vertical-align: middle;\n",
       "    }\n",
       "\n",
       "    .dataframe tbody tr th {\n",
       "        vertical-align: top;\n",
       "    }\n",
       "\n",
       "    .dataframe thead th {\n",
       "        text-align: right;\n",
       "    }\n",
       "</style>\n",
       "<table border=\"1\" class=\"dataframe\">\n",
       "  <thead>\n",
       "    <tr style=\"text-align: right;\">\n",
       "      <th>country_to</th>\n",
       "      <th>China</th>\n",
       "      <th>India</th>\n",
       "      <th>Japan</th>\n",
       "      <th>South Korea</th>\n",
       "      <th>Vietnam</th>\n",
       "    </tr>\n",
       "    <tr>\n",
       "      <th>Date</th>\n",
       "      <th></th>\n",
       "      <th></th>\n",
       "      <th></th>\n",
       "      <th></th>\n",
       "      <th></th>\n",
       "    </tr>\n",
       "  </thead>\n",
       "  <tbody>\n",
       "    <tr>\n",
       "      <th>2015-01-05</th>\n",
       "      <td>NaN</td>\n",
       "      <td>NaN</td>\n",
       "      <td>NaN</td>\n",
       "      <td>NaN</td>\n",
       "      <td>NaN</td>\n",
       "    </tr>\n",
       "    <tr>\n",
       "      <th>2015-01-06</th>\n",
       "      <td>NaN</td>\n",
       "      <td>NaN</td>\n",
       "      <td>NaN</td>\n",
       "      <td>NaN</td>\n",
       "      <td>NaN</td>\n",
       "    </tr>\n",
       "    <tr>\n",
       "      <th>2015-01-07</th>\n",
       "      <td>NaN</td>\n",
       "      <td>NaN</td>\n",
       "      <td>NaN</td>\n",
       "      <td>NaN</td>\n",
       "      <td>NaN</td>\n",
       "    </tr>\n",
       "    <tr>\n",
       "      <th>2015-01-08</th>\n",
       "      <td>NaN</td>\n",
       "      <td>NaN</td>\n",
       "      <td>NaN</td>\n",
       "      <td>NaN</td>\n",
       "      <td>NaN</td>\n",
       "    </tr>\n",
       "    <tr>\n",
       "      <th>2015-01-09</th>\n",
       "      <td>NaN</td>\n",
       "      <td>NaN</td>\n",
       "      <td>NaN</td>\n",
       "      <td>NaN</td>\n",
       "      <td>NaN</td>\n",
       "    </tr>\n",
       "    <tr>\n",
       "      <th>...</th>\n",
       "      <td>...</td>\n",
       "      <td>...</td>\n",
       "      <td>...</td>\n",
       "      <td>...</td>\n",
       "      <td>...</td>\n",
       "    </tr>\n",
       "    <tr>\n",
       "      <th>2025-05-13</th>\n",
       "      <td>NaN</td>\n",
       "      <td>NaN</td>\n",
       "      <td>NaN</td>\n",
       "      <td>NaN</td>\n",
       "      <td>NaN</td>\n",
       "    </tr>\n",
       "    <tr>\n",
       "      <th>2025-05-14</th>\n",
       "      <td>NaN</td>\n",
       "      <td>NaN</td>\n",
       "      <td>NaN</td>\n",
       "      <td>NaN</td>\n",
       "      <td>NaN</td>\n",
       "    </tr>\n",
       "    <tr>\n",
       "      <th>2025-05-15</th>\n",
       "      <td>NaN</td>\n",
       "      <td>NaN</td>\n",
       "      <td>NaN</td>\n",
       "      <td>NaN</td>\n",
       "      <td>NaN</td>\n",
       "    </tr>\n",
       "    <tr>\n",
       "      <th>2025-05-16</th>\n",
       "      <td>NaN</td>\n",
       "      <td>NaN</td>\n",
       "      <td>NaN</td>\n",
       "      <td>NaN</td>\n",
       "      <td>NaN</td>\n",
       "    </tr>\n",
       "    <tr>\n",
       "      <th>2025-05-17</th>\n",
       "      <td>NaN</td>\n",
       "      <td>NaN</td>\n",
       "      <td>NaN</td>\n",
       "      <td>NaN</td>\n",
       "      <td>NaN</td>\n",
       "    </tr>\n",
       "  </tbody>\n",
       "</table>\n",
       "<p>3786 rows × 5 columns</p>\n",
       "</div>"
      ],
      "text/plain": [
       "country_to  China  India  Japan  South Korea  Vietnam\n",
       "Date                                                 \n",
       "2015-01-05    NaN    NaN    NaN          NaN      NaN\n",
       "2015-01-06    NaN    NaN    NaN          NaN      NaN\n",
       "2015-01-07    NaN    NaN    NaN          NaN      NaN\n",
       "2015-01-08    NaN    NaN    NaN          NaN      NaN\n",
       "2015-01-09    NaN    NaN    NaN          NaN      NaN\n",
       "...           ...    ...    ...          ...      ...\n",
       "2025-05-13    NaN    NaN    NaN          NaN      NaN\n",
       "2025-05-14    NaN    NaN    NaN          NaN      NaN\n",
       "2025-05-15    NaN    NaN    NaN          NaN      NaN\n",
       "2025-05-16    NaN    NaN    NaN          NaN      NaN\n",
       "2025-05-17    NaN    NaN    NaN          NaN      NaN\n",
       "\n",
       "[3786 rows x 5 columns]"
      ]
     },
     "execution_count": 23,
     "metadata": {},
     "output_type": "execute_result"
    }
   ],
   "source": [
    "data_coal = DataSet(from_to=df_from_to, phi_point=phi_point)\n",
    "data_coal.from_to['Coal']\n",
    "data_coal.phi_point"
   ]
  },
  {
   "cell_type": "code",
   "execution_count": 24,
   "id": "40a5b6ad-9564-4be9-9672-b54c80830748",
   "metadata": {},
   "outputs": [
    {
     "data": {
      "text/plain": [
       "const                    6938.638256\n",
       "phi_point_China             0.011898\n",
       "phi_point_India             0.005961\n",
       "phi_point_Japan             0.020357\n",
       "phi_point_South Korea       0.036057\n",
       "phi_point_Vietnam           0.010943\n",
       "dtype: float64"
      ]
     },
     "execution_count": 24,
     "metadata": {},
     "output_type": "execute_result"
    }
   ],
   "source": [
    "results.params.rename(index={name: f\"phi_point_{name}\" for name in results.params.index if name!='const'})"
   ]
  },
  {
   "cell_type": "code",
   "execution_count": 25,
   "id": "af9ac2e6-0398-4e78-bb67-bcdd8e78c32f",
   "metadata": {},
   "outputs": [
    {
     "data": {
      "text/html": [
       "<table class=\"simpletable\">\n",
       "<caption>OLS Regression Results</caption>\n",
       "<tr>\n",
       "  <th>Dep. Variable:</th>    <td>('Indonesia', 'Japan')</td> <th>  R-squared:         </th> <td>   0.177</td> \n",
       "</tr>\n",
       "<tr>\n",
       "  <th>Model:</th>                      <td>OLS</td>          <th>  Adj. R-squared:    </th> <td>   0.176</td> \n",
       "</tr>\n",
       "<tr>\n",
       "  <th>Method:</th>                <td>Least Squares</td>     <th>  F-statistic:       </th> <td>   128.6</td> \n",
       "</tr>\n",
       "<tr>\n",
       "  <th>Date:</th>                <td>Mon, 11 Aug 2025</td>    <th>  Prob (F-statistic):</th> <td>1.19e-123</td>\n",
       "</tr>\n",
       "<tr>\n",
       "  <th>Time:</th>                    <td>12:55:01</td>        <th>  Log-Likelihood:    </th> <td> -34039.</td> \n",
       "</tr>\n",
       "<tr>\n",
       "  <th>No. Observations:</th>         <td>  2996</td>         <th>  AIC:               </th> <td>6.809e+04</td>\n",
       "</tr>\n",
       "<tr>\n",
       "  <th>Df Residuals:</th>             <td>  2990</td>         <th>  BIC:               </th> <td>6.813e+04</td>\n",
       "</tr>\n",
       "<tr>\n",
       "  <th>Df Model:</th>                 <td>     5</td>         <th>                     </th>     <td> </td>    \n",
       "</tr>\n",
       "<tr>\n",
       "  <th>Covariance Type:</th>         <td>nonrobust</td>       <th>                     </th>     <td> </td>    \n",
       "</tr>\n",
       "</table>\n",
       "<table class=\"simpletable\">\n",
       "<tr>\n",
       "       <td></td>          <th>coef</th>     <th>std err</th>      <th>t</th>      <th>P>|t|</th>  <th>[0.025</th>    <th>0.975]</th>  \n",
       "</tr>\n",
       "<tr>\n",
       "  <th>const</th>       <td> 6938.6383</td> <td> 1317.228</td> <td>    5.268</td> <td> 0.000</td> <td> 4355.873</td> <td> 9521.404</td>\n",
       "</tr>\n",
       "<tr>\n",
       "  <th>China</th>       <td>    0.0119</td> <td>    0.001</td> <td>    8.810</td> <td> 0.000</td> <td>    0.009</td> <td>    0.015</td>\n",
       "</tr>\n",
       "<tr>\n",
       "  <th>India</th>       <td>    0.0060</td> <td>    0.001</td> <td>    4.029</td> <td> 0.000</td> <td>    0.003</td> <td>    0.009</td>\n",
       "</tr>\n",
       "<tr>\n",
       "  <th>Japan</th>       <td>    0.0204</td> <td>    0.007</td> <td>    3.012</td> <td> 0.003</td> <td>    0.007</td> <td>    0.034</td>\n",
       "</tr>\n",
       "<tr>\n",
       "  <th>South Korea</th> <td>    0.0361</td> <td>    0.009</td> <td>    3.930</td> <td> 0.000</td> <td>    0.018</td> <td>    0.054</td>\n",
       "</tr>\n",
       "<tr>\n",
       "  <th>Vietnam</th>     <td>    0.0109</td> <td>    0.005</td> <td>    2.385</td> <td> 0.017</td> <td>    0.002</td> <td>    0.020</td>\n",
       "</tr>\n",
       "</table>\n",
       "<table class=\"simpletable\">\n",
       "<tr>\n",
       "  <th>Omnibus:</th>       <td>787.286</td> <th>  Durbin-Watson:     </th> <td>   2.036</td>\n",
       "</tr>\n",
       "<tr>\n",
       "  <th>Prob(Omnibus):</th> <td> 0.000</td>  <th>  Jarque-Bera (JB):  </th> <td>2358.203</td>\n",
       "</tr>\n",
       "<tr>\n",
       "  <th>Skew:</th>          <td> 1.344</td>  <th>  Prob(JB):          </th> <td>    0.00</td>\n",
       "</tr>\n",
       "<tr>\n",
       "  <th>Kurtosis:</th>      <td> 6.416</td>  <th>  Cond. No.          </th> <td>4.92e+06</td>\n",
       "</tr>\n",
       "</table><br/><br/>Notes:<br/>[1] Standard Errors assume that the covariance matrix of the errors is correctly specified.<br/>[2] The condition number is large, 4.92e+06. This might indicate that there are<br/>strong multicollinearity or other numerical problems."
      ],
      "text/latex": [
       "\\begin{center}\n",
       "\\begin{tabular}{lclc}\n",
       "\\toprule\n",
       "\\textbf{Dep. Variable:}    & ('Indonesia', 'Japan') & \\textbf{  R-squared:         } &     0.177   \\\\\n",
       "\\textbf{Model:}            &          OLS           & \\textbf{  Adj. R-squared:    } &     0.176   \\\\\n",
       "\\textbf{Method:}           &     Least Squares      & \\textbf{  F-statistic:       } &     128.6   \\\\\n",
       "\\textbf{Date:}             &    Mon, 11 Aug 2025    & \\textbf{  Prob (F-statistic):} & 1.19e-123   \\\\\n",
       "\\textbf{Time:}             &        12:55:01        & \\textbf{  Log-Likelihood:    } &   -34039.   \\\\\n",
       "\\textbf{No. Observations:} &           2996         & \\textbf{  AIC:               } & 6.809e+04   \\\\\n",
       "\\textbf{Df Residuals:}     &           2990         & \\textbf{  BIC:               } & 6.813e+04   \\\\\n",
       "\\textbf{Df Model:}         &              5         & \\textbf{                     } &             \\\\\n",
       "\\textbf{Covariance Type:}  &       nonrobust        & \\textbf{                     } &             \\\\\n",
       "\\bottomrule\n",
       "\\end{tabular}\n",
       "\\begin{tabular}{lcccccc}\n",
       "                     & \\textbf{coef} & \\textbf{std err} & \\textbf{t} & \\textbf{P$> |$t$|$} & \\textbf{[0.025} & \\textbf{0.975]}  \\\\\n",
       "\\midrule\n",
       "\\textbf{const}       &    6938.6383  &     1317.228     &     5.268  &         0.000        &     4355.873    &     9521.404     \\\\\n",
       "\\textbf{China}       &       0.0119  &        0.001     &     8.810  &         0.000        &        0.009    &        0.015     \\\\\n",
       "\\textbf{India}       &       0.0060  &        0.001     &     4.029  &         0.000        &        0.003    &        0.009     \\\\\n",
       "\\textbf{Japan}       &       0.0204  &        0.007     &     3.012  &         0.003        &        0.007    &        0.034     \\\\\n",
       "\\textbf{South Korea} &       0.0361  &        0.009     &     3.930  &         0.000        &        0.018    &        0.054     \\\\\n",
       "\\textbf{Vietnam}     &       0.0109  &        0.005     &     2.385  &         0.017        &        0.002    &        0.020     \\\\\n",
       "\\bottomrule\n",
       "\\end{tabular}\n",
       "\\begin{tabular}{lclc}\n",
       "\\textbf{Omnibus:}       & 787.286 & \\textbf{  Durbin-Watson:     } &    2.036  \\\\\n",
       "\\textbf{Prob(Omnibus):} &   0.000 & \\textbf{  Jarque-Bera (JB):  } & 2358.203  \\\\\n",
       "\\textbf{Skew:}          &   1.344 & \\textbf{  Prob(JB):          } &     0.00  \\\\\n",
       "\\textbf{Kurtosis:}      &   6.416 & \\textbf{  Cond. No.          } & 4.92e+06  \\\\\n",
       "\\bottomrule\n",
       "\\end{tabular}\n",
       "%\\caption{OLS Regression Results}\n",
       "\\end{center}\n",
       "\n",
       "Notes: \\newline\n",
       " [1] Standard Errors assume that the covariance matrix of the errors is correctly specified. \\newline\n",
       " [2] The condition number is large, 4.92e+06. This might indicate that there are \\newline\n",
       " strong multicollinearity or other numerical problems."
      ],
      "text/plain": [
       "<class 'statsmodels.iolib.summary.Summary'>\n",
       "\"\"\"\n",
       "                              OLS Regression Results                              \n",
       "==================================================================================\n",
       "Dep. Variable:     ('Indonesia', 'Japan')   R-squared:                       0.177\n",
       "Model:                                OLS   Adj. R-squared:                  0.176\n",
       "Method:                     Least Squares   F-statistic:                     128.6\n",
       "Date:                    Mon, 11 Aug 2025   Prob (F-statistic):          1.19e-123\n",
       "Time:                            12:55:01   Log-Likelihood:                -34039.\n",
       "No. Observations:                    2996   AIC:                         6.809e+04\n",
       "Df Residuals:                        2990   BIC:                         6.813e+04\n",
       "Df Model:                               5                                         \n",
       "Covariance Type:                nonrobust                                         \n",
       "===============================================================================\n",
       "                  coef    std err          t      P>|t|      [0.025      0.975]\n",
       "-------------------------------------------------------------------------------\n",
       "const        6938.6383   1317.228      5.268      0.000    4355.873    9521.404\n",
       "China           0.0119      0.001      8.810      0.000       0.009       0.015\n",
       "India           0.0060      0.001      4.029      0.000       0.003       0.009\n",
       "Japan           0.0204      0.007      3.012      0.003       0.007       0.034\n",
       "South Korea     0.0361      0.009      3.930      0.000       0.018       0.054\n",
       "Vietnam         0.0109      0.005      2.385      0.017       0.002       0.020\n",
       "==============================================================================\n",
       "Omnibus:                      787.286   Durbin-Watson:                   2.036\n",
       "Prob(Omnibus):                  0.000   Jarque-Bera (JB):             2358.203\n",
       "Skew:                           1.344   Prob(JB):                         0.00\n",
       "Kurtosis:                       6.416   Cond. No.                     4.92e+06\n",
       "==============================================================================\n",
       "\n",
       "Notes:\n",
       "[1] Standard Errors assume that the covariance matrix of the errors is correctly specified.\n",
       "[2] The condition number is large, 4.92e+06. This might indicate that there are\n",
       "strong multicollinearity or other numerical problems.\n",
       "\"\"\""
      ]
     },
     "execution_count": 25,
     "metadata": {},
     "output_type": "execute_result"
    }
   ],
   "source": [
    "results.summary()"
   ]
  },
  {
   "cell_type": "markdown",
   "id": "34dcb829-e471-4780-a894-a80a1924d37f",
   "metadata": {},
   "source": [
    "## function for Linear Regression"
   ]
  },
  {
   "cell_type": "code",
   "execution_count": 26,
   "id": "59de1ed4-1e7f-45a6-bb1a-3f56d6fece93",
   "metadata": {},
   "outputs": [],
   "source": [
    "def df_regression(i,j,good):\n",
    "    if(j in list(df_from_to[good].loc[:, i].columns)):\n",
    "        Q_i_j_phi_i=df_from_to[good].copy().rolling(11, center=True).mean()\n",
    "        Q_i_j_phi_i.dropna(inplace=True)\n",
    "        \n",
    "        #print(Q_i_j_phi_i[(i, j)])\n",
    "        #phi_point= -phi_point\n",
    "        df_regressio=pandas.concat([Q_i_j_phi_i[(i, j)], phi_point], axis=1)\n",
    "        df_regressio.dropna(inplace=True)\n",
    "        # 1. Définir la cible et les variables explicatives\n",
    "        y = df_regressio.iloc[:, 0]\n",
    "        X = df_regressio.iloc[:, 1:]\n",
    "        # 2. Ajouter une constante pour l'intercept (obligatoire avec statsmodels)\n",
    "        X = sm.add_constant(X)\n",
    "        # 3. (Optionnel) Séparer train/test\n",
    "        X_train, X_test, y_train, y_test = train_test_split(X, y, test_size=0.2, random_state=42)\n",
    "        # 4. Définir le modèle OLS et l'ajuster\n",
    "        model = sm.OLS(y_train, X_train)\n",
    "        results = model.fit()\n",
    "        \n",
    "        \n",
    "        return [i,j,good]+ results.params.tolist()+[np.sqrt(results.mse_model)]\n",
    "    else:\n",
    "        \n",
    "        return [i,j,good,0.0,0.0,0.0,0.0,0.0,0.0,0.0]\n"
   ]
  },
  {
   "cell_type": "code",
   "execution_count": 27,
   "id": "4a3ba142-8950-4426-a027-d66c302e21f9",
   "metadata": {},
   "outputs": [],
   "source": [
    "\n",
    "def df_regression_col(i,j,good,keep_all=True,dataset=data_coal):\n",
    "    if(j in list(data_coal.from_to[good].loc[:, i].columns)):\n",
    "        Q_i_j_phi_i=data_coal.from_to[good].copy().rolling(11, center=True).mean()\n",
    "        Q_i_j_phi_i.dropna(inplace=True)\n",
    "        \n",
    "        #print(Q_i_j_phi_i[(i, j)])\n",
    "        #phi_point= -phi_point\n",
    "        if keep_all:\n",
    "            df_regressio=pandas.concat([Q_i_j_phi_i[(i, j)], data_coal.phi_point], axis=1)\n",
    "        else:\n",
    "            df_regressio=pandas.concat([Q_i_j_phi_i[(i, j)], data_coal.phi_point[j]], axis=1)\n",
    "        df_regressio.dropna(inplace=True)\n",
    "        # 1. Définir la cible et les variables explicatives\n",
    "        y = df_regressio.iloc[:, 0]\n",
    "        X = df_regressio.iloc[:, 1:]\n",
    "        # 2. Ajouter une constante pour l'intercept (obligatoire avec statsmodels)\n",
    "        X = sm.add_constant(X)\n",
    "        # 3. (Optionnel) Séparer train/test\n",
    "        X_train, X_test, y_train, y_test = train_test_split(X, y, test_size=0.2, random_state=42)\n",
    "        # 4. Définir le modèle OLS et l'ajuster\n",
    "        model = sm.OLS(y_train, X_train)\n",
    "        results = model.fit()\n",
    "\n",
    "        coefs = results.params.rename(index={name: f\"phi_point_{name}\" for name in results.params.index if name!='const'})\n",
    "\n",
    "        \n",
    "        return {'country_from': i, 'country_to': j, 'good_n': good} | coefs.to_dict() | {'Residus': np.sqrt(results.mse_model)}\n",
    "    else:\n",
    "        \n",
    "        return {'country_from': i, 'country_to': j, 'good_n': good}\n"
   ]
  },
  {
   "cell_type": "markdown",
   "id": "1a083606-6b4d-4a69-aab9-aee44e055c11",
   "metadata": {},
   "source": [
    "## rangement des données dans un df "
   ]
  },
  {
   "cell_type": "code",
   "execution_count": 28,
   "id": "997698f7-bf3f-4df3-b80c-3258990a9b47",
   "metadata": {},
   "outputs": [
    {
     "data": {
      "text/html": [
       "<div>\n",
       "<style scoped>\n",
       "    .dataframe tbody tr th:only-of-type {\n",
       "        vertical-align: middle;\n",
       "    }\n",
       "\n",
       "    .dataframe tbody tr th {\n",
       "        vertical-align: top;\n",
       "    }\n",
       "\n",
       "    .dataframe thead th {\n",
       "        text-align: right;\n",
       "    }\n",
       "</style>\n",
       "<table border=\"1\" class=\"dataframe\">\n",
       "  <thead>\n",
       "    <tr style=\"text-align: right;\">\n",
       "      <th></th>\n",
       "      <th>country_from</th>\n",
       "      <th>country_to</th>\n",
       "      <th>good_n</th>\n",
       "      <th>const</th>\n",
       "      <th>phi_point_India</th>\n",
       "      <th>Residus</th>\n",
       "      <th>phi_point_China</th>\n",
       "      <th>phi_point_Vietnam</th>\n",
       "      <th>phi_point_Japan</th>\n",
       "      <th>phi_point_South Korea</th>\n",
       "    </tr>\n",
       "  </thead>\n",
       "  <tbody>\n",
       "    <tr>\n",
       "      <th>0</th>\n",
       "      <td>Indonesia</td>\n",
       "      <td>India</td>\n",
       "      <td>Coal</td>\n",
       "      <td>42822.270438</td>\n",
       "      <td>0.379618</td>\n",
       "      <td>7.971819e+06</td>\n",
       "      <td>NaN</td>\n",
       "      <td>NaN</td>\n",
       "      <td>NaN</td>\n",
       "      <td>NaN</td>\n",
       "    </tr>\n",
       "    <tr>\n",
       "      <th>1</th>\n",
       "      <td>Indonesia</td>\n",
       "      <td>China</td>\n",
       "      <td>Coal</td>\n",
       "      <td>55387.723313</td>\n",
       "      <td>NaN</td>\n",
       "      <td>1.341522e+07</td>\n",
       "      <td>0.560764</td>\n",
       "      <td>NaN</td>\n",
       "      <td>NaN</td>\n",
       "      <td>NaN</td>\n",
       "    </tr>\n",
       "    <tr>\n",
       "      <th>2</th>\n",
       "      <td>Indonesia</td>\n",
       "      <td>Vietnam</td>\n",
       "      <td>Coal</td>\n",
       "      <td>33307.432587</td>\n",
       "      <td>NaN</td>\n",
       "      <td>1.187816e+06</td>\n",
       "      <td>NaN</td>\n",
       "      <td>0.224821</td>\n",
       "      <td>NaN</td>\n",
       "      <td>NaN</td>\n",
       "    </tr>\n",
       "    <tr>\n",
       "      <th>3</th>\n",
       "      <td>Indonesia</td>\n",
       "      <td>Japan</td>\n",
       "      <td>Coal</td>\n",
       "      <td>18624.081164</td>\n",
       "      <td>NaN</td>\n",
       "      <td>3.816372e+05</td>\n",
       "      <td>NaN</td>\n",
       "      <td>NaN</td>\n",
       "      <td>0.094268</td>\n",
       "      <td>NaN</td>\n",
       "    </tr>\n",
       "    <tr>\n",
       "      <th>4</th>\n",
       "      <td>Indonesia</td>\n",
       "      <td>South Korea</td>\n",
       "      <td>Coal</td>\n",
       "      <td>22760.920052</td>\n",
       "      <td>NaN</td>\n",
       "      <td>4.098336e+05</td>\n",
       "      <td>NaN</td>\n",
       "      <td>NaN</td>\n",
       "      <td>NaN</td>\n",
       "      <td>0.144523</td>\n",
       "    </tr>\n",
       "    <tr>\n",
       "      <th>5</th>\n",
       "      <td>Australia</td>\n",
       "      <td>India</td>\n",
       "      <td>Coal</td>\n",
       "      <td>162904.049468</td>\n",
       "      <td>0.055607</td>\n",
       "      <td>1.167733e+06</td>\n",
       "      <td>NaN</td>\n",
       "      <td>NaN</td>\n",
       "      <td>NaN</td>\n",
       "      <td>NaN</td>\n",
       "    </tr>\n",
       "    <tr>\n",
       "      <th>6</th>\n",
       "      <td>Australia</td>\n",
       "      <td>China</td>\n",
       "      <td>Coal</td>\n",
       "      <td>39365.482001</td>\n",
       "      <td>NaN</td>\n",
       "      <td>1.466821e+06</td>\n",
       "      <td>0.061314</td>\n",
       "      <td>NaN</td>\n",
       "      <td>NaN</td>\n",
       "      <td>NaN</td>\n",
       "    </tr>\n",
       "    <tr>\n",
       "      <th>7</th>\n",
       "      <td>Australia</td>\n",
       "      <td>Vietnam</td>\n",
       "      <td>Coal</td>\n",
       "      <td>17403.932458</td>\n",
       "      <td>NaN</td>\n",
       "      <td>1.066193e+06</td>\n",
       "      <td>NaN</td>\n",
       "      <td>0.201801</td>\n",
       "      <td>NaN</td>\n",
       "      <td>NaN</td>\n",
       "    </tr>\n",
       "    <tr>\n",
       "      <th>8</th>\n",
       "      <td>Australia</td>\n",
       "      <td>Japan</td>\n",
       "      <td>Coal</td>\n",
       "      <td>19314.328690</td>\n",
       "      <td>NaN</td>\n",
       "      <td>1.046119e+06</td>\n",
       "      <td>NaN</td>\n",
       "      <td>NaN</td>\n",
       "      <td>0.258400</td>\n",
       "      <td>NaN</td>\n",
       "    </tr>\n",
       "    <tr>\n",
       "      <th>9</th>\n",
       "      <td>Australia</td>\n",
       "      <td>South Korea</td>\n",
       "      <td>Coal</td>\n",
       "      <td>7413.304833</td>\n",
       "      <td>NaN</td>\n",
       "      <td>3.372111e+05</td>\n",
       "      <td>NaN</td>\n",
       "      <td>NaN</td>\n",
       "      <td>NaN</td>\n",
       "      <td>0.118913</td>\n",
       "    </tr>\n",
       "    <tr>\n",
       "      <th>10</th>\n",
       "      <td>SAFR</td>\n",
       "      <td>India</td>\n",
       "      <td>Coal</td>\n",
       "      <td>94605.603856</td>\n",
       "      <td>0.044292</td>\n",
       "      <td>9.301110e+05</td>\n",
       "      <td>NaN</td>\n",
       "      <td>NaN</td>\n",
       "      <td>NaN</td>\n",
       "      <td>NaN</td>\n",
       "    </tr>\n",
       "    <tr>\n",
       "      <th>11</th>\n",
       "      <td>SAFR</td>\n",
       "      <td>China</td>\n",
       "      <td>Coal</td>\n",
       "      <td>1717.778632</td>\n",
       "      <td>NaN</td>\n",
       "      <td>1.534417e+05</td>\n",
       "      <td>0.006414</td>\n",
       "      <td>NaN</td>\n",
       "      <td>NaN</td>\n",
       "      <td>NaN</td>\n",
       "    </tr>\n",
       "    <tr>\n",
       "      <th>12</th>\n",
       "      <td>SAFR</td>\n",
       "      <td>Vietnam</td>\n",
       "      <td>Coal</td>\n",
       "      <td>-4773.877861</td>\n",
       "      <td>NaN</td>\n",
       "      <td>5.359691e+05</td>\n",
       "      <td>NaN</td>\n",
       "      <td>0.101444</td>\n",
       "      <td>NaN</td>\n",
       "      <td>NaN</td>\n",
       "    </tr>\n",
       "    <tr>\n",
       "      <th>13</th>\n",
       "      <td>SAFR</td>\n",
       "      <td>Japan</td>\n",
       "      <td>Coal</td>\n",
       "      <td>NaN</td>\n",
       "      <td>NaN</td>\n",
       "      <td>NaN</td>\n",
       "      <td>NaN</td>\n",
       "      <td>NaN</td>\n",
       "      <td>NaN</td>\n",
       "      <td>NaN</td>\n",
       "    </tr>\n",
       "    <tr>\n",
       "      <th>14</th>\n",
       "      <td>SAFR</td>\n",
       "      <td>South Korea</td>\n",
       "      <td>Coal</td>\n",
       "      <td>NaN</td>\n",
       "      <td>NaN</td>\n",
       "      <td>NaN</td>\n",
       "      <td>NaN</td>\n",
       "      <td>NaN</td>\n",
       "      <td>NaN</td>\n",
       "      <td>NaN</td>\n",
       "    </tr>\n",
       "    <tr>\n",
       "      <th>15</th>\n",
       "      <td>US</td>\n",
       "      <td>India</td>\n",
       "      <td>Coal</td>\n",
       "      <td>22083.431341</td>\n",
       "      <td>0.044318</td>\n",
       "      <td>9.306600e+05</td>\n",
       "      <td>NaN</td>\n",
       "      <td>NaN</td>\n",
       "      <td>NaN</td>\n",
       "      <td>NaN</td>\n",
       "    </tr>\n",
       "    <tr>\n",
       "      <th>16</th>\n",
       "      <td>US</td>\n",
       "      <td>China</td>\n",
       "      <td>Coal</td>\n",
       "      <td>-4551.225054</td>\n",
       "      <td>NaN</td>\n",
       "      <td>6.910918e+05</td>\n",
       "      <td>0.028888</td>\n",
       "      <td>NaN</td>\n",
       "      <td>NaN</td>\n",
       "      <td>NaN</td>\n",
       "    </tr>\n",
       "    <tr>\n",
       "      <th>17</th>\n",
       "      <td>US</td>\n",
       "      <td>Vietnam</td>\n",
       "      <td>Coal</td>\n",
       "      <td>NaN</td>\n",
       "      <td>NaN</td>\n",
       "      <td>NaN</td>\n",
       "      <td>NaN</td>\n",
       "      <td>NaN</td>\n",
       "      <td>NaN</td>\n",
       "      <td>NaN</td>\n",
       "    </tr>\n",
       "    <tr>\n",
       "      <th>18</th>\n",
       "      <td>US</td>\n",
       "      <td>Japan</td>\n",
       "      <td>Coal</td>\n",
       "      <td>3365.080671</td>\n",
       "      <td>NaN</td>\n",
       "      <td>1.401510e+05</td>\n",
       "      <td>NaN</td>\n",
       "      <td>NaN</td>\n",
       "      <td>0.034618</td>\n",
       "      <td>NaN</td>\n",
       "    </tr>\n",
       "    <tr>\n",
       "      <th>19</th>\n",
       "      <td>US</td>\n",
       "      <td>South Korea</td>\n",
       "      <td>Coal</td>\n",
       "      <td>NaN</td>\n",
       "      <td>NaN</td>\n",
       "      <td>NaN</td>\n",
       "      <td>NaN</td>\n",
       "      <td>NaN</td>\n",
       "      <td>NaN</td>\n",
       "      <td>NaN</td>\n",
       "    </tr>\n",
       "    <tr>\n",
       "      <th>20</th>\n",
       "      <td>Russia</td>\n",
       "      <td>India</td>\n",
       "      <td>Coal</td>\n",
       "      <td>23977.448555</td>\n",
       "      <td>0.007545</td>\n",
       "      <td>1.584427e+05</td>\n",
       "      <td>NaN</td>\n",
       "      <td>NaN</td>\n",
       "      <td>NaN</td>\n",
       "      <td>NaN</td>\n",
       "    </tr>\n",
       "    <tr>\n",
       "      <th>21</th>\n",
       "      <td>Russia</td>\n",
       "      <td>China</td>\n",
       "      <td>Coal</td>\n",
       "      <td>17198.260890</td>\n",
       "      <td>NaN</td>\n",
       "      <td>1.471266e+06</td>\n",
       "      <td>0.061500</td>\n",
       "      <td>NaN</td>\n",
       "      <td>NaN</td>\n",
       "      <td>NaN</td>\n",
       "    </tr>\n",
       "    <tr>\n",
       "      <th>22</th>\n",
       "      <td>Russia</td>\n",
       "      <td>Vietnam</td>\n",
       "      <td>Coal</td>\n",
       "      <td>9396.421765</td>\n",
       "      <td>NaN</td>\n",
       "      <td>2.144504e+04</td>\n",
       "      <td>NaN</td>\n",
       "      <td>0.004059</td>\n",
       "      <td>NaN</td>\n",
       "      <td>NaN</td>\n",
       "    </tr>\n",
       "    <tr>\n",
       "      <th>23</th>\n",
       "      <td>Russia</td>\n",
       "      <td>Japan</td>\n",
       "      <td>Coal</td>\n",
       "      <td>16000.857468</td>\n",
       "      <td>NaN</td>\n",
       "      <td>1.492675e+05</td>\n",
       "      <td>NaN</td>\n",
       "      <td>NaN</td>\n",
       "      <td>-0.036870</td>\n",
       "      <td>NaN</td>\n",
       "    </tr>\n",
       "    <tr>\n",
       "      <th>24</th>\n",
       "      <td>Russia</td>\n",
       "      <td>South Korea</td>\n",
       "      <td>Coal</td>\n",
       "      <td>33542.021874</td>\n",
       "      <td>NaN</td>\n",
       "      <td>9.208958e+04</td>\n",
       "      <td>NaN</td>\n",
       "      <td>NaN</td>\n",
       "      <td>NaN</td>\n",
       "      <td>-0.032474</td>\n",
       "    </tr>\n",
       "  </tbody>\n",
       "</table>\n",
       "</div>"
      ],
      "text/plain": [
       "   country_from   country_to good_n          const  phi_point_India       Residus  phi_point_China  phi_point_Vietnam  phi_point_Japan  phi_point_South Korea\n",
       "0     Indonesia        India   Coal   42822.270438         0.379618  7.971819e+06              NaN                NaN              NaN                    NaN\n",
       "1     Indonesia        China   Coal   55387.723313              NaN  1.341522e+07         0.560764                NaN              NaN                    NaN\n",
       "2     Indonesia      Vietnam   Coal   33307.432587              NaN  1.187816e+06              NaN           0.224821              NaN                    NaN\n",
       "3     Indonesia        Japan   Coal   18624.081164              NaN  3.816372e+05              NaN                NaN         0.094268                    NaN\n",
       "4     Indonesia  South Korea   Coal   22760.920052              NaN  4.098336e+05              NaN                NaN              NaN               0.144523\n",
       "5     Australia        India   Coal  162904.049468         0.055607  1.167733e+06              NaN                NaN              NaN                    NaN\n",
       "6     Australia        China   Coal   39365.482001              NaN  1.466821e+06         0.061314                NaN              NaN                    NaN\n",
       "7     Australia      Vietnam   Coal   17403.932458              NaN  1.066193e+06              NaN           0.201801              NaN                    NaN\n",
       "8     Australia        Japan   Coal   19314.328690              NaN  1.046119e+06              NaN                NaN         0.258400                    NaN\n",
       "9     Australia  South Korea   Coal    7413.304833              NaN  3.372111e+05              NaN                NaN              NaN               0.118913\n",
       "10         SAFR        India   Coal   94605.603856         0.044292  9.301110e+05              NaN                NaN              NaN                    NaN\n",
       "11         SAFR        China   Coal    1717.778632              NaN  1.534417e+05         0.006414                NaN              NaN                    NaN\n",
       "12         SAFR      Vietnam   Coal   -4773.877861              NaN  5.359691e+05              NaN           0.101444              NaN                    NaN\n",
       "13         SAFR        Japan   Coal            NaN              NaN           NaN              NaN                NaN              NaN                    NaN\n",
       "14         SAFR  South Korea   Coal            NaN              NaN           NaN              NaN                NaN              NaN                    NaN\n",
       "15           US        India   Coal   22083.431341         0.044318  9.306600e+05              NaN                NaN              NaN                    NaN\n",
       "16           US        China   Coal   -4551.225054              NaN  6.910918e+05         0.028888                NaN              NaN                    NaN\n",
       "17           US      Vietnam   Coal            NaN              NaN           NaN              NaN                NaN              NaN                    NaN\n",
       "18           US        Japan   Coal    3365.080671              NaN  1.401510e+05              NaN                NaN         0.034618                    NaN\n",
       "19           US  South Korea   Coal            NaN              NaN           NaN              NaN                NaN              NaN                    NaN\n",
       "20       Russia        India   Coal   23977.448555         0.007545  1.584427e+05              NaN                NaN              NaN                    NaN\n",
       "21       Russia        China   Coal   17198.260890              NaN  1.471266e+06         0.061500                NaN              NaN                    NaN\n",
       "22       Russia      Vietnam   Coal    9396.421765              NaN  2.144504e+04              NaN           0.004059              NaN                    NaN\n",
       "23       Russia        Japan   Coal   16000.857468              NaN  1.492675e+05              NaN                NaN        -0.036870                    NaN\n",
       "24       Russia  South Korea   Coal   33542.021874              NaN  9.208958e+04              NaN                NaN              NaN              -0.032474"
      ]
     },
     "execution_count": 28,
     "metadata": {},
     "output_type": "execute_result"
    }
   ],
   "source": [
    "# Définir le nombre de lignes (par exemple 5 lignes)\n",
    "n_rows = 25\n",
    "export_pays=['Indonesia', 'Australia', 'SAFR', 'US', 'Russia']\n",
    "\n",
    "import_pays=['India', 'China', 'Vietnam', 'Japan', 'South Korea']\n",
    "\n",
    "\n",
    "# Définir le nom des 9 colonnes\n",
    "columns = ['country_from', 'country_to', 'good_n', 'intercept', 'phi_point_China', 'phi_point_India', 'phi_point_Japan', 'phi_point_South_Korea', 'phi_point_Vietnam','Residus']\n",
    "\n",
    "# Créer un DataFrame vide rempli de zéros (ou NaN si tu préfères)\n",
    "regression_lst = []\n",
    "\n",
    "k=0\n",
    "for i in export_pays:\n",
    "    for j in import_pays:\n",
    "        regression_lst.append(df_regression_col(i,j,'Coal', keep_all=False, dataset=slice_of(data_coal, '2016-06-01', '2020-02-01')))\n",
    "        \n",
    "regression_df = pandas.DataFrame(regression_lst)\n",
    "regression_df"
   ]
  },
  {
   "cell_type": "code",
   "execution_count": 29,
   "id": "883f6142-ac9c-483d-98c9-2967b052b600",
   "metadata": {},
   "outputs": [],
   "source": [
    "\n",
    "\n",
    "\n",
    "if False:\n",
    "    \n",
    "    # Définir le nombre de lignes (par exemple 5 lignes)\n",
    "    n_rows = 25\n",
    "    export_pays=['Indonesia', 'Australia', 'SAFR', 'US', 'Russia']\n",
    "    \n",
    "    import_pays=['India', 'China', 'Vietnam', 'Japan', 'South Korea']\n",
    "    \n",
    "    \n",
    "    # Définir le nom des 9 colonnes\n",
    "    columns = ['country_from', 'country_to', 'good_n', 'intercept', 'phi_point_China', 'phi_point_India', 'phi_point_Japan', 'phi_point_South_Korea', 'phi_point_Vietnam','Residus']\n",
    "    \n",
    "    # Créer un DataFrame vide rempli de zéros (ou NaN si tu préfères)\n",
    "    regression_df = pandas.DataFrame(\"\", index=range(n_rows), columns=columns)\n",
    "    \n",
    "    k=0\n",
    "    for i in export_pays:\n",
    "        for j in import_pays:\n",
    "            regression_df.loc[k]=df_regression(i,j,'Coal')\n",
    "            k=k+1\n",
    "    print(regression_df)\n",
    "    \n",
    "    \n",
    "    print(regression_df.loc[0:4,'intercept'].tolist())\n"
   ]
  },
  {
   "cell_type": "code",
   "execution_count": 30,
   "id": "673dbaea-1b95-4bb6-b48e-1f12b85082c0",
   "metadata": {},
   "outputs": [
    {
     "data": {
      "image/png": "[encoded data removed]",
      "text/plain": [
       "<Figure size 1200x600 with 1 Axes>"
      ]
     },
     "metadata": {},
     "output_type": "display_data"
    },
    {
     "name": "stdout",
     "output_type": "stream",
     "text": [
      "country_to\n",
      "India          455005.009245\n",
      "Japan           31024.816810\n",
      "China          451499.730090\n",
      "Vietnam         71916.303833\n",
      "South Korea     41319.371196\n",
      "Other_imp      323216.377696\n",
      "dtype: float64\n"
     ]
    }
   ],
   "source": [
    "\n",
    "\n",
    "# Suppose que tes intercepts contiennent des négatifs\n",
    "Aij_values = regression_df.loc[0:4, 'const'].tolist()\n",
    "country = regression_df.loc[0:4, 'country_to'].tolist()\n",
    "mean_values_Qij_phii=Q_i_j_phi_i[('Indonesia')].mean()\n",
    "#print(Aij_values)  # Vérifie qu’il y a des négatifs ici\n",
    "\n",
    "plt.figure(figsize=(12, 6))\n",
    "bars = plt.bar(country, Aij_values, color='skyblue', edgecolor='black')\n",
    "#bars_2 = plt.bar(country, mean_values_Qij_phii, color='skyblue', edgecolor='black')\n",
    "# Ligne horizontale pour l'axe zéro\n",
    "plt.axhline(0, color='black', linewidth=1)\n",
    "\n",
    "# Afficher la valeur sur chaque barre\n",
    "for bar in bars:\n",
    "    yval = bar.get_height()\n",
    "    plt.text(bar.get_x() + bar.get_width()/2, yval,\n",
    "             f'{yval:.0f}',\n",
    "             va='bottom' if yval >= 0 else 'top',\n",
    "             ha='center')\n",
    "\n",
    "plt.xticks(rotation=45, ha='right')\n",
    "plt.ylabel(r'$A_{ij}$ Value')\n",
    "plt.title(r'Value of $A_{ij}$ of good from Indonesia')\n",
    "\n",
    "plt.tight_layout()\n",
    "plt.show()\n",
    "print(Q_i_j_phi_i[('Indonesia')].mean())"
   ]
  },
  {
   "cell_type": "code",
   "execution_count": null,
   "id": "6347910d-03ea-40bf-a7a6-06ca846c851c",
   "metadata": {},
   "outputs": [],
   "source": []
  },
  {
   "cell_type": "code",
   "execution_count": null,
   "id": "6c32e7c2-172c-461e-a593-a04fa0e784d8",
   "metadata": {},
   "outputs": [],
   "source": []
  },
  {
   "cell_type": "code",
   "execution_count": null,
   "id": "ebd128be-7026-4f27-85c2-d36ded16f6c8",
   "metadata": {},
   "outputs": [],
   "source": []
  },
  {
   "cell_type": "code",
   "execution_count": 31,
   "id": "4b359a50-2136-4323-9247-cf68a449ccd5",
   "metadata": {},
   "outputs": [
    {
     "data": {
      "text/plain": [
       "<Axes: xlabel='Date'>"
      ]
     },
     "execution_count": 31,
     "metadata": {},
     "output_type": "execute_result"
    },
    {
     "data": {
      "image/png": "[encoded data removed]",
      "text/plain": [
       "<Figure size 1200x500 with 1 Axes>"
      ]
     },
     "metadata": {},
     "output_type": "display_data"
    }
   ],
   "source": [
    "pandas.DataFrame([Q_i_j_phi_i[('Indonesia'), 'China'].rename('out_flow'),\n",
    "phi_point['China'].rename('congestion_China')]).T.dropna().plot(figsize=(12,5),grid=True, logy=False)"
   ]
  },
  {
   "cell_type": "code",
   "execution_count": 32,
   "id": "23e94e40-0034-41a2-ab7d-d80f39634a4a",
   "metadata": {},
   "outputs": [
    {
     "data": {
      "text/plain": [
       "<Axes: xlabel='Date'>"
      ]
     },
     "execution_count": 32,
     "metadata": {},
     "output_type": "execute_result"
    },
    {
     "data": {
      "image/png": "[encoded data removed]",
      "text/plain": [
       "<Figure size 1200x500 with 1 Axes>"
      ]
     },
     "metadata": {},
     "output_type": "display_data"
    }
   ],
   "source": [
    "pandas.DataFrame([\n",
    "    Q_i_j_phi_i[('Indonesia'), 'China'].rename('out_flow'),\n",
    "    phi_point['China'].rename('congestion_China')\n",
    "]).T.dropna().diff(axis=1)['congestion_China'].rolling(120).mean().plot(figsize=(12,5),grid=True, logy=False)\n"
   ]
  },
  {
   "cell_type": "code",
   "execution_count": null,
   "id": "4745b73c-bade-4037-81f6-94f41b2b3a8f",
   "metadata": {},
   "outputs": [],
   "source": []
  },
  {
   "cell_type": "code",
   "execution_count": 33,
   "id": "778493eb-0000-4c63-ae64-73c703ba1abb",
   "metadata": {},
   "outputs": [
    {
     "data": {
      "text/plain": [
       "<Axes: xlabel='Date'>"
      ]
     },
     "execution_count": 33,
     "metadata": {},
     "output_type": "execute_result"
    },
    {
     "data": {
      "image/png": "[encoded data removed]",
      "text/plain": [
       "<Figure size 1200x500 with 1 Axes>"
      ]
     },
     "metadata": {},
     "output_type": "display_data"
    }
   ],
   "source": [
    "pandas.DataFrame([ pandas.DataFrame([\n",
    "    Q_i_j_phi_i[('Indonesia'), c_to].rename('out_flow'),\n",
    "    phi_point[c_to].rename(f'congestion_{c_to}')\n",
    "]).T.dropna().diff(axis=1)[f'congestion_{c_to}'] for c_to in Q_i_j_phi_i['Indonesia'].columns if c_to!='Other_imp' ]).T.rolling(120).mean()['2016-06-01':'2020-02-01'].plot(figsize=(12,5),grid=True, logy=False)"
   ]
  },
  {
   "cell_type": "code",
   "execution_count": 34,
   "id": "550a5e5b-b164-469c-af50-6c06cfa34d3d",
   "metadata": {},
   "outputs": [
    {
     "data": {
      "text/html": [
       "<div>\n",
       "<style scoped>\n",
       "    .dataframe tbody tr th:only-of-type {\n",
       "        vertical-align: middle;\n",
       "    }\n",
       "\n",
       "    .dataframe tbody tr th {\n",
       "        vertical-align: top;\n",
       "    }\n",
       "\n",
       "    .dataframe thead th {\n",
       "        text-align: right;\n",
       "    }\n",
       "</style>\n",
       "<table border=\"1\" class=\"dataframe\">\n",
       "  <thead>\n",
       "    <tr style=\"text-align: right;\">\n",
       "      <th></th>\n",
       "      <th>country_from</th>\n",
       "      <th>country_to</th>\n",
       "      <th>good_n</th>\n",
       "      <th>const</th>\n",
       "      <th>phi_point_India</th>\n",
       "      <th>Residus</th>\n",
       "      <th>phi_point_China</th>\n",
       "      <th>phi_point_Vietnam</th>\n",
       "      <th>phi_point_Japan</th>\n",
       "      <th>phi_point_South Korea</th>\n",
       "    </tr>\n",
       "  </thead>\n",
       "  <tbody>\n",
       "    <tr>\n",
       "      <th>0</th>\n",
       "      <td>Indonesia</td>\n",
       "      <td>India</td>\n",
       "      <td>Coal</td>\n",
       "      <td>42822.270438</td>\n",
       "      <td>0.379618</td>\n",
       "      <td>7.971819e+06</td>\n",
       "      <td>NaN</td>\n",
       "      <td>NaN</td>\n",
       "      <td>NaN</td>\n",
       "      <td>NaN</td>\n",
       "    </tr>\n",
       "    <tr>\n",
       "      <th>1</th>\n",
       "      <td>Indonesia</td>\n",
       "      <td>China</td>\n",
       "      <td>Coal</td>\n",
       "      <td>55387.723313</td>\n",
       "      <td>NaN</td>\n",
       "      <td>1.341522e+07</td>\n",
       "      <td>0.560764</td>\n",
       "      <td>NaN</td>\n",
       "      <td>NaN</td>\n",
       "      <td>NaN</td>\n",
       "    </tr>\n",
       "    <tr>\n",
       "      <th>2</th>\n",
       "      <td>Indonesia</td>\n",
       "      <td>Vietnam</td>\n",
       "      <td>Coal</td>\n",
       "      <td>33307.432587</td>\n",
       "      <td>NaN</td>\n",
       "      <td>1.187816e+06</td>\n",
       "      <td>NaN</td>\n",
       "      <td>0.224821</td>\n",
       "      <td>NaN</td>\n",
       "      <td>NaN</td>\n",
       "    </tr>\n",
       "    <tr>\n",
       "      <th>3</th>\n",
       "      <td>Indonesia</td>\n",
       "      <td>Japan</td>\n",
       "      <td>Coal</td>\n",
       "      <td>18624.081164</td>\n",
       "      <td>NaN</td>\n",
       "      <td>3.816372e+05</td>\n",
       "      <td>NaN</td>\n",
       "      <td>NaN</td>\n",
       "      <td>0.094268</td>\n",
       "      <td>NaN</td>\n",
       "    </tr>\n",
       "    <tr>\n",
       "      <th>4</th>\n",
       "      <td>Indonesia</td>\n",
       "      <td>South Korea</td>\n",
       "      <td>Coal</td>\n",
       "      <td>22760.920052</td>\n",
       "      <td>NaN</td>\n",
       "      <td>4.098336e+05</td>\n",
       "      <td>NaN</td>\n",
       "      <td>NaN</td>\n",
       "      <td>NaN</td>\n",
       "      <td>0.144523</td>\n",
       "    </tr>\n",
       "  </tbody>\n",
       "</table>\n",
       "</div>"
      ],
      "text/plain": [
       "  country_from   country_to good_n         const  phi_point_India       Residus  phi_point_China  phi_point_Vietnam  phi_point_Japan  phi_point_South Korea\n",
       "0    Indonesia        India   Coal  42822.270438         0.379618  7.971819e+06              NaN                NaN              NaN                    NaN\n",
       "1    Indonesia        China   Coal  55387.723313              NaN  1.341522e+07         0.560764                NaN              NaN                    NaN\n",
       "2    Indonesia      Vietnam   Coal  33307.432587              NaN  1.187816e+06              NaN           0.224821              NaN                    NaN\n",
       "3    Indonesia        Japan   Coal  18624.081164              NaN  3.816372e+05              NaN                NaN         0.094268                    NaN\n",
       "4    Indonesia  South Korea   Coal  22760.920052              NaN  4.098336e+05              NaN                NaN              NaN               0.144523"
      ]
     },
     "execution_count": 34,
     "metadata": {},
     "output_type": "execute_result"
    }
   ],
   "source": [
    "regression_df[regression_df.country_from=='Indonesia']"
   ]
  },
  {
   "cell_type": "code",
   "execution_count": 35,
   "id": "ccab4662-49e4-4ea9-b1c1-b4e111d444f0",
   "metadata": {},
   "outputs": [
    {
     "data": {
      "text/plain": [
       "<Axes: ylabel='country_to'>"
      ]
     },
     "execution_count": 35,
     "metadata": {},
     "output_type": "execute_result"
    },
    {
     "data": {
      "image/png": "[encoded data removed]",
      "text/plain": [
       "<Figure size 640x480 with 1 Axes>"
      ]
     },
     "metadata": {},
     "output_type": "display_data"
    }
   ],
   "source": [
    "(pandas.concat([\n",
    "    regression_df[regression_df.country_from=='Indonesia'].set_index('country_to')['const'],\n",
    "    Q_i_j_phi_i[('Indonesia')].mean().rename('mean_flow'),\n",
    "    phi_point.mean().rename('congestion_indicator'),\n",
    "    regression_df[regression_df.country_from=='Indonesia'].set_index('country_to')['Residus']\n",
    "], axis=1)\n",
    " .plot(kind='barh', logx=True, grid=True)\n",
    ")"
   ]
  },
  {
   "cell_type": "code",
   "execution_count": 36,
   "id": "83daab74-27f7-4991-bcae-ce5295683f72",
   "metadata": {},
   "outputs": [
    {
     "data": {
      "text/plain": [
       "<Axes: ylabel='country_to'>"
      ]
     },
     "execution_count": 36,
     "metadata": {},
     "output_type": "execute_result"
    },
    {
     "data": {
      "image/png": "[encoded data removed]",
      "text/plain": [
       "<Figure size 640x480 with 1 Axes>"
      ]
     },
     "metadata": {},
     "output_type": "display_data"
    }
   ],
   "source": [
    "(pandas.concat([\n",
    "    regression_df[regression_df.country_from=='Australia'].set_index('country_to')['const'],\n",
    "    Q_i_j_phi_i[('Australia')].mean().rename('mean_flow'),\n",
    "    phi_point.mean().rename('congestion_indicator'),\n",
    "    regression_df[regression_df.country_from=='Australia'].set_index('country_to')['Residus']\n",
    "], axis=1)\n",
    " .plot(kind='barh', logx=True, grid=True)\n",
    ")"
   ]
  },
  {
   "cell_type": "code",
   "execution_count": null,
   "id": "41f51c68-2bef-4b71-bd50-7374c8e09133",
   "metadata": {},
   "outputs": [],
   "source": []
  },
  {
   "cell_type": "code",
   "execution_count": null,
   "id": "8e7ed3a2-ec80-4c82-b6ab-94c82f0045dd",
   "metadata": {},
   "outputs": [],
   "source": []
  }
 ],
 "metadata": {
  "kernelspec": {
   "display_name": "Python 3 (ipykernel)",
   "language": "python",
   "name": "python3"
  },
  "language_info": {
   "codemirror_mode": {
    "name": "ipython",
    "version": 3
   },
   "file_extension": ".py",
   "mimetype": "text/x-python",
   "name": "python",
   "nbconvert_exporter": "python",
   "pygments_lexer": "ipython3",
   "version": "3.10.8"
  }
 },
 "nbformat": 4,
 "nbformat_minor": 5
}
